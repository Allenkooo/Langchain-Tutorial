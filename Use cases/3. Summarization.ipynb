{
 "cells": [
  {
   "cell_type": "code",
   "execution_count": 1,
   "metadata": {},
   "outputs": [],
   "source": [
    "from langchain.document_loaders import NotionDirectoryLoader\n",
    "from langchain.text_splitter import MarkdownTextSplitter\n",
    "from langchain.chains.summarize import load_summarize_chain\n",
    "from langchain import PromptTemplate\n",
    "from langchain_setup import ChatOpenAI, tracing_v2_enabled_if_api_key_set"
   ]
  },
  {
   "attachments": {},
   "cell_type": "markdown",
   "metadata": {},
   "source": [
    "# Summarization\n",
    "如在 4. Data Utilization 所說，如何處理多個 documents 有數種架構，以下我們示範如何用 map_reduce 架構對多個 documents 寫出一個摘要"
   ]
  },
  {
   "cell_type": "code",
   "execution_count": 2,
   "metadata": {},
   "outputs": [],
   "source": [
    "loader = NotionDirectoryLoader('../data/notion')\n",
    "documents = loader.load()\n",
    "splitter = MarkdownTextSplitter(chunk_size=500, chunk_overlap=200)\n",
    "documents = splitter.split_documents(documents=documents)\n",
    "\n",
    "prompt = PromptTemplate(\n",
    "    input_variables=[\"text\"],\n",
    "    template=\"請為下面的文章段落寫一句精準的摘要:\\n\\n\\n「{text}」\\n\\n\\n精準摘要:\",\n",
    ") # 原本預設的 prompt 的中文翻譯而已\n",
    "\n",
    "chain = load_summarize_chain(\n",
    "    llm=ChatOpenAI(), \n",
    "    chain_type=\"map_reduce\", \n",
    "    verbose=False,\n",
    "    map_prompt=prompt, # 為每個 document 寫一個摘要\n",
    "    combine_prompt=prompt, # 對所有摘要寫一個摘要\n",
    ")"
   ]
  },
  {
   "attachments": {},
   "cell_type": "markdown",
   "metadata": {},
   "source": [
    "這個 Chain 裡面會有兩個 chain。一個是 llm_chain，負責對每個文件產生摘要。第二個是 combine_document_chain, 會把所有摘要在摘要一次，而執行者是它底下的另一個 llm_chain。"
   ]
  },
  {
   "cell_type": "code",
   "execution_count": 3,
   "metadata": {},
   "outputs": [
    {
     "name": "stdout",
     "output_type": "stream",
     "text": [
      "<class 'langchain.chains.combine_documents.map_reduce.MapReduceDocumentsChain'>\n",
      "======為每個文件寫摘要的 Prompt:======\n",
      "請為下面的文章段落寫一句精準的摘要:\n",
      "\n",
      "\n",
      "「{text}」\n",
      "\n",
      "\n",
      "精準摘要:\n",
      "======對所有摘要寫摘要的 Prompt:======\n",
      "請為下面的文章段落寫一句精準的摘要:\n",
      "\n",
      "\n",
      "「{text}」\n",
      "\n",
      "\n",
      "精準摘要:\n"
     ]
    }
   ],
   "source": [
    "print(type(chain))\n",
    "print(\"======為每個文件寫摘要的 Prompt:======\")\n",
    "print(chain.llm_chain.prompt.template)\n",
    "print(\"======對所有摘要寫摘要的 Prompt:======\")\n",
    "print(chain.combine_document_chain.llm_chain.prompt.template)"
   ]
  },
  {
   "cell_type": "code",
   "execution_count": 4,
   "metadata": {},
   "outputs": [
    {
     "name": "stdout",
     "output_type": "stream",
     "text": [
      "本文介紹了日本最具代表性的軟體開發手法-隕石落下型開發，強調了其快速但容易出現問題的特點。文章提到了敏捷式開發的循環以及隕石落下式開發法，並指出計畫是由天界的一己之願來訂定，回饋無法傳達到神的耳裡，只能透過祈禱上達天聽。文章還提到了不同形式的神明以及可能發生的諸神黃昏和聖戰事件，並指出人們只能祈禱能儘早適應這些情況。\n",
      "[LangSmith URL]: https://smith.langchain.com/o/34ec837d-8405-462d-b949-fdfaebda792b/projects/p/fdcbda35-4d3a-418b-ab49-7e3205e630a6/r/6124d0d5-ae80-4733-b16e-e6c6fdb5fca6?poll=true\n"
     ]
    }
   ],
   "source": [
    "with tracing_v2_enabled_if_api_key_set(project_name='tutorial'):\n",
    "    output = chain.run(documents)\n",
    "    print(output)"
   ]
  }
 ],
 "metadata": {
  "kernelspec": {
   "display_name": "bot",
   "language": "python",
   "name": "python3"
  },
  "language_info": {
   "codemirror_mode": {
    "name": "ipython",
    "version": 3
   },
   "file_extension": ".py",
   "mimetype": "text/x-python",
   "name": "python",
   "nbconvert_exporter": "python",
   "pygments_lexer": "ipython3",
   "version": "3.10.12"
  },
  "orig_nbformat": 4
 },
 "nbformat": 4,
 "nbformat_minor": 2
}
