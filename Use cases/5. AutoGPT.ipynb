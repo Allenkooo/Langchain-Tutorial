{
 "cells": [
  {
   "cell_type": "code",
   "execution_count": 1,
   "metadata": {},
   "outputs": [],
   "source": [
    "from pathlib import Path\n",
    "from langchain.utilities import DuckDuckGoSearchAPIWrapper\n",
    "from langchain.agents import Tool\n",
    "from langchain.tools.file_management.write import WriteFileTool\n",
    "from langchain.tools.file_management.read import ReadFileTool\n",
    "from langchain.embeddings import OpenAIEmbeddings\n",
    "from langchain_experimental.autonomous_agents import AutoGPT\n",
    "\n",
    "from langchain_setup import ChatOpenAI, tracing_v2_enabled_if_api_key_set\n",
    "from langchain_setup.qdrant import create_inmemory_empty_qdrant"
   ]
  },
  {
   "attachments": {},
   "cell_type": "markdown",
   "metadata": {},
   "source": [
    "# Tools"
   ]
  },
  {
   "cell_type": "code",
   "execution_count": 2,
   "metadata": {},
   "outputs": [],
   "source": [
    "root_dir = str(Path('../data/autogpt/').resolve())\n",
    "\n",
    "search = DuckDuckGoSearchAPIWrapper()\n",
    "tools = [\n",
    "    Tool(\n",
    "        name=\"search\",\n",
    "        func=search.run,\n",
    "        description=\"useful for when you need to answer questions about current events. You should ask targeted questions\",\n",
    "    ),\n",
    "    WriteFileTool(root_dir=root_dir),\n",
    "    ReadFileTool(root_dir=root_dir),\n",
    "]"
   ]
  },
  {
   "attachments": {},
   "cell_type": "markdown",
   "metadata": {},
   "source": [
    "# Memory\n",
    "儲存 agent 在執行過程中產生的文檔、紀錄，方便之後抽取 (retrieval)"
   ]
  },
  {
   "cell_type": "code",
   "execution_count": 3,
   "metadata": {},
   "outputs": [],
   "source": [
    "vectorstore = create_inmemory_empty_qdrant()"
   ]
  },
  {
   "attachments": {},
   "cell_type": "markdown",
   "metadata": {},
   "source": [
    "# 建立 AutoGPT"
   ]
  },
  {
   "cell_type": "code",
   "execution_count": 4,
   "metadata": {},
   "outputs": [],
   "source": [
    "agent = AutoGPT.from_llm_and_tools(\n",
    "    ai_name=\"Tom\",\n",
    "    ai_role=\"Assistant\",\n",
    "    tools=tools,\n",
    "    llm=ChatOpenAI(temperature=0),\n",
    "    memory=vectorstore.as_retriever(),\n",
    "    # chat_history_memory= default using ChatMessageHistory\n",
    ")"
   ]
  },
  {
   "attachments": {},
   "cell_type": "markdown",
   "metadata": {},
   "source": [
    "# Run"
   ]
  },
  {
   "cell_type": "code",
   "execution_count": 5,
   "metadata": {},
   "outputs": [
    {
     "name": "stdout",
     "output_type": "stream",
     "text": [
      "{\n",
      "  \"thoughts\": {\n",
      "    \"text\": \"Since I don't have any specific tasks at the moment, I should start by gathering information about Taiwan Semiconductor Manufacturing Co., Ltd. (TSMC) for the investment analysis report. I can use the 'search' command to find relevant information.\",\n",
      "    \"reasoning\": \"I need to gather information about TSMC to analyze its investment potential.\",\n",
      "    \"plan\": \"- Use the 'search' command to find information about TSMC\\n- Analyze the gathered information\\n- Write the investment analysis report\",\n",
      "    \"criticism\": \"I need to make sure I gather accurate and up-to-date information about TSMC to provide an accurate analysis.\",\n",
      "    \"speak\": \"I will start by searching for information about Taiwan Semiconductor Manufacturing Co., Ltd. (TSMC) to gather data for the investment analysis report.\"\n",
      "  },\n",
      "  \"command\": {\n",
      "    \"name\": \"search\",\n",
      "    \"args\": {\n",
      "      \"tool_input\": \"Taiwan Semiconductor Manufacturing Co., Ltd. (TSMC)\"\n",
      "    }\n",
      "  }\n",
      "}\n",
      "{\n",
      "  \"thoughts\": {\n",
      "    \"text\": \"Now that I have gathered some information about TSMC, I should analyze the gathered information to assess its investment potential. Once I have analyzed the data, I can proceed to write the investment analysis report.\",\n",
      "    \"reasoning\": \"Analyzing the gathered information will help me evaluate TSMC's financial performance, market position, and growth prospects.\",\n",
      "    \"plan\": \"- Analyze the gathered information about TSMC\\n- Evaluate TSMC's financial performance, market position, and growth prospects\\n- Write the investment analysis report\",\n",
      "    \"criticism\": \"I need to ensure that my analysis is thorough and based on accurate information to provide an accurate investment assessment.\",\n",
      "    \"speak\": \"Now that I have gathered information about TSMC, I will analyze it to assess its investment potential.\"\n",
      "  },\n",
      "  \"command\": {\n",
      "    \"name\": \"write_file\",\n",
      "    \"args\": {\n",
      "      \"file_path\": \"investment_analysis_report.txt\",\n",
      "      \"text\": \"Investment Analysis Report for Taiwan Semiconductor Manufacturing Co., Ltd. (TSMC)\\n\\nIntroduction:\\n\\nTSMC is a leading semiconductor foundry headquartered in Hsinchu, Taiwan. It is known for its advanced manufacturing capabilities, including 7-nanometer production. The company plays a crucial role in the global semiconductor industry and has a significant impact on Taiwan's economy.\\n\\nFinancial Performance:\\n\\nTSMC has consistently delivered strong financial results, with revenue of $150.27 billion in the last fiscal year. This represents a significant portion of Taiwan's GDP, highlighting the company's importance to the country's economy.\\n\\nMarket Position:\\n\\nTSMC holds a dominant position in the semiconductor foundry market, with a market share of nearly 50%. The company's advanced technology and manufacturing capabilities have enabled it to attract major clients and maintain a competitive edge.\\n\\nGrowth Prospects:\\n\\nTSMC's future growth prospects are promising, driven by increasing demand for advanced semiconductor chips in various industries, including smartphones, automotive, and artificial intelligence. The company's ongoing investments in research and development and capacity expansion further support its growth potential.\\n\\nConclusion:\\n\\nBased on the analysis of TSMC's financial performance, market position, and growth prospects, it is evident that the company offers a strong investment opportunity. Its leadership in the semiconductor foundry market, strong financial performance, and promising growth prospects make it an attractive choice for investors.\\n\\nReferences:\\n\\n1. Reuters. (2023, October 17). Taiwan Semiconductor Manufacturing Co Ltd. Retrieved from [link]\\n2. Reuters. (2023, December 29). Chipmaker Taiwan Semiconductor Manufacturing Company Ltd (TSMC) began mass production of its most advanced chips in southern Taiwan. Retrieved from [link]\",\n",
      "      \"append\": false\n",
      "    }\n",
      "  }\n",
      "}\n",
      "{\n",
      "  \"thoughts\": {\n",
      "    \"text\": \"Now that I have written the investment analysis report for TSMC, I can consider my objectives complete. I will use the 'finish' command to signal that I have finished all my tasks.\",\n",
      "    \"reasoning\": \"I have completed the task of writing the investment analysis report for TSMC.\",\n",
      "    \"plan\": \"- Use the 'finish' command to signal completion of all tasks\",\n",
      "    \"criticism\": \"I need to ensure that I have addressed all the objectives and tasks before using the 'finish' command.\",\n",
      "    \"speak\": \"I have completed writing the investment analysis report for TSMC. I will now use the 'finish' command to signal that I have finished all my tasks.\"\n",
      "  },\n",
      "  \"command\": {\n",
      "    \"name\": \"finish\",\n",
      "    \"args\": {\n",
      "      \"response\": \"I have finished all my objectives.\"\n",
      "    }\n",
      "  }\n",
      "}\n",
      "[LangSmith URL]: https://smith.langchain.com/o/34ec837d-8405-462d-b949-fdfaebda792b/projects/p/fdcbda35-4d3a-418b-ab49-7e3205e630a6/r/2c290e32-1866-49ae-90ad-7e6bda2b0228?poll=true\n"
     ]
    }
   ],
   "source": [
    "with tracing_v2_enabled_if_api_key_set(project_name='tutorial'):\n",
    "    agent.run([\"Write a brief investment analysis report for Taiwan Semiconductor Manufacturing Co., Ltd. (TSMC).\"])"
   ]
  },
  {
   "attachments": {},
   "cell_type": "markdown",
   "metadata": {},
   "source": [
    "# Explain"
   ]
  },
  {
   "attachments": {},
   "cell_type": "markdown",
   "metadata": {},
   "source": [
    "AutoGPT 有兩個 memory, `memory` (vectorstore of Historical AI respones) 和 `chat_history_memory` (messages of chat history)\n",
    "1. 在構成 Prompt 時，會以前 10 messages 從 `memory` 抽取相關的過去的 AI 回答，將過去的 AI 回答以相關性由高到低插入 Prompt 的 AI reply 段落中，Prompt 中原本寫好的設定和抽取進來的過去 AI 回答加起來不超過 2500。\n",
    "2. 之後對於 `chat_history_memory` 中 Human, AI, System 的對話紀錄，會由新至舊一路加到不超過 prompt 的 token 數限制為止。"
   ]
  }
 ],
 "metadata": {
  "kernelspec": {
   "display_name": "bot",
   "language": "python",
   "name": "python3"
  },
  "language_info": {
   "codemirror_mode": {
    "name": "ipython",
    "version": 3
   },
   "file_extension": ".py",
   "mimetype": "text/x-python",
   "name": "python",
   "nbconvert_exporter": "python",
   "pygments_lexer": "ipython3",
   "version": "3.10.12"
  },
  "orig_nbformat": 4
 },
 "nbformat": 4,
 "nbformat_minor": 2
}
