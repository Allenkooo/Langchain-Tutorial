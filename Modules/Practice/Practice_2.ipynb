{
 "cells": [
  {
   "cell_type": "markdown",
   "id": "5e0826e3",
   "metadata": {},
   "source": [
    "# 使用情境\n",
    "\n",
    "你現在是一個作文批改老師，你想要將 Practice_1 中所建立的作文評分模型與文章讀取系統做結合，已達到自動化批改作文的效果，並且希望藉由此系統，來檢測同學的作文有無互相抄襲\n",
    "\n",
    "input file: './article.txt'\n",
    "\n",
    "輸出格式：\n",
    "\n",
    "    1. 作文的分數\n",
    "    2. 是否有互相抄襲的文章？ 若有，請列出哪些互為抄襲的文章\n",
    "\n",
    "你應該要\n",
    "\n",
    "    1. Create loader to load articles\n",
    "    2. Use splitter to seperate articles\n",
    "    3. Define schema\n",
    "    4. Build output parser\n",
    "    5. Define input templetes\n",
    "    6. Feed your agent with articles\n",
    "    7. Use vector store to check similarity"
   ]
  },
  {
   "cell_type": "code",
   "execution_count": 2,
   "id": "be6cc725",
   "metadata": {},
   "outputs": [],
   "source": [
    "# ======================================================\n",
    "# Create loader to load articles\n",
    "# ======================================================\n",
    "\n",
    "import langchain_setup\n",
    "from langchain.document_loaders import TextLoader\n",
    "\n",
    "markdown_document = TextLoader('./article.txt').load()"
   ]
  },
  {
   "cell_type": "code",
   "execution_count": 3,
   "id": "f837a8c5",
   "metadata": {},
   "outputs": [],
   "source": [
    "# ======================================================\n",
    "# Use splitter to seperate articles\n",
    "# ======================================================\n",
    "\n",
    "from langchain.text_splitter import CharacterTextSplitter\n",
    "text_splitter = CharacterTextSplitter(\n",
    "    separator = \"\\n\",\n",
    "    chunk_size = 550,\n",
    "    chunk_overlap  = 0,\n",
    "    length_function = len,\n",
    "    is_separator_regex = False,\n",
    ")\n",
    "articles = text_splitter.split_text(markdown_document[0].page_content)"
   ]
  },
  {
   "cell_type": "code",
   "execution_count": 4,
   "id": "e9a4eccd",
   "metadata": {},
   "outputs": [],
   "source": [
    "from langchain.docstore.document import Document\n",
    "\n",
    "all_docs = []\n",
    "for article in articles:\n",
    "    all_docs.append(Document(page_content=article))"
   ]
  },
  {
   "cell_type": "code",
   "execution_count": 16,
   "id": "6073915e",
   "metadata": {},
   "outputs": [
    {
     "name": "stdout",
     "output_type": "stream",
     "text": [
      "{'切題': 8, '文筆': 7, '創意': 6, '通順': 9}\n",
      "{'切題': 10, '文筆': 8, '創意': 7, '通順': 9}\n",
      "{'切題': 8, '文筆': 7, '創意': 6, '通順': 9}\n",
      "有抄襲\n"
     ]
    }
   ],
   "source": [
    "from typing import Literal\n",
    "from langchain.prompts import ChatPromptTemplate\n",
    "from langchain.schema import SystemMessage, AIMessage, HumanMessage\n",
    "from langchain_setup import ChatOpenAI\n",
    "from langchain.output_parsers import StructuredOutputParser, ResponseSchema\n",
    "from langchain.vectorstores import Qdrant\n",
    "from langchain.embeddings import OpenAIEmbeddings\n",
    "from langchain.schema import Document\n",
    "from langchain_setup import pprint_documents\n",
    "\n",
    "scores = []\n",
    "threshold = 0.95\n",
    "\n",
    "for i, article in enumerate(articles):        \n",
    "    # ======================================================\n",
    "    # Define schema,validation and postprocessing\n",
    "    # ======================================================\n",
    "    response_schemas = [\n",
    "        ResponseSchema(name=\"切題\", description=\"文章內容與題目的相關程度。介於 1 到 10。\", type='integer'),\n",
    "        ResponseSchema(name=\"文筆\", description=\"文字遣詞是否精練，以及其內容深度。介於 1 到 10。\", type='integer'),\n",
    "        ResponseSchema(name=\"創意\", description=\"文章發想內容的創意程度。介於 1 到 10。\", type='integer'),\n",
    "        ResponseSchema(name=\"通順\", description=\"文章的通順程度。介於 1 到 10。\", type='integer'),\n",
    "    ]\n",
    "    \n",
    "    # ======================================================\n",
    "    # Build output parser\n",
    "    # ======================================================\n",
    "    structure_parser = StructuredOutputParser.from_response_schemas(response_schemas)\n",
    "    \n",
    "    # ======================================================\n",
    "    # Define input templetes\n",
    "    # ======================================================\n",
    "    prompt_template = ChatPromptTemplate.from_messages(\n",
    "        [\n",
    "            (\"system\", \"你是一名國文教師，你現在要批改學生的作文，題目為朋友，評分標準需為以下四項：切題、文筆、創意、通順。\"),\n",
    "            (\"human\", \"以下為作文：{article}\"),\n",
    "            (\"human\", \"請為上述作文評分請依照以下指示回答\\n{format_instructions}\\n。\"),\n",
    "        ],\n",
    "    )\n",
    "\n",
    "    prompt_template2 = prompt_template.partial(format_instructions=structure_parser.get_format_instructions())\n",
    "\n",
    "    # ======================================================\n",
    "    # Feeds article\n",
    "    # ======================================================\n",
    "    messages = prompt_template2.format_messages(article = article)\n",
    "    model = ChatOpenAI(temperature=0)\n",
    "    response_message = model(messages)\n",
    "    print(structure_parser.parse(response_message.content))\n",
    "    \n",
    "    # ======================================================\n",
    "    # Use vector store to check similarity\n",
    "    # ======================================================\n",
    "    docs = all_docs[:i] + all_docs[i+1:]\n",
    "    vectorstore = Qdrant.from_documents(\n",
    "        docs,\n",
    "        embedding=OpenAIEmbeddings(),\n",
    "        location=\":memory:\",\n",
    "    )\n",
    "    result = vectorstore.similarity_search_with_relevance_scores(article, k=100)\n",
    "    for document, score in result:\n",
    "        scores.append(score)\n",
    "# 檢查列表中是否有元素大於3\n",
    "check = any(score > threshold for score in scores)\n",
    "\n",
    "print(\"有抄襲\" if check else \"沒有抄襲\")"
   ]
  }
 ],
 "metadata": {
  "kernelspec": {
   "display_name": "langchain",
   "language": "python",
   "name": "langchain"
  },
  "language_info": {
   "codemirror_mode": {
    "name": "ipython",
    "version": 3
   },
   "file_extension": ".py",
   "mimetype": "text/x-python",
   "name": "python",
   "nbconvert_exporter": "python",
   "pygments_lexer": "ipython3",
   "version": "3.10.13"
  }
 },
 "nbformat": 4,
 "nbformat_minor": 5
}
