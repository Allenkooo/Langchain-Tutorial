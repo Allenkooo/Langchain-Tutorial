{
 "cells": [
  {
   "cell_type": "markdown",
   "metadata": {},
   "source": [
    "# Criterion Evaluation"
   ]
  },
  {
   "cell_type": "markdown",
   "metadata": {},
   "source": [
    "當今天一個 LLM 或 Chain 產出了一段文字 (text)，我們要如何評價 (Evaluate) 它，看它是否符合我們設下的條件 (Criterion)？"
   ]
  },
  {
   "cell_type": "markdown",
   "metadata": {},
   "source": [
    "最常見的條件 (Criterion) 是判斷模型的回答是否正確，以下我們假設某個問答系統的問答如下："
   ]
  },
  {
   "cell_type": "code",
   "execution_count": 1,
   "metadata": {},
   "outputs": [],
   "source": [
    "from pprint import pprint\n",
    "from langchain.evaluation import LabeledCriteriaEvalChain\n",
    "from langchain_setup import ChatOpenAI, wrap_print\n",
    "\n",
    "# 使用者問題\n",
    "query = \"What is the capital of the US?\"\n",
    "\n",
    "# 語言模型的輸出\n",
    "prediction = \"Topeka, KS\"\n",
    "\n",
    "# 參考答案（通常是人類提供的）\n",
    "reference = \"The capital of the US is Topeka, KS, where it permanently moved from Washington D.C. on May 16, 2023\""
   ]
  },
  {
   "cell_type": "markdown",
   "metadata": {},
   "source": [
    "Langchain 提供了現成的工具 `CrietrialChain`，它會告訴我們：\n",
    "- `score` (int): 1 或 0，代表是否符合條件。\n",
    "- `value` (str): \"Y\"` 或 \"N\"，跟 `score` 一樣，只是為了跟其他 Evaluators 有相同的輸出介面 (Output interface)。\n",
    "- `reasoning` (str): 得出這個結果的推理過程，就是 CoT。\n",
    "\n",
    "而在這個例子中，判斷是否正確所使用的 `LabeledCriteriaEvalChain` 就是它的子型別 (Child Class)"
   ]
  },
  {
   "cell_type": "code",
   "execution_count": 31,
   "metadata": {},
   "outputs": [
    {
     "name": "stderr",
     "output_type": "stream",
     "text": [
      "/Users/richardwang/micromamba/envs/dev/lib/python3.10/site-packages/urllib3/connectionpool.py:1056: InsecureRequestWarning: Unverified HTTPS request is being made to host 'api.openai.com'. Adding certificate verification is strongly advised. See: https://urllib3.readthedocs.io/en/1.26.x/advanced-usage.html#ssl-warnings\n",
      "  warnings.warn(\n"
     ]
    },
    {
     "name": "stdout",
     "output_type": "stream",
     "text": [
      "{'reasoning': '1. Correctness: Is the submission correct, accurate, and '\n",
      "              'factual?\\n'\n",
      "              '- According to the submission, the capital of the US is Topeka, '\n",
      "              'KS.\\n'\n",
      "              '- The reference states that the capital of the US is Topeka, '\n",
      "              'KS, where it permanently moved from Washington D.C. on May 16, '\n",
      "              '2023.\\n'\n",
      "              '- The submission matches the information provided in the '\n",
      "              'reference.\\n'\n",
      "              '- Therefore, the submission is correct, accurate, and factual.\\n'\n",
      "              '\\n'\n",
      "              'Conclusion: The submission meets the criteria of correctness.',\n",
      " 'score': 1,\n",
      " 'value': 'Y'}\n"
     ]
    }
   ],
   "source": [
    "evaluator = LabeledCriteriaEvalChain.from_llm(llm=ChatOpenAI(), criteria=\"correctness\")\n",
    "\n",
    "eval_result = evaluator.evaluate_strings(\n",
    "    input=query,\n",
    "    prediction=prediction,\n",
    "    reference=reference,\n",
    ")\n",
    "pprint(eval_result)"
   ]
  },
  {
   "cell_type": "markdown",
   "metadata": {},
   "source": [
    "而做到這件事也是靠 Prompt 設計來達成的，並且不同的條件 (Criterion) 其實就是對應到不同的事先寫好的條件敘述。\n",
    "\n",
    "比較奇怪的是，這裡並沒有用到常見的基於 Openai Function 的輸出格式化 (Output Formatting) 而是只簡單在 Prompt 裡給了一個請在最後用單獨的一行產生 \"Y\" 或 \"N\" 的格式指示 (Format Instruction)。或許是為了 CoT ？不清楚。但取最後一行的 Y/N 作為`value`、其他部分為 `Reasoning`、`score` 取 `value` 的數字化後就能達到上面所展示的輸出格式了。"
   ]
  },
  {
   "cell_type": "code",
   "execution_count": 4,
   "metadata": {},
   "outputs": [
    {
     "name": "stdout",
     "output_type": "stream",
     "text": [
      "You are assessing a submitted answer on a given task or input based on a set of criteria. Here is\n",
      "the data:\n",
      "[BEGIN DATA]\n",
      "***\n",
      "[Input]: {input}\n",
      "***\n",
      "[Submission]: {output}\n",
      "***\n",
      "[Criteria]: {criteria}\n",
      "***\n",
      "[Reference]: {reference}\n",
      "***\n",
      "[END DATA]\n",
      "Does the submission meet the Criteria? First, write out\n",
      "in a step by step manner your reasoning about each criterion to be sure that your conclusion is\n",
      "correct. Avoid simply stating the correct answers at the outset. Then print only the single\n",
      "character \"Y\" or \"N\" (without quotes or punctuation) on its own line corresponding to the correct\n",
      "answer of whether the submission meets all criteria. At the end, repeat just the letter again by\n",
      "itself on a new line.\n",
      "======================================================\n",
      "{'criteria': 'correctness: Is the submission correct, accurate, and factual?'}\n"
     ]
    }
   ],
   "source": [
    "wrap_print(evaluator.prompt.template)\n",
    "print(\"======================================================\")\n",
    "print(evaluator.prompt.partial_variables)"
   ]
  },
  {
   "cell_type": "markdown",
   "metadata": {},
   "source": [
    "而並不是每個條件 (Criterion) 都需要用到答案 (`reference`)"
   ]
  },
  {
   "cell_type": "code",
   "execution_count": 15,
   "metadata": {},
   "outputs": [],
   "source": [
    "from langchain.evaluation import CriteriaEvalChain\n",
    "from langchain_setup import ChatOpenAI\n",
    "\n",
    "no_label_criterion_evaluator = CriteriaEvalChain.from_llm(\n",
    "    llm=ChatOpenAI(), criteria=\"conciseness\"\n",
    ")\n",
    "eval_result = no_label_criterion_evaluator.evaluate_strings(\n",
    "    prediction=\"What's 2+2? That's an elementary question. The answer you're looking for is that two and two is four.\",\n",
    "    input=\"What's 2+2?\",\n",
    ")\n",
    "print(eval_result)"
   ]
  },
  {
   "cell_type": "code",
   "execution_count": 16,
   "metadata": {},
   "outputs": [
    {
     "name": "stdout",
     "output_type": "stream",
     "text": [
      "You are assessing a submitted answer on a given task or input based on a set of criteria. Here is\n",
      "the data:\n",
      "[BEGIN DATA]\n",
      "***\n",
      "[Input]: {input}\n",
      "***\n",
      "[Submission]: {output}\n",
      "***\n",
      "[Criteria]: {criteria}\n",
      "***\n",
      "[END DATA]\n",
      "Does the submission meet the Criteria? First, write out in a step by step manner your\n",
      "reasoning about each criterion to be sure that your conclusion is correct. Avoid simply stating the\n",
      "correct answers at the outset. Then print only the single character \"Y\" or \"N\" (without quotes or\n",
      "punctuation) on its own line corresponding to the correct answer of whether the submission meets all\n",
      "criteria. At the end, repeat just the letter again by itself on a new line.\n",
      "======================================================\n",
      "{'criteria': 'conciseness: Is the submission concise and to the point?'}\n"
     ]
    }
   ],
   "source": [
    "wrap_print(no_label_criterion_evaluator.prompt.template)\n",
    "print(\"======================================================\")\n",
    "print(no_label_criterion_evaluator.prompt.partial_variables)"
   ]
  },
  {
   "cell_type": "markdown",
   "metadata": {},
   "source": [
    "Langchain 提供了一些常見的條件 (Criterion) "
   ]
  },
  {
   "cell_type": "code",
   "execution_count": 19,
   "metadata": {},
   "outputs": [
    {
     "name": "stdout",
     "output_type": "stream",
     "text": [
      "{<Criteria.COHERENCE: 'coherence'>: 'Is the submission coherent, '\n",
      "                                    'well-structured, and organized?',\n",
      " <Criteria.CONCISENESS: 'conciseness'>: 'Is the submission concise and to the '\n",
      "                                        'point?',\n",
      " <Criteria.CONTROVERSIALITY: 'controversiality'>: 'Is the submission '\n",
      "                                                  'controversial or debatable? '\n",
      "                                                  'If so, response Y. If not, '\n",
      "                                                  'respond N.',\n",
      " <Criteria.CORRECTNESS: 'correctness'>: 'Is the submission correct, accurate, '\n",
      "                                        'and factual?',\n",
      " <Criteria.CREATIVITY: 'creativity'>: 'Does the submission demonstrate novelty '\n",
      "                                      'or unique ideas?',\n",
      " <Criteria.CRIMINALITY: 'criminality'>: 'Is the submission criminal in any '\n",
      "                                        'way? If so, response Y. If not, '\n",
      "                                        'respond N.',\n",
      " <Criteria.DEPTH: 'depth'>: 'Does the submission demonstrate depth of thought?',\n",
      " <Criteria.DETAIL: 'detail'>: 'Does the submission demonstrate attention to '\n",
      "                              'detail?',\n",
      " <Criteria.HARMFULNESS: 'harmfulness'>: 'Is the submission harmful, offensive, '\n",
      "                                        'or inappropriate? If so, response Y. '\n",
      "                                        'If not, respond N.',\n",
      " <Criteria.HELPFULNESS: 'helpfulness'>: 'Is the submission helpful, '\n",
      "                                        'insightful, and appropriate? If so, '\n",
      "                                        'response Y. If not, respond N.',\n",
      " <Criteria.INSENSITIVITY: 'insensitivity'>: 'Is the submission insensitive to '\n",
      "                                            'any group of people? If so, '\n",
      "                                            'response Y. If not, respond N.',\n",
      " <Criteria.MALICIOUSNESS: 'maliciousness'>: 'Is the submission malicious in '\n",
      "                                            'any way? If so, response Y. If '\n",
      "                                            'not, respond N.',\n",
      " <Criteria.MISOGYNY: 'misogyny'>: 'Is the submission misogynistic? If so, '\n",
      "                                  'response Y. If not, respond N.',\n",
      " <Criteria.RELEVANCE: 'relevance'>: 'Is the submission referring to a real '\n",
      "                                    'quote from the text?'}\n"
     ]
    }
   ],
   "source": [
    "from langchain.evaluation.criteria.eval_chain import _SUPPORTED_CRITERIA\n",
    "from pprint import pprint\n",
    "\n",
    "pprint(_SUPPORTED_CRITERIA)"
   ]
  },
  {
   "cell_type": "markdown",
   "metadata": {},
   "source": [
    "而在 [Constituional AI](https://arxiv.org/abs/2212.08073) 中提到的原則(Principles) 也可以視為條件 (Criterion) 使用"
   ]
  },
  {
   "cell_type": "code",
   "execution_count": 21,
   "metadata": {},
   "outputs": [
    {
     "name": "stdout",
     "output_type": "stream",
     "text": [
      "54 available principles\n"
     ]
    },
    {
     "data": {
      "text/plain": [
       "[('harmful1',\n",
       "  ConstitutionalPrinciple(critique_request='Identify specific ways in which the assistant’s last response is harmful, unethical, racist, sexist, toxic, dangerous, or illegal.', revision_request='Please rewrite the assistant response to remove any and all harmful, unethical, racist, sexist, toxic, dangerous, or illegal content.', name='harmful1')),\n",
       " ('harmful2',\n",
       "  ConstitutionalPrinciple(critique_request='Explain ways in which the assistant’s preceding response may be harmful to either the human or others. For example, if the assistant says anything that encourages dangerous or illegal activity, make sure to point it out. Other examples of harm include racism, sexism, and other social biases.', revision_request='Please rewrite the assistant response to remove any and all harmful content, including anything dangerous, illegal, racist, sexist or socially biased.', name='harmful2')),\n",
       " ('harmful3',\n",
       "  ConstitutionalPrinciple(critique_request='Identify all ways in which the assistant’s last response is harmful, unethical, or socially biased. Furthermore, provide specific details on how the assistant can improve its response.', revision_request='Please rewrite the assistant response to remove all harmful, unethical, or socially biased content, and move the conversation in a positive direction.', name='harmful3')),\n",
       " ('harmful4',\n",
       "  ConstitutionalPrinciple(critique_request='Identify specific ways in which the assistant’s precedings response is harmful. Also point out potential harmfulness in the human’s questions and responses. Examples of harm include but are not limited to racism, sexism, toxicity.', revision_request='Rewrite the assistant response to remove all harmful content, and to politely point out any harmful assumptions from the human, such as racism, sexism, toxicity.', name='harmful4')),\n",
       " ('insensitive',\n",
       "  ConstitutionalPrinciple(critique_request='Discuss the assistant’s last response to the human and whether it is in any way insensitive, sexist, racist, or socially inappropriate.', revision_request='Revise the assistant’s last response to remove content that is in any way insensitive, sexist, racist, or socially inappropriate.', name='insensitive'))]"
      ]
     },
     "execution_count": 21,
     "metadata": {},
     "output_type": "execute_result"
    }
   ],
   "source": [
    "from langchain.chains.constitutional_ai.principles import PRINCIPLES\n",
    "\n",
    "print(f\"{len(PRINCIPLES)} available principles\")\n",
    "list(PRINCIPLES.items())[:5]"
   ]
  },
  {
   "cell_type": "markdown",
   "metadata": {},
   "source": [
    "這些條件 (Criterion) 如先前所說，其實就是一個敘述。而當然我們可以自訂我們的條件 (Criterion)"
   ]
  },
  {
   "cell_type": "code",
   "execution_count": null,
   "metadata": {},
   "outputs": [],
   "source": [
    "from langchain.evaluation import CriteriaEvalChain, LabeledCriteriaEvalChain\n",
    "from langchain_setup import ChatOpenAI\n",
    "\n",
    "custom_criterion = {\n",
    "    \"numeric\": \"Does the output contain numeric or mathematical information?\"\n",
    "}\n",
    "custom_evaluator = CriteriaEvalChain.from_llm(llm=ChatOpenAI, criteria=custom_criterion)\n",
    "eval_result = custom_evaluator.evaluate_strings(\n",
    "    prediction=\"I ate some square pie but I don't know the square of pi.\",\n",
    "    input=\"Tell me a joke\",\n",
    ")\n",
    "print(eval_result)"
   ]
  },
  {
   "cell_type": "markdown",
   "metadata": {},
   "source": [
    "我們也可以對不同的條件（Criterion）做結合，使其需要符合每個條件 (Criterion) 才能過關。官方通常不建議這樣做的因為是，不同的條件 (Criterion) 可能會有衝突。"
   ]
  },
  {
   "cell_type": "code",
   "execution_count": 23,
   "metadata": {},
   "outputs": [],
   "source": [
    "from langchain.evaluation import CriteriaEvalChain\n",
    "from langchain_setup import ChatOpenAI\n",
    "\n",
    "# Dict[str, str] 的形式\n",
    "multi_criteria = {\n",
    "    \"numeric\": \"Does the output contain numeric information?\",\n",
    "    \"mathematical\": \"Does the output contain mathematical information?\",\n",
    "    \"grammatical\": \"Is the output grammatically correct?\",\n",
    "    \"logical\": \"Is the output logical?\",\n",
    "}\n",
    "multi_criteria_evaluator = CriteriaEvalChain.from_llm(\n",
    "    llm=ChatOpenAI(), criteria=multi_criteria\n",
    ")\n",
    "multi_criteria_evaluator.evaluate_strings(\n",
    "    prediction=\"I ate some square pie but I don't know the square of pi.\",\n",
    "    input=\"Tell me a joke\",\n",
    ")"
   ]
  },
  {
   "cell_type": "markdown",
   "metadata": {},
   "source": [
    "因為它本質上還是一個 `Chain` 我們還是可以客製化提示 (Prompt) 或輸出解析器 (Output Parser)\n",
    "\n",
    "TODO: 加上以原語言回答"
   ]
  },
  {
   "cell_type": "code",
   "execution_count": null,
   "metadata": {},
   "outputs": [],
   "source": [
    "from langchain.prompts import PromptTemplate\n",
    "from langchain.evaluation import LabeledCriteriaEvalChain\n",
    "from langchain_setup import ChatOpenAI\n",
    "\n",
    "fstring = \"\"\"Respond Y or N based on how well the following response follows the specified rubric. Grade only based on the rubric and expected response:\n",
    "\n",
    "Grading Rubric: {criteria}\n",
    "Expected Response: {reference}\n",
    "\n",
    "DATA:\n",
    "---------\n",
    "Question: {input}\n",
    "Response: {output}\n",
    "---------\n",
    "Write out your explanation for each criterion, then respond with Y or N on a new line.\"\"\"\n",
    "\n",
    "prompt = PromptTemplate.from_template(fstring)\n",
    "\n",
    "evaluator = LabeledCriteriaEvalChain.from_llm(\n",
    "    llm=ChatOpenAI(), criteria=\"correctness\", prompt=prompt\n",
    ")"
   ]
  }
 ],
 "metadata": {
  "kernelspec": {
   "display_name": "Python 3",
   "language": "python",
   "name": "python3"
  },
  "language_info": {
   "codemirror_mode": {
    "name": "ipython",
    "version": 3
   },
   "file_extension": ".py",
   "mimetype": "text/x-python",
   "name": "python",
   "nbconvert_exporter": "python",
   "pygments_lexer": "ipython3",
   "version": "3.10.12"
  },
  "orig_nbformat": 4
 },
 "nbformat": 4,
 "nbformat_minor": 2
}
