{
 "cells": [
  {
   "cell_type": "markdown",
   "metadata": {},
   "source": [
    "# 1. 什麼是 Agent?\n",
    "在生成式人工智慧 (Generative AI) 當中，Agent 指的是由語言模型來當代理人，自動為你執行一連串的推理 (reasoning) 或動作 (action) 的架構。這邊的動作包括查詢網路、呼叫其他應用的 API、執行程式碼等等。\n",
    "\n",
    "跟 Chain 不一樣的是，雖然 Chain 也可以執行一連串的生成 (generation) 和動作 (action) 但它的執行路徑都是寫死的，而 Agent 則是可以根據得到的觀察 (observation) 和反饋 (feedback) 來自行決定下一步要做什麼事。Agent 相比 Chain 更靈活但同時也更不可測。\n",
    "\n",
    "以下我們將會打造一個問答用的 Agent，並檢視其從問題到得出答案的一連串步驟，比較和 Chain 有什麼不同"
   ]
  },
  {
   "cell_type": "markdown",
   "metadata": {},
   "source": [
    "# 2. 什麼是 ReAct 架構\n",
    "下面我們會使用採取 ReAct 架構的 Agent 作為例子。([ReAct: Synergizing Reasoning and Acting in Language Models](https://python.langchain.com/docs/modules/agents/agent_types/react_docstore))\n",
    "\n",
    "而 ReAct 架構可以粗淺地用如下的演算法解釋\n",
    "```\n",
    "for step in (1...MAX_STEPS):\n",
    "    THOUGHT, ACTION_or_ANSWER = Plan(QUESTION, HISTORY)\n",
    "    if \"Final Answer:\" in ACTION_or_ANSWER:\n",
    "        ANSWER = ACTION_or_ANSWER\n",
    "        return ANSWER\n",
    "    else:\n",
    "        ACTION = ACTION_or_ANSWER\n",
    "        OBSERVATION = Execute(ACTION)\n",
    "        HISTORY += (THOUGHT, ACTION, OBSERVATION)\n",
    "```\n",
    "可以看到這個演算法有幾個變數 (variable)\n",
    "- QUESTION: 使用者問題\n",
    "- THOUGHT: 語言模型認為下一步要做什麼的敘述\n",
    "- Action: 動作。可以是使用搜尋引擎或執行程式，包含執行動作所需的輸入 (例如搜尋關鍵字或程式碼)\n",
    "- HISTORY: 過去的想法跟動作的紀錄\n",
    "- ANSWER: 最終的答案\n",
    "\n",
    "和兩個函式\n",
    "- `Plan`: 由語言模型決定下一步要做什麼和怎麼做\n",
    "- `Execute`: 實際去執行該動作"
   ]
  },
  {
   "cell_type": "markdown",
   "metadata": {},
   "source": [
    "用一個假的例子來體驗看看"
   ]
  },
  {
   "cell_type": "code",
   "execution_count": 1,
   "metadata": {},
   "outputs": [
    {
     "name": "stdout",
     "output_type": "stream",
     "text": [
      "Question: 學長遞了杯白開水給我，我應該喝嗎？\n",
      "步驟1=================================================\n",
      "Thought: 我應該先判斷它的氣味\n",
      "Action: {'function': '聞', 'argument': '鼻子'}\n",
      "Observation: 有股酒味\n",
      "步驟2=================================================\n",
      "Thought: 我應該嘗試點燃它\n",
      "Action: {'function': '點燃', 'argument': '打火機'}\n",
      "Observation: 本該是白開水的東西燒起來了\n",
      "步驟3=================================================\n",
      "Final Answer: 這不是白開水而是酒!\n"
     ]
    }
   ],
   "source": [
    "def plan(quesiton, history):\n",
    "    match STEP:\n",
    "        case 1:\n",
    "            return \"我應該先判斷它的氣味\", \"{'function': '聞', 'argument': '鼻子'}\"\n",
    "        case 2:\n",
    "            return \"我應該嘗試點燃它\", \"{'function': '點燃', 'argument': '打火機'}\"\n",
    "        case 3:\n",
    "            return \"我知道最後的答案了\", \"Final Answer: 這不是白開水而是酒!\"\n",
    "        \n",
    "def execute(action):\n",
    "    action = eval(action)\n",
    "    match STEP:\n",
    "        case 1:\n",
    "            return \"有股酒味\"\n",
    "        case 2:\n",
    "            return \"本該是白開水的東西燒起來了\"\n",
    "\n",
    "question = \"學長遞了杯白開水給我，我應該喝嗎？\"\n",
    "print(f\"Question: {question}\")\n",
    "history = []\n",
    "for STEP in range(1,10):\n",
    "    print(f\"步驟{STEP}=================================================\")\n",
    "    thought, action_or_answer = plan(question, history)\n",
    "    if 'Final Answer:' in action_or_answer:\n",
    "        answer = action_or_answer\n",
    "        print(answer)\n",
    "        break\n",
    "    else:\n",
    "        action = action_or_answer\n",
    "        observation = execute(action)\n",
    "        print(f\"Thought: {thought}\")\n",
    "        print(f\"Action: {action}\")\n",
    "        print(f\"Observation: {observation}\")\n",
    "        history.append((thought, action, observation))"
   ]
  },
  {
   "cell_type": "markdown",
   "metadata": {},
   "source": [
    "# 2. 建立 ReAct Agent\n",
    "\n",
    "接下來我們要實際地來實踐 ReAct 這個架構"
   ]
  },
  {
   "cell_type": "code",
   "execution_count": 2,
   "metadata": {},
   "outputs": [],
   "source": [
    "from langchain import hub\n",
    "from langchain.agents import load_tools\n",
    "from langchain.tools.render import render_text_description\n",
    "from langchain.agents.output_parsers import ReActJsonSingleInputOutputParser\n",
    "from langchain.agents.format_scratchpad import format_log_to_str\n",
    "from langchain.agents import AgentExecutor\n",
    "\n",
    "from langchain_setup import OpenAI, ChatOpenAI, tracing_v2_enabled_if_api_key_set"
   ]
  },
  {
   "cell_type": "markdown",
   "metadata": {},
   "source": [
    "## 2.1 打造 Planning Step\n",
    "我們從上面可以看到 ReAct Agent 架構裡最核心的就是那個 `Plan` 的功能，而這個功能的實作其實就是一個最基本的 Chain (Prompt + Model + Output parser)。"
   ]
  },
  {
   "cell_type": "markdown",
   "metadata": {},
   "source": [
    "### 2.1.1 Prompt"
   ]
  },
  {
   "cell_type": "markdown",
   "metadata": {},
   "source": [
    "首先我們看到 Prompt 的部分，我們直接從網路共享的 langchain hub 從抓取，並檢視其內容"
   ]
  },
  {
   "cell_type": "code",
   "execution_count": 3,
   "metadata": {},
   "outputs": [
    {
     "name": "stdout",
     "output_type": "stream",
     "text": [
      "[System]: Answer the following questions as best you can. You have access to the following tools:\n",
      "\n",
      "{tools}\n",
      "\n",
      "The way you use the tools is by specifying a json blob.\n",
      "Specifically, this json should have a `action` key (with the name of the tool to use) and a `action_input` key (with the input to the tool going here).\n",
      "\n",
      "The only values that should be in the \"action\" field are: {tool_names}\n",
      "\n",
      "The $JSON_BLOB should only contain a SINGLE action, do NOT return a list of multiple actions. Here is an example of a valid $JSON_BLOB:\n",
      "\n",
      "```\n",
      "{{\n",
      "  \"action\": $TOOL_NAME,\n",
      "  \"action_input\": $INPUT\n",
      "}}\n",
      "```\n",
      "\n",
      "ALWAYS use the following format:\n",
      "\n",
      "Question: the input question you must answer\n",
      "Thought: you should always think about what to do\n",
      "Action:\n",
      "```\n",
      "$JSON_BLOB\n",
      "```\n",
      "Observation: the result of the action\n",
      "... (this Thought/Action/Observation can repeat N times)\n",
      "Thought: I now know the final answer\n",
      "Final Answer: the final answer to the original input question\n",
      "\n",
      "Begin! Reminder to always use the exact characters `Final Answer` when responding.\n",
      "[Human]: {input}\n",
      "\n",
      "{agent_scratchpad}\n"
     ]
    }
   ],
   "source": [
    "prompt = hub.pull(\"hwchase17/react-json\")\n",
    "for message_prompt in prompt.messages:\n",
    "    role = message_prompt.__class__.__name__.replace('MessagePromptTemplate', '')\n",
    "    print(f\"[{role}]: {message_prompt.prompt.template}\")"
   ]
  },
  {
   "cell_type": "markdown",
   "metadata": {},
   "source": [
    "這個 Prompt 有幾個重點：\n",
    "1. 可以看到這個 Prompt 「預告」了接下來的生成 (generate) 內容，每行的開頭應該是 Question -> (Thougth, Action) x N 次 -> Thought, Final Answer, 並解釋了每個開頭後面應該要生成什麼內容。\n",
    "2. 除此之外它也指示了語言模型在生成 Action 後面的內容是必須要按照 JSON 格式。\n",
    "\n",
    "還有數個 Placeholders\n",
    "1. `tools` 和 `tool_names`: 告訴語言模型有哪些工具可用，這些工具的輸入形式 (input schema)\n",
    "2. `input`: 使用者的問題\n",
    "3. `agent_scratchpad`: 過去紀錄 (history)"
   ]
  },
  {
   "cell_type": "markdown",
   "metadata": {},
   "source": [
    "### 2.1.2 Tools"
   ]
  },
  {
   "cell_type": "markdown",
   "metadata": {},
   "source": [
    "這邊我們使用抓取兩個 Langchain 提供的現成工具，duckduckgo search 、基於語言模型的數學計算器，來提供給我們的 Agent 使用。"
   ]
  },
  {
   "cell_type": "code",
   "execution_count": 4,
   "metadata": {},
   "outputs": [],
   "source": [
    "tools = load_tools([\"ddg-search\", \"llm-math\"], llm=OpenAI()) # 因 llm-math 有用到所以傳入一個語言模型"
   ]
  },
  {
   "cell_type": "markdown",
   "metadata": {},
   "source": [
    "事先填滿 Prompt 的 `tools` 和 `tool_names` placeholders，可以看到其敘述了工具的性質和使用方法。"
   ]
  },
  {
   "cell_type": "code",
   "execution_count": 5,
   "metadata": {},
   "outputs": [
    {
     "name": "stdout",
     "output_type": "stream",
     "text": [
      "duckduckgo_search: A wrapper around DuckDuckGo Search. Useful for when you need to answer questions about current events. Input should be a search query.\n",
      "Calculator: Useful for when you need to answer questions about math.\n"
     ]
    }
   ],
   "source": [
    "prompt = prompt.partial(\n",
    "    tools=render_text_description(tools),\n",
    "    tool_names=\", \".join([t.name for t in tools]),\n",
    ")\n",
    "print(render_text_description(tools))"
   ]
  },
  {
   "cell_type": "markdown",
   "metadata": {},
   "source": [
    "### 2.1.3 語言模型\n",
    "為了讓語言模型產生完 Action 後可以等我們實際執行完 Action 再回來繼續，我們設定如果語言模型生成 (generate) \"\\nObeservation\" 時即停止生成"
   ]
  },
  {
   "cell_type": "code",
   "execution_count": 6,
   "metadata": {},
   "outputs": [],
   "source": [
    "chat_model_with_stop = ChatOpenAI(temperature=0).bind(stop=[\"\\nObservation\"])"
   ]
  },
  {
   "cell_type": "markdown",
   "metadata": {},
   "source": [
    "### 2.1.4 串接"
   ]
  },
  {
   "cell_type": "code",
   "execution_count": 7,
   "metadata": {},
   "outputs": [],
   "source": [
    "plan = (\n",
    "    {\n",
    "        \"input\": lambda x: x[\"input\"],\n",
    "        \"agent_scratchpad\": lambda x: format_log_to_str(x[\"intermediate_steps\"]),\n",
    "    }\n",
    "    | prompt\n",
    "    | chat_model_with_stop\n",
    "    | ReActJsonSingleInputOutputParser()\n",
    ")"
   ]
  },
  {
   "cell_type": "markdown",
   "metadata": {},
   "source": [
    "### 2.1.5 創建 Agent"
   ]
  },
  {
   "cell_type": "code",
   "execution_count": 8,
   "metadata": {},
   "outputs": [],
   "source": [
    "agent_executor = AgentExecutor(agent=plan, tools=tools, verbose=True)"
   ]
  },
  {
   "cell_type": "markdown",
   "metadata": {},
   "source": [
    "# 3. 實際使用看看"
   ]
  },
  {
   "cell_type": "code",
   "execution_count": 9,
   "metadata": {},
   "outputs": [
    {
     "name": "stdout",
     "output_type": "stream",
     "text": [
      "\n",
      "\n",
      "\u001b[1m> Entering new AgentExecutor chain...\u001b[0m\n",
      "\u001b[32;1m\u001b[1;3mQuestion: Who is Leo DiCaprio's girlfriend?\n",
      "Thought: I can search for this information using DuckDuckGo Search.\n",
      "Action:\n",
      "```\n",
      "{\n",
      "  \"action\": \"duckduckgo_search\",\n",
      "  \"action_input\": \"Leo DiCaprio girlfriend\"\n",
      "}\n",
      "```\u001b[0m\u001b[36;1m\u001b[1;3mThirty-seven-year-old Leo and 23-year-old Erin dated for almost a year, and the split was drama-free. E! News actually asked Erin about it at an event and she said, \"I having the best time right ... Who Is Leonardo DiCaprio's Girlfriend Vittoria Ceretti? The Italy native is a model and made her debut at Elite Model Look, a prestigious international modeling competition, at the age of 14 ... Back in 2018, his ex-girlfriend Camila Morrone made her LACMA gala debut after being with DiCaprio for nearly a year. Here is the photo below of her debut: LOS ANGELES, CA - NOVEMBER 03: Cami ... But alongside his work, Leonardo DiCaprio's personal life has been the subject of constant scrutiny. Documented most succinctly in this now infamous chart, all of his high-profile relationships ... Leonardo DiCaprio has a new lady in his life — and it's getting serious, Page Six can exclusively confirm. We're told the 48-year-old A-lister is officially dating 25-year-old model Vittoria ...\u001b[0m\u001b[32;1m\u001b[1;3mI have found the information about Leo DiCaprio's girlfriend. Now I need to calculate her current age raised to the 0.43 power.\n",
      "Action:\n",
      "```\n",
      "{\n",
      "  \"action\": \"Calculator\",\n",
      "  \"action_input\": \"25^0.43\"\n",
      "}\n",
      "```\u001b[0m\u001b[33;1m\u001b[1;3mAnswer: 3.991298452658078\u001b[0m\u001b[32;1m\u001b[1;3mI now know the final answer.\n",
      "Final Answer: The current age of Leo DiCaprio's girlfriend raised to the 0.43 power is approximately 3.99.\u001b[0m\n",
      "\n",
      "\u001b[1m> Finished chain.\u001b[0m\n",
      "{'input': \"Who is Leo DiCaprio's girlfriend? What is her current age raised to the 0.43 power?\", 'output': \"The current age of Leo DiCaprio's girlfriend raised to the 0.43 power is approximately 3.99.\"}\n",
      "[LangSmith URL]: https://smith.langchain.com/o/34ec837d-8405-462d-b949-fdfaebda792b/projects/p/fdcbda35-4d3a-418b-ab49-7e3205e630a6/r/205f0e9c-158c-42e0-8726-c25d24e6a185?poll=true\n"
     ]
    }
   ],
   "source": [
    "with tracing_v2_enabled_if_api_key_set(project_name='tutorial'):\n",
    "    outputs = agent_executor.invoke(\n",
    "        {\n",
    "            \"input\": \"Who is Leo DiCaprio's girlfriend? What is her current age raised to the 0.43 power?\"\n",
    "        }\n",
    "    )\n",
    "    print(outputs)"
   ]
  }
 ],
 "metadata": {
  "kernelspec": {
   "display_name": "Python 3",
   "language": "python",
   "name": "python3"
  },
  "language_info": {
   "codemirror_mode": {
    "name": "ipython",
    "version": 3
   },
   "file_extension": ".py",
   "mimetype": "text/x-python",
   "name": "python",
   "nbconvert_exporter": "python",
   "pygments_lexer": "ipython3",
   "version": "3.10.12"
  }
 },
 "nbformat": 4,
 "nbformat_minor": 2
}
