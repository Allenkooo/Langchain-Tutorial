{
 "cells": [
  {
   "attachments": {},
   "cell_type": "markdown",
   "metadata": {},
   "source": [
    "# 為甚麼需要格式化的答案\n",
    "1. 自動擷取資訊: 從語言模型的輸出的自然語言，自動解析 (parse) 出我們想要的結構化資料。\n",
    "   \n",
    "2. 讓語言模型可以呼叫 function/API: 讓語言模型自動產出該 function/api 的參數 (arguments)"
   ]
  },
  {
   "cell_type": "code",
   "execution_count": 1,
   "metadata": {},
   "outputs": [
    {
     "name": "stdout",
     "output_type": "stream",
     "text": [
      "Response1:  中杯，甜度七分，冰塊正常。\n",
      "Response2:  中杯，甜度正常，少冰。\n"
     ]
    }
   ],
   "source": [
    "from langchain.prompts import ChatPromptTemplate\n",
    "from langchain.schema import SystemMessage, AIMessage, HumanMessage\n",
    "from langchain_setup import ChatOpenAI\n",
    "\n",
    "prompt = ChatPromptTemplate.from_messages(\n",
    "    [\n",
    "        (\"system\", \"你是一個道地的台灣人，你來到了手搖飲料店，想要買一杯手搖飲。\"),\n",
    "        (\"human\", \"你好，請問今天要喝甚麼?\"),\n",
    "        (\"ai\", \"請給我一杯{choice}。\"),\n",
    "        (\"human\", \"中杯大杯?甜度冰塊?\"),\n",
    "    ]\n",
    ")\n",
    "\n",
    "model = ChatOpenAI()\n",
    "\n",
    "response1 = model(prompt.format_messages(choice=\"台茶17號白鷺紅茶\"))\n",
    "print(\"Response1: \", response1.content)\n",
    "response2 = model(prompt.format_messages(choice=\"桂花烏龍鮮奶茶\"))\n",
    "print(\"Response2: \", response2.content)"
   ]
  },
  {
   "cell_type": "markdown",
   "metadata": {},
   "source": [
    "但假設今天我們想要自動整理點單資訊的話，我們會想要得到這樣的形式"
   ]
  },
  {
   "cell_type": "code",
   "execution_count": 2,
   "metadata": {},
   "outputs": [
    {
     "data": {
      "text/plain": [
       "[{'甜度': 5, '冰塊': '少', '大小': '中'}, {'甜度': 5, '冰塊': '正常', '大小': '中'}]"
      ]
     },
     "execution_count": 2,
     "metadata": {},
     "output_type": "execute_result"
    }
   ],
   "source": [
    "[\n",
    "    {\n",
    "        \"甜度\": 5,\n",
    "        \"冰塊\": \"少\",\n",
    "        \"大小\": \"中\",\n",
    "    },\n",
    "    {\n",
    "        \"甜度\": 5,\n",
    "        \"冰塊\": \"正常\",\n",
    "        \"大小\": \"中\",\n",
    "    },\n",
    "]"
   ]
  },
  {
   "attachments": {},
   "cell_type": "markdown",
   "metadata": {},
   "source": [
    "# 2. Format Instructions (Langchain 功能)"
   ]
  },
  {
   "cell_type": "markdown",
   "metadata": {},
   "source": [
    "Langchain 實作的 Outpur parser 提供了兩種東西：\n",
    "\n",
    "1. *Format Instruction*: 指導 LLM 依照某個形式回答的文字，讓使用者可以插入 prompt 裡面\n",
    "   \n",
    "2. *Parser*: LLM 產出該形式的文字後，解析器 (parser) 依照形式讀取成想要的資料格式"
   ]
  },
  {
   "cell_type": "code",
   "execution_count": 1,
   "metadata": {},
   "outputs": [
    {
     "name": "stdout",
     "output_type": "stream",
     "text": [
      "{'甜度': 5, '冰塊': '正常', '大小': '中杯'}\n"
     ]
    }
   ],
   "source": [
    "from typing import Literal\n",
    "from langchain.prompts import ChatPromptTemplate\n",
    "from langchain.schema import SystemMessage, AIMessage, HumanMessage\n",
    "from langchain_setup import ChatOpenAI\n",
    "from langchain.output_parsers import StructuredOutputParser, ResponseSchema, PydanticOutputParser\n",
    "from langchain.pydantic_v1 import BaseModel, Field\n",
    "\n",
    "# 定義 Output parser\n",
    "\n",
    "## 透過 Pydantic\n",
    "class Drink(BaseModel):\n",
    "    sweetness: int = Field(description=\"飲料的甜度。介於 1 到 10。\")\n",
    "    ice: Literal['去冰', '少冰', '正常'] = Field(description=\"冰塊的量\")\n",
    "    size: Literal['中杯','大杯'] = Field(description=\"飲料杯的大小\")\n",
    "pydantic_parser = PydanticOutputParser(pydantic_object=Drink)\n",
    "\n",
    "## 或透過 Langchain 自訂的 Schema\n",
    "response_schemas = [\n",
    "    ResponseSchema(name=\"甜度\", description=\"飲料的甜度。介於 1 到 10。\", type='integer'),\n",
    "    ResponseSchema(name=\"冰塊\", description=\"冰塊的量。可以是「去冰」、「少冰」、「正常」的其中一個。\", type='string'),\n",
    "    ResponseSchema(name=\"大小\", description=\"飲料杯的大小。可以是「中杯」、「大杯」的其中一個。\", type='string'),\n",
    "]\n",
    "structure_parser = StructuredOutputParser.from_response_schemas(response_schemas)\n",
    "\n",
    "# 編輯 Prompt\n",
    "prompt_template = ChatPromptTemplate.from_messages(\n",
    "    [\n",
    "        (\"system\", \"你是一個道地的台灣人，你來到了手搖飲料店，想要買一杯手搖飲。\"),\n",
    "        (\"human\", \"你好，請問今天要喝甚麼?\"),\n",
    "        (\"ai\", \"請給我一杯{choice}。\"),\n",
    "        (\"human\", \"中杯大杯?甜度冰塊? 請依照以下指示回答\\n{format_instructions}\\n\"),\n",
    "    ],\n",
    ")\n",
    "## 插入形式指引 (format instructions), 這邊的 `partial` 類似 functools.partial\n",
    "prompt_template2 = prompt_template.partial(format_instructions=structure_parser.get_format_instructions())\n",
    "\n",
    "# 實際執行看看\n",
    "messages = prompt_template2.format_messages(choice=\"黑糖珍珠奶茶\")\n",
    "model = ChatOpenAI(temperature=0) # 通常需要遵照格式時，會取消隨機性以避免跳脫格式\n",
    "response_message = model(messages)\n",
    "print(structure_parser.parse(response_message.content))"
   ]
  },
  {
   "cell_type": "markdown",
   "metadata": {},
   "source": [
    "首先來看看什麼是「形式指引 (format instruction)」"
   ]
  },
  {
   "cell_type": "code",
   "execution_count": 2,
   "metadata": {},
   "outputs": [
    {
     "name": "stdout",
     "output_type": "stream",
     "text": [
      "The output should be a markdown code snippet formatted in the following schema, including the leading and trailing \"```json\" and \"```\":\n",
      "\n",
      "```json\n",
      "{\n",
      "\t\"甜度\": integer  // 飲料的甜度。介於 1 到 10。\n",
      "\t\"冰塊\": string  // 冰塊的量。可以是「去冰」、「少冰」、「正常」的其中一個。\n",
      "\t\"大小\": string  // 飲料杯的大小。可以是「中杯」、「大杯」的其中一個。\n",
      "}\n",
      "```\n"
     ]
    }
   ],
   "source": [
    "print(structure_parser.get_format_instructions())"
   ]
  },
  {
   "cell_type": "code",
   "execution_count": 3,
   "metadata": {},
   "outputs": [
    {
     "name": "stdout",
     "output_type": "stream",
     "text": [
      "The output should be formatted as a JSON instance that conforms to the JSON schema below.\n",
      "\n",
      "As an example, for the schema {\"properties\": {\"foo\": {\"title\": \"Foo\", \"description\": \"a list of strings\", \"type\": \"array\", \"items\": {\"type\": \"string\"}}}, \"required\": [\"foo\"]}\n",
      "the object {\"foo\": [\"bar\", \"baz\"]} is a well-formatted instance of the schema. The object {\"properties\": {\"foo\": [\"bar\", \"baz\"]}} is not well-formatted.\n",
      "\n",
      "Here is the output schema:\n",
      "```\n",
      "{\"properties\": {\"sweetness\": {\"title\": \"Sweetness\", \"description\": \"\\u98f2\\u6599\\u7684\\u751c\\u5ea6\\u3002\\u4ecb\\u65bc 1 \\u5230 10\\u3002\", \"type\": \"integer\"}, \"ice\": {\"title\": \"Ice\", \"description\": \"\\u51b0\\u584a\\u7684\\u91cf\", \"enum\": [\"\\u53bb\\u51b0\", \"\\u5c11\\u51b0\", \"\\u6b63\\u5e38\"], \"type\": \"string\"}, \"size\": {\"title\": \"Size\", \"description\": \"\\u98f2\\u6599\\u676f\\u7684\\u5927\\u5c0f\", \"enum\": [\"\\u4e2d\\u676f\", \"\\u5927\\u676f\"], \"type\": \"string\"}}, \"required\": [\"sweetness\", \"ice\", \"size\"]}\n",
      "```\n"
     ]
    }
   ],
   "source": [
    "print(pydantic_parser.get_format_instructions())"
   ]
  },
  {
   "cell_type": "markdown",
   "metadata": {},
   "source": [
    "把形式指引 (format instruction) 插入原本的 Prompt 裡"
   ]
  },
  {
   "cell_type": "code",
   "execution_count": 4,
   "metadata": {},
   "outputs": [
    {
     "name": "stdout",
     "output_type": "stream",
     "text": [
      "System: 你是一個道地的台灣人，你來到了手搖飲料店，想要買一杯手搖飲。\n",
      "Human: 你好，請問今天要喝甚麼?\n",
      "AI: 請給我一杯黑糖珍珠奶茶。\n",
      "Human: 中杯大杯?甜度冰塊? 請依照以下指示回答\n",
      "The output should be a markdown code snippet formatted in the following schema, including the leading and trailing \"```json\" and \"```\":\n",
      "\n",
      "```json\n",
      "{\n",
      "\t\"甜度\": integer  // 飲料的甜度。介於 1 到 10。\n",
      "\t\"冰塊\": string  // 冰塊的量。可以是「去冰」、「少冰」、「正常」的其中一個。\n",
      "\t\"大小\": string  // 飲料杯的大小。可以是「中杯」、「大杯」的其中一個。\n",
      "}\n",
      "```\n",
      "\n"
     ]
    }
   ],
   "source": [
    "print(prompt_template2.format(choice='黑糖珍珠奶茶'))"
   ]
  },
  {
   "attachments": {},
   "cell_type": "markdown",
   "metadata": {},
   "source": [
    "以這種 Prompt Engineering 的方式，讓模型產出符合格式的文字。"
   ]
  },
  {
   "cell_type": "code",
   "execution_count": 5,
   "metadata": {},
   "outputs": [
    {
     "name": "stdout",
     "output_type": "stream",
     "text": [
      "```json\n",
      "{\n",
      "\t\"甜度\": 5,\n",
      "\t\"冰塊\": \"正常\",\n",
      "\t\"大小\": \"中杯\"\n",
      "}\n",
      "```\n"
     ]
    }
   ],
   "source": [
    "print(response_message.content)"
   ]
  },
  {
   "cell_type": "markdown",
   "metadata": {},
   "source": [
    "最後將結果從文字 (str) 形式解析 (parse) 成目標資料形式 (data structure)"
   ]
  },
  {
   "cell_type": "code",
   "execution_count": 6,
   "metadata": {},
   "outputs": [
    {
     "name": "stdout",
     "output_type": "stream",
     "text": [
      "{'甜度': 5, '冰塊': '正常', '大小': '中杯'}\n",
      "<class 'dict'>\n"
     ]
    }
   ],
   "source": [
    "parsed = structure_parser.parse(response_message.content)\n",
    "print(parsed)\n",
    "print(type(parsed))"
   ]
  },
  {
   "attachments": {},
   "cell_type": "markdown",
   "metadata": {},
   "source": [
    "其他還有各種現成的 output parser\n",
    "\n",
    "而雖然我們叫模型遵守格式，但它畢竟是一個不可控的黑箱子，還是可能不遵守格式。此時有些 output parser 就有實作一些邏輯來處理這樣的狀況。"
   ]
  },
  {
   "cell_type": "code",
   "execution_count": 7,
   "metadata": {},
   "outputs": [],
   "source": [
    "from langchain.output_parsers import (\n",
    "    ListOutputParser,\n",
    "    DatetimeOutputParser,\n",
    "    EnumOutputParser,\n",
    "    PydanticOutputParser,  # 可以設定值的資料形式，和檢查值的邏輯\n",
    "    OutputFixingParser,  # 如果輸出格式錯誤，就把錯誤格式的輸出＋格式指令丟到一個ＬＬＭ去改\n",
    "    RetryOutputParser,  # 如果輸出格式錯誤，就把原本的prompt+錯誤格式的輸出＋格式指令丟到一個ＬＬＭ再試一次\n",
    ")"
   ]
  },
  {
   "cell_type": "markdown",
   "metadata": {},
   "source": [
    "# 3. Function Calling (provided by OpenAI)\n",
    "- 支援 API version 2023-07-01-preview 後，gpt-4-0613 和 gpt-3.5-turbo-0613 模型\n",
    "\n",
    "- 模型有特別為甚麼時候該呼叫甚麼函式或不呼叫函式微調過\n",
    "\n",
    "- 底層是將函式以模型學習過的格式插入 system prompt 裡，所以是會占用 token 數的 [(OpenAI 官方說明)](https://platform.openai.com/docs/guides/gpt/function-calling)\n",
    "\n",
    "- 當然還是有機會輸出不守規矩\n",
    "\n",
    "- 基本上 Langchain output parser 和 OpenAI function calling 都可以做到同樣的事，只是 OpenAI 的模型有特別為此微調過"
   ]
  },
  {
   "cell_type": "markdown",
   "metadata": {},
   "source": [
    "## 3.1 OpenAI 定義的參數"
   ]
  },
  {
   "cell_type": "markdown",
   "metadata": {},
   "source": [
    "主要有兩大參數\n",
    "- `functions`: 定義可以用的函式 (functions)\n",
    "\n",
    "- `function_call`: 挑選函式 (function) 的模式\n",
    "\n",
    "  - `none`: 自然回答，絕不為函式 (function) 產生呼叫 (calling) 用參數\n",
    "\n",
    "  - `auto`: 自動決定要不要為函式產生呼叫用的參數、要針對哪個函式。\n",
    "  \n",
    "  - `{\"name\": <function name>}`: 必定要針對這個函式，產生呼叫用的參數。"
   ]
  },
  {
   "cell_type": "code",
   "execution_count": 1,
   "metadata": {},
   "outputs": [],
   "source": [
    "from pprint import pprint\n",
    "from langchain.schema import HumanMessage\n",
    "from langchain_setup import ChatOpenAI\n",
    "from copy import deepcopy\n",
    "\n",
    "openai_kwargs = {\n",
    "    \"functions\": [\n",
    "        # 第一個函式\n",
    "        {\n",
    "            # 函式名稱\n",
    "            \"name\": \"take_leave\",  # 請假\n",
    "            # 函式敘述\n",
    "            \"description\": \"連接到公司系統的請假 API\",\n",
    "            # 函式參數\n",
    "            \"parameters\": {\n",
    "                \"type\": \"object\",\n",
    "                \"properties\": {\n",
    "                    \"start_date\": {\n",
    "                        \"title\": \"Start date\",\n",
    "                        \"description\": \"請假開始日期\",\n",
    "                        \"type\": \"string\",\n",
    "                    },\n",
    "                    \"n_days\": {\n",
    "                        \"title\": \"Number of days\",\n",
    "                        \"description\": \"請假天數\",\n",
    "                        \"type\": \"integer\",\n",
    "                    },\n",
    "                    \"reason\": {\n",
    "                        \"title\": \"Reason\",\n",
    "                        \"description\": \"想要請假的理由\",\n",
    "                        \"type\": \"string\",\n",
    "                    },\n",
    "                },\n",
    "                # 必需參數\n",
    "                \"required\": [\"start_date\", \"end_date\"],\n",
    "            },\n",
    "        },\n",
    "        {\n",
    "            # 函式名稱\n",
    "            \"name\": \"away_on_official_business\",  # 填公出\n",
    "            # 函式敘述\n",
    "            \"description\": \"因公司業務需要離開辦公室超過二十分鐘時即須填寫公出單，此函式可以協助您填寫並送出公出單。\",\n",
    "            # 函式參數\n",
    "            \"parameters\": {\n",
    "                \"type\": \"object\",\n",
    "                \"properties\": {\n",
    "                    \"date\": {\n",
    "                        \"title\": \"Date\",\n",
    "                        \"description\": \"公出日期\",\n",
    "                        \"type\": \"string\",\n",
    "                    },\n",
    "                    \"destination\": {\n",
    "                        \"title\": \"Destination\",\n",
    "                        \"description\": \"公出目的地\",\n",
    "                        \"enum\": [\"外部\", \"松山大樓\", \"中崙大樓\"],  # 設定合法值域\n",
    "                    },\n",
    "                    \"reason\": {\n",
    "                        \"title\": \"Reason\",\n",
    "                        \"description\": \"公出的理由\",\n",
    "                        \"type\": \"string\",\n",
    "                    },\n",
    "                },\n",
    "                # 必需參數\n",
    "                \"required\": [\"date\", \"destination\"],\n",
    "            },\n",
    "        },\n",
    "    ],\n",
    "    # \n",
    "    \"function_call\": \"auto\",\n",
    "}\n",
    "\n",
    "model = ChatOpenAI(temperature=0)"
   ]
  },
  {
   "cell_type": "markdown",
   "metadata": {},
   "source": [
    "自動決定要針對哪個函式 (function) 產生呼用的參數 (arguments)。\n",
    "\n",
    "若模型決定為某個函式產生參數，會回傳\n",
    "```\n",
    "{\n",
    "    'function_call':{\n",
    "        'arguments': <參數和參數的值，以 str 形式的 dict 表示>, \n",
    "        'name': <想要呼叫的函式名>\n",
    "    }\n",
    "}\n",
    "```"
   ]
  },
  {
   "cell_type": "code",
   "execution_count": 2,
   "metadata": {},
   "outputs": [
    {
     "data": {
      "text/plain": [
       "AIMessage(content='', additional_kwargs={'function_call': {'name': 'take_leave', 'arguments': '{\\n  \"start_date\": \"2023-06-18\",\\n  \"n_days\": 2,\\n  \"reason\": \"我想在父親節這個特別的日子，和我的父親一起度過寶貴的時間，表達我的愛和感激之情。這是一個難得的機會，我希望能夠好好珍惜。\"\\n}'}})"
      ]
     },
     "metadata": {},
     "output_type": "display_data"
    },
    {
     "name": "stdout",
     "output_type": "stream",
     "text": [
      "take_leave\n",
      "{\n",
      "  \"start_date\": \"2023-06-18\",\n",
      "  \"n_days\": 2,\n",
      "  \"reason\": \"我想在父親節這個特別的日子，和我的父親一起度過寶貴的時間，表達我的愛和感激之情。這是一個難得的機會，我希望能夠好好珍惜。\"\n",
      "}\n"
     ]
    }
   ],
   "source": [
    "query = \"幫我從2023年父親節開始請兩天假，並用一個容易審查通過的理由。\"\n",
    "response = model(messages=[HumanMessage(content=query)], **openai_kwargs)\n",
    "display(response)\n",
    "print(response.additional_kwargs['function_call']['name'])\n",
    "print(response.additional_kwargs['function_call']['arguments'])"
   ]
  },
  {
   "cell_type": "markdown",
   "metadata": {},
   "source": [
    "同時也會決定是否想要呼叫函式 (function)"
   ]
  },
  {
   "cell_type": "code",
   "execution_count": 3,
   "metadata": {},
   "outputs": [
    {
     "data": {
      "text/plain": [
       "AIMessage(content='您可以透過洛琪希教的官方網站或是臉書粉絲專頁進行報名。在官方網站或臉書粉絲專頁上，您可以找到相關的報名資訊和報名方式。請確認洛琪希教的官方網站或臉書粉絲專頁以獲取最新的報名資訊。')"
      ]
     },
     "metadata": {},
     "output_type": "display_data"
    }
   ],
   "source": [
    "query = \"想要加入洛琪希教要去哪裡報名?\"\n",
    "response = model(messages=[HumanMessage(content=query)], **openai_kwargs)\n",
    "display(response)"
   ]
  },
  {
   "cell_type": "markdown",
   "metadata": {},
   "source": [
    "我們可以強迫其一定要針對某一個函式產生呼叫用的參數"
   ]
  },
  {
   "cell_type": "code",
   "execution_count": 4,
   "metadata": {},
   "outputs": [
    {
     "name": "stdout",
     "output_type": "stream",
     "text": [
      "away_on_official_business\n",
      "{\n",
      "  \"date\": \"2023-06-18\",\n",
      "  \"destination\": \"家中\",\n",
      "  \"reason\": \"陪伴家人慶祝父親節\"\n",
      "}\n"
     ]
    }
   ],
   "source": [
    "kwargs = deepcopy(openai_kwargs)\n",
    "kwargs[\"function_call\"] = {\"name\": \"away_on_official_business\"} # 強迫填公出\n",
    "query = \"幫我從2023年父親節開始請兩天假，並用一個容易審查通過的理由。\"\n",
    "response = model(messages=[HumanMessage(content=query)], **kwargs)\n",
    "print(response.additional_kwargs['function_call']['name'])\n",
    "print(response.additional_kwargs['function_call']['arguments'])"
   ]
  },
  {
   "cell_type": "markdown",
   "metadata": {},
   "source": [
    "強迫其必須自然回答，不要嘗試呼叫任何函式"
   ]
  },
  {
   "cell_type": "code",
   "execution_count": 5,
   "metadata": {},
   "outputs": [
    {
     "name": "stdout",
     "output_type": "stream",
     "text": [
      "好的，我會幫您請兩天假，並提供一個容易審查通過的理由。請稍等片刻。\n"
     ]
    }
   ],
   "source": [
    "kwargs = deepcopy(openai_kwargs)\n",
    "kwargs[\"function_call\"] = \"none\"\n",
    "query = \"幫我從2023年父親節開始請兩天假，並用一個容易審查通過的理由。\"\n",
    "response = model(\n",
    "    messages=[HumanMessage(content=query)], **kwargs\n",
    ")\n",
    "print(response.content)"
   ]
  },
  {
   "cell_type": "markdown",
   "metadata": {},
   "source": [
    "## 3.2 自動產生 OpenAI functions 參數\n",
    "\n",
    "每次都要寫記得怎麼寫又臭又長的參數太累了，讓 `convert_to_openai_function` 幫我們代勞"
   ]
  },
  {
   "cell_type": "code",
   "execution_count": 1,
   "metadata": {},
   "outputs": [],
   "source": [
    "import warnings\n",
    "from pprint import pprint\n",
    "from typing import Literal\n",
    "from langchain.prompts import ChatPromptTemplate\n",
    "from langchain.chains.openai_functions.base import convert_to_openai_function\n",
    "from langchain.output_parsers.openai_functions import PydanticOutputFunctionsParser\n",
    "from langchain.pydantic_v1 import BaseModel, Field, root_validator\n",
    "from langchain_setup import ChatOpenAI"
   ]
  },
  {
   "cell_type": "markdown",
   "metadata": {},
   "source": [
    "用一般的函式 (function) 轉換成 openai funciton 參數。注意目前 typing 只能是 `int`, `float`, `str`, `bool`, `pydantic.BaseModel` 的其中一種。該參數 (argument) 如果是不支援的 typing 就會直接變成沒有 type 要求。(例如下面的 `size` 所使用的 `Literal`)"
   ]
  },
  {
   "cell_type": "code",
   "execution_count": 2,
   "metadata": {},
   "outputs": [
    {
     "name": "stdout",
     "output_type": "stream",
     "text": [
      "{'description': '在台灣點手搖飲料',\n",
      " 'name': 'order_drink',\n",
      " 'parameters': {'properties': {'ice': {'description': '冰塊多寡。可以是 '\n",
      "                                                      \"'去冰','少冰','正常冰' 的其中一種。\",\n",
      "                                       'type': 'string'},\n",
      "                               'size': {'description': '飲料大小。'},\n",
      "                               'sweetness': {'description': '飲料甜度。',\n",
      "                                             'type': 'number'}},\n",
      "                'required': ['sweetness', 'ice', 'size'],\n",
      "                'type': 'object'}}\n"
     ]
    }
   ],
   "source": [
    "def order_drink(sweetness: int, ice: str, size: Literal['中杯', '大杯']) -> str:\n",
    "    \"\"\"在台灣點手搖飲料\n",
    "\n",
    "    Args:\n",
    "        sweetness: 飲料甜度。\n",
    "        ice: 冰塊多寡。可以是 '去冰','少冰','正常冰' 的其中一種。\n",
    "        size: 飲料大小。\n",
    "    \"\"\"\n",
    "\n",
    "pprint(convert_to_openai_function(order_drink))"
   ]
  },
  {
   "cell_type": "markdown",
   "metadata": {},
   "source": [
    "利用 pydantic 模型 (類似 dataclass) 的表述轉換成 openai funciton 參數。目前 Langchain 比較推用這個方式表述，支援也比較好。(例子中可以看到把 `Literal` 轉換成 `enum`)"
   ]
  },
  {
   "cell_type": "code",
   "execution_count": 3,
   "metadata": {},
   "outputs": [
    {
     "name": "stdout",
     "output_type": "stream",
     "text": [
      "{'description': '在台灣點手搖飲料',\n",
      " 'name': 'Drink',\n",
      " 'parameters': {'description': '在台灣點手搖飲料',\n",
      "                'properties': {'ice': {'description': '冰塊多寡。',\n",
      "                                       'enum': ['去冰', '少冰', '正常冰'],\n",
      "                                       'title': 'Ice',\n",
      "                                       'type': 'string'},\n",
      "                               'size': {'description': '飲料大小',\n",
      "                                        'enum': ['中杯', '大杯'],\n",
      "                                        'title': 'Size',\n",
      "                                        'type': 'string'},\n",
      "                               'sweetness': {'description': '飲料甜度。',\n",
      "                                             'title': 'Sweetness',\n",
      "                                             'type': 'integer'}},\n",
      "                'required': ['sweetness', 'ice', 'size'],\n",
      "                'title': 'Drink',\n",
      "                'type': 'object'}}\n"
     ]
    }
   ],
   "source": [
    "class Drink(BaseModel):\n",
    "    \"\"\"在台灣點手搖飲料\"\"\"\n",
    "\n",
    "    sweetness: int = Field(description='飲料甜度。')\n",
    "    ice: Literal['去冰','少冰','正常冰'] = Field(description='冰塊多寡。')\n",
    "    size: Literal['中杯', '大杯'] = Field(description='飲料大小')\n",
    "\n",
    "pprint(convert_to_openai_function(Drink))"
   ]
  },
  {
   "cell_type": "markdown",
   "metadata": {},
   "source": [
    "配合專用的輸出解析 (output parsing) ㄧ起服用體驗更好。使用 `PydanticOutputFunctionsParser` 將 OpenAI 回傳的 OpenAI function 回答 parse 成對應的 pydantic 格式 (schema)。\n",
    "\n",
    "當然如果 pydantic 模型有設值 (value) 檢查 (validation) 或後處理 (postprocessing) 的話就會在解析 (parsing)並建立 pydantic 的資料模型 (BaseModel) 時觸發\n",
    "\n",
    "下面的例子是通常實際應用時會做的事"
   ]
  },
  {
   "cell_type": "code",
   "execution_count": 4,
   "metadata": {},
   "outputs": [
    {
     "name": "stdout",
     "output_type": "stream",
     "text": [
      "嗶嗶！檢查/後處理完畢！\n",
      "輸出的資料形式是 pydantic schema: <class '__main__.Drink'>\n",
      "{'甜度': 10, '冰塊': '正常冰', '大小': '中杯'}\n"
     ]
    },
    {
     "name": "stderr",
     "output_type": "stream",
     "text": [
      "C:\\Users\\121664\\AppData\\Local\\Temp\\ipykernel_30872\\1319550851.py:15: UserWarning: 甜度 50 不在 [1,10] 內，自動調整...\n",
      "  warnings.warn(f\"甜度 {values['sweetness']} 不在 [1,10] 內，自動調整...\")\n"
     ]
    }
   ],
   "source": [
    "# ======================================================\n",
    "# 定義 schema, 檢查 (validation), 後處理 (postprocessing)\n",
    "# ======================================================\n",
    "class Drink(BaseModel):\n",
    "    \"\"\"在台灣點手搖飲料\"\"\"\n",
    "\n",
    "    sweetness: int = Field(description='飲料甜度。')\n",
    "    ice: Literal['去冰','少冰','正常冰'] = Field(description='冰塊多寡。')\n",
    "    size: Literal['中杯', '大杯'] = Field(description='飲料大小')\n",
    "    \n",
    "    # 更多其他功能可以查詢 pydantic 的文檔 (documentation)\n",
    "    @root_validator() # 類似 dataclass 的 __postprocess__ \n",
    "    def validate_values(cls, values: dict) -> dict:\n",
    "        if not (1 <= values['sweetness'] <= 10):\n",
    "            warnings.warn(f\"甜度 {values['sweetness']} 不在 [1,10] 內，自動調整...\")\n",
    "            values['sweetness'] = max(min(1, values['sweetness']), 10)\n",
    "        print(\"嗶嗶！檢查/後處理完畢！\")\n",
    "        return values\n",
    "\n",
    "# 對應的 ouput parser\n",
    "output_parser = PydanticOutputFunctionsParser(pydantic_schema=Drink) # 傳入剛才定好的 pydantic schema\n",
    "\n",
    "# ======================================================\n",
    "# 定義 input template\n",
    "# ======================================================\n",
    "prompt_template = ChatPromptTemplate.from_messages(\n",
    "    [\n",
    "        (\"system\", \"你是一個道地的台灣人，你來到了手搖飲料店，想要買一杯手搖飲。\"),\n",
    "        (\"human\", \"你好，請問今天要喝甚麼?\"),\n",
    "        (\"ai\", \"請給我一杯{choice}。\"),\n",
    "        (\"human\", \"中杯大杯?甜度冰塊? 請依照指示的格式回答\"), # 指示的格式會由 OpenAI API 透過 System message 插入\n",
    "    ],\n",
    ")\n",
    "\n",
    "# ======================================================\n",
    "# 模型\n",
    "# ======================================================\n",
    "model = ChatOpenAI(temperature=0)\n",
    "\n",
    "# ======================================================\n",
    "# Chain 起來\n",
    "# ======================================================\n",
    "function_kwargs = convert_to_openai_function(Drink)\n",
    "openaifn_kwargs = {'functions': [function_kwargs], 'function_call': {'name': 'Drink'}}\n",
    "# 將 input prompt、model、output parsing 自動串起來的語法，之後會詳細介紹\n",
    "chain = prompt_template | model.bind(**openaifn_kwargs) | output_parser\n",
    "\n",
    "# ======================================================\n",
    "# 可以拿來用了\n",
    "# ======================================================\n",
    "output = chain.invoke({\"choice\": \"海神奶茶\"})\n",
    "print(\"輸出的資料形式是 pydantic schema:\", type(output))\n",
    "print({'甜度': output.sweetness, '冰塊': output.ice, '大小': output.size})"
   ]
  }
 ],
 "metadata": {
  "kernelspec": {
   "display_name": "dev",
   "language": "python",
   "name": "python3"
  },
  "language_info": {
   "codemirror_mode": {
    "name": "ipython",
    "version": 3
   },
   "file_extension": ".py",
   "mimetype": "text/x-python",
   "name": "python",
   "nbconvert_exporter": "python",
   "pygments_lexer": "ipython3",
   "version": "3.10.12"
  },
  "orig_nbformat": 4
 },
 "nbformat": 4,
 "nbformat_minor": 2
}
