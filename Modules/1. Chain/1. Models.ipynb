{
 "cells": [
  {
   "attachments": {},
   "cell_type": "markdown",
   "metadata": {},
   "source": [
    "# 1. LLM\n",
    "單純的 text completion models\n",
    "\n",
    "- **`__call__`** : Text -> Text\n",
    "- **`generate`** : batch of text -> batch of text and rich information"
   ]
  },
  {
   "cell_type": "code",
   "execution_count": 1,
   "metadata": {},
   "outputs": [
    {
     "name": "stdout",
     "output_type": "stream",
     "text": [
      "===== __call__ =====\n",
      "\n",
      "\n",
      "金錢本身無定形，\n",
      "財富資源可輕凌。\n",
      "貨幣起萌芽自然，\n",
      "發展投資市場可稱雄。\n",
      "\n",
      "投資動態引爆火，\n",
      "決策依循精確計算。\n",
      "行情風險須勤慎，\n",
      "避免失敗千萬叮嚀。\n",
      "\n",
      "投資詞語唱出詩，\n",
      "把握時機細思量。\n",
      "做出選擇最重要，\n",
      "掌握金融利潤\n",
      "\n",
      "===== generate =====\n",
      "<class 'langchain.schema.output.LLMResult'>\n",
      "{'generations': [[Generation(text='\\n\\nHello! My name is Adam and I am new to programming. I am excited to learn about coding and see what I can do with it.', generation_info={'finish_reason': 'stop', 'logprobs': None})],\n",
      "                 [Generation(text=\"\\n\\nIt's nice to meet you. It's nice to meet you too.\", generation_info={'finish_reason': 'stop', 'logprobs': None})]],\n",
      " 'llm_output': {'model_name': 'text-davinci-003',\n",
      "                'token_usage': {'completion_tokens': 48,\n",
      "                                'prompt_tokens': 13,\n",
      "                                'total_tokens': 61}},\n",
      " 'run': [RunInfo(run_id=UUID('4c28ecdf-c3d9-4fd8-8bfa-1c06c07acdff')),\n",
      "         RunInfo(run_id=UUID('ee9bda3f-5503-40f8-a66d-5f762e81178a'))]}\n"
     ]
    }
   ],
   "source": [
    "from pprint import pprint\n",
    "from langchain_setup import OpenAI\n",
    "\n",
    "llm = OpenAI()\n",
    "\n",
    "print(\"===== __call__ =====\")\n",
    "text = \"你是一個非常厲害的唐詩詩人，同時你對金融業十分了解。\\n\\n請寫一首關於金融業的八句七言律詩：\"\n",
    "print(llm(text), end='\\n\\n')\n",
    "\n",
    "print(\"===== generate =====\")\n",
    "text1 = \"Hello World\"\n",
    "text2 = \"How do you do? I am fine thank you.\"\n",
    "result = llm.generate([text1, text2])\n",
    "print(type(result))\n",
    "pprint(result.__dict__)"
   ]
  },
  {
   "attachments": {},
   "cell_type": "markdown",
   "metadata": {},
   "source": [
    "# 2. Chat Models\n",
    "Chat models 是針對對話特別 tune 過的 message completion models\n",
    "- **`__call__`** : Message\"s\" -> message\n",
    "- **`generate`** : batch of message\"s\" -> batch of message and rich information"
   ]
  },
  {
   "cell_type": "code",
   "execution_count": 1,
   "metadata": {},
   "outputs": [
    {
     "name": "stdout",
     "output_type": "stream",
     "text": [
      "===== __call__ =====\n",
      "<class 'langchain.schema.messages.AIMessage'>\n",
      "{'additional_kwargs': {},\n",
      " 'content': '金融融通經濟網，\\n'\n",
      "            '財富流轉著利益。\\n'\n",
      "            '股市震盪壯志氣，\\n'\n",
      "            '銀行興衰現蹤跡。\\n'\n",
      "            '風險潛藏投資間，\\n'\n",
      "            '理財智慧永綿延。\\n'\n",
      "            '金融業舞台繁華，\\n'\n",
      "            '創富與損失同纏繞。',\n",
      " 'example': False,\n",
      " 'type': 'ai'}\n",
      "\n",
      "===== generate =====\n",
      "<class 'langchain.schema.output.LLMResult'>\n",
      "{'generations': [[ChatGeneration(text='山河萬里展宏圖，財富從此散芬芳。\\n股市波濤起浩浩，投資風險勿輕忽。\\n貨幣流通如江河，利率漲落隨波逐。\\n金融巨擘談策略，智慧經營創新高。\\n風險管理與監管，穩健發展擁光芒。\\n金錢乃魔亦為神，賢者智慧方能當。', generation_info={'finish_reason': 'stop'}, message=AIMessage(content='山河萬里展宏圖，財富從此散芬芳。\\n股市波濤起浩浩，投資風險勿輕忽。\\n貨幣流通如江河，利率漲落隨波逐。\\n金融巨擘談策略，智慧經營創新高。\\n風險管理與監管，穩健發展擁光芒。\\n金錢乃魔亦為神，賢者智慧方能當。'))],\n",
      "                 [ChatGeneration(text='As an AI, I don\\'t have feelings, so I don\\'t experience things like \"fine\" or \"not fine\" in the same way humans do. However, I am here to assist you with any questions or tasks you have. How can I help you today?', generation_info={'finish_reason': 'stop'}, message=AIMessage(content='As an AI, I don\\'t have feelings, so I don\\'t experience things like \"fine\" or \"not fine\" in the same way humans do. However, I am here to assist you with any questions or tasks you have. How can I help you today?'))]],\n",
      " 'llm_output': {'model_name': 'gpt-3.5-turbo',\n",
      "                'token_usage': {'completion_tokens': 219,\n",
      "                                'prompt_tokens': 108,\n",
      "                                'total_tokens': 327}},\n",
      " 'run': [RunInfo(run_id=UUID('06162b74-a48c-4491-a382-9f297dcc8fa3')),\n",
      "         RunInfo(run_id=UUID('86046957-8318-4a56-b4f3-82514abb8806'))]}\n"
     ]
    }
   ],
   "source": [
    "from pprint import pprint\n",
    "from langchain.schema import (\n",
    "    # 各種不同的角色（role）\n",
    "    AIMessage, # AI\n",
    "    HumanMessage, # 人類\n",
    "    SystemMessage, # 設定\n",
    "    ChatMessage, # 任何話者\n",
    "    FunctionMessage, # 其他工具的 API(?)\n",
    ")\n",
    "from langchain_setup import ChatOpenAI\n",
    "\n",
    "chat_model = ChatOpenAI()\n",
    "\n",
    "print(\"===== __call__ =====\")\n",
    "text = \"你是一個非常厲害的唐詩詩人，同時你對金融業十分了解。\\n\\n請寫一首關於金融業的八句七言律詩：\"\n",
    "messages = [\n",
    "    SystemMessage(content=\"你是一個非常厲害的唐詩詩人，同時你對金融業十分了解。\"),\n",
    "    HumanMessage(content=\"請寫一首關於金融業的八句七言律詩：\")\n",
    "]\n",
    "response_message = chat_model(messages)\n",
    "print(type(response_message))\n",
    "pprint(response_message.__dict__)\n",
    "\n",
    "print(\"\\n===== generate =====\")\n",
    "batch_messages = [\n",
    "    [\n",
    "        SystemMessage(content=\"你是一個非常厲害的唐詩詩人，同時你對金融業十分了解。\"),\n",
    "        HumanMessage(content=\"請寫一首關於金融業的八句七言律詩：\"),\n",
    "    ],\n",
    "    [\n",
    "        HumanMessage(content=\"How do you do?\"),\n",
    "        AIMessage(content=\"I am fine thank you.\"),\n",
    "        HumanMessage(content=\"hontouni?\"),\n",
    "    ]\n",
    "]\n",
    "result = chat_model.generate(batch_messages)\n",
    "print(type(result))\n",
    "pprint(result.__dict__)"
   ]
  },
  {
   "cell_type": "markdown",
   "metadata": {},
   "source": [
    "# 3. Stop"
   ]
  },
  {
   "cell_type": "markdown",
   "metadata": {},
   "source": [
    "有時候語言模型 (LLM) 會有產生過長的回答、在回答後加上多餘的解釋、不等待使用者回覆直接繼續講下去等等情況。其中一個解決方法是當模型將產出某些字時強制停止。"
   ]
  },
  {
   "cell_type": "code",
   "execution_count": 2,
   "metadata": {},
   "outputs": [
    {
     "data": {
      "text/plain": [
       "'金融興起繁華綻'"
      ]
     },
     "execution_count": 2,
     "metadata": {},
     "output_type": "execute_result"
    }
   ],
   "source": [
    "response_message = chat_model(messages, stop=[\"。\", \"，\"]) # 遇到這些字就停止\n",
    "response_message.content"
   ]
  },
  {
   "attachments": {},
   "cell_type": "markdown",
   "metadata": {},
   "source": [
    "# 4. Generation Parameters\n",
    "\n",
    "- Temperature (溫度，創造力): 0 ~ 1\n",
    "  - 越低越 deterministic, 越高越 random \n",
    "  - $$p_i = \\frac{e^{x_i/\\tau}}{\\sum_{j=1}^n e^{x_j/\\tau}}$$\n",
    "  - 1 時為原本的 probability distribution, 越接近 0 其 prob. dist. 越 skewed\n",
    "- Top p: 0 ~ 1\n",
    "  - 還是有機率抽到不適合的字詞，為了避免這種情況我們可以選擇絕對不要選一些機率小的字詞\n",
    "  - 候選字詞由機率高到機率低一個個選，並累加其機率到設定的 p 為止，之後的候選字詞絕對不選，只會從剛才選的候選裡面 sample\n",
    "- presence/frequency penalty\n",
    "  - 假設 $f_w$ 為此次生成中，字詞 w 出現的次數\n",
    "  - $logit(w) = logit(w) - f_w * frequency\\_penalty - (f_w > 0) * presence\\_penalty$\n",
    "  - frequency penalty 主要是用來減少重複字詞\n",
    "  - presence penalty 主要是想要開新主題\n",
    "  - 兩個其實非常類似\n",
    "- logit bias\n",
    "  - $logit(w) += logit\\_bias(w)$\n",
    "  - e.g.可以設一個很大的負值如 -100, 來保證某些字詞絕對不會被產生\n",
    "  - e.g.可以設一個小小的正值，來讓某些字詞更容易被產生\n",
    "- stop\n",
    "  - 遇到某些字詞後強制停止生成\n",
    "- logprobs\n",
    "  - 可以回傳前 logprobs 個機率高的字詞的 log probabilities\n",
    "  - langchain 好像沒有 explicit support"
   ]
  },
  {
   "cell_type": "markdown",
   "metadata": {},
   "source": [
    "## 5. LLM 和 Chat Models 的互換性\n",
    "雖然一般語言模型和對話式語言模型有不同的輸入和輸出形式，但對很多應用來說需要的就是一個語言模型，不一定特別要一般語言模型或對話式語言模型。\n",
    "\n",
    "因此 Langchain 幫兩種模型創造了相同的介面，使其在大部分的地方都能夠互換。\n",
    "- `predict`: text -> text\n",
    "- `predict_messages`: messages -> message"
   ]
  },
  {
   "cell_type": "code",
   "execution_count": 1,
   "metadata": {},
   "outputs": [],
   "source": [
    "from langchain_setup import OpenAI, ChatOpenAI\n",
    "from langchain.schema import AIMessage, SystemMessage, HumanMessage\n",
    "from langchain.schema import get_buffer_string\n",
    "\n",
    "messages = [\n",
    "    SystemMessage(content=\"你是一個非常厲害的唐詩詩人，同時你對金融業十分了解。\"),\n",
    "    HumanMessage(content=\"請寫一首關於金融業的八句七言律詩：\")\n",
    "]\n",
    "\n",
    "text = \"你是一個非常厲害的唐詩詩人，同時你對金融業十分了解。\\n\\n請寫一首關於金融業的八句七言律詩：\""
   ]
  },
  {
   "cell_type": "code",
   "execution_count": 2,
   "metadata": {},
   "outputs": [
    {
     "name": "stdout",
     "output_type": "stream",
     "text": [
      "把 LLM 當成 Chat 模型來用:\n",
      "<class 'langchain.schema.messages.AIMessage'>\n",
      "\n",
      "\n",
      "金財慾望油然而生，\n",
      "風輕雲淡破空間行；\n",
      "海嘯起搖落無定訣，\n",
      "做夢不想到漩渦中。\n",
      "\n",
      "銀嶺煙霧遮不住視，\n",
      "財海萬象入眼睛；\n",
      "堅忍抗拒貪嗔痴心，\n",
      "智慧總是明亮的光。\n",
      "\n",
      "把握時機自由行動，\n",
      "現實沒有捷徑可走；\n",
      "把握良機智慧把握，\n",
      "\n",
      "\n",
      "\n",
      "實際上給 LLM 的 Prompt 會長這樣:\n",
      "System: 你是一個非常厲害的唐詩詩人，同時你對金融業十分了解。\n",
      "Human: 請寫一首關於金融業的八句七言律詩：\n"
     ]
    }
   ],
   "source": [
    "llm = OpenAI()\n",
    "\n",
    "print(\"把 LLM 當成 Chat 模型來用:\")\n",
    "message = llm.predict_messages(messages=messages)\n",
    "print(type(message))\n",
    "print(message.content)\n",
    "\n",
    "print(\"\\n\\n實際上給 LLM 的 Prompt 會長這樣:\")\n",
    "prompt = get_buffer_string(messages=messages)\n",
    "print(prompt)"
   ]
  },
  {
   "cell_type": "code",
   "execution_count": 3,
   "metadata": {},
   "outputs": [
    {
     "name": "stdout",
     "output_type": "stream",
     "text": [
      "把 Chat model 模型當 LLM 用:\n",
      "金融巨浪舞逐潮，投資狂潮漲澎湃。\n",
      "財富蕩漾心總亂，風雨驚濤令人敗。\n",
      "股市波瀾驚心神，利率猛烈起伏傷。\n",
      "投資者如遊泳者，須懂風向與機關。\n",
      "創新科技衝擊力，資本市場百花香。\n",
      "金融業如江湖客，智慧與風險要相當。\n",
      "\n",
      "內部的 messages 其實長這樣:\n",
      "[HumanMessage(content='你是一個非常厲害的唐詩詩人，同時你對金融業十分了解。\\n\\n請寫一首關於金融業的八句七言律詩：')]\n"
     ]
    }
   ],
   "source": [
    "chat_model = ChatOpenAI()\n",
    "\n",
    "print(\"把 Chat model 模型當 LLM 用:\")\n",
    "print(chat_model.predict(text=text), end='\\n\\n')\n",
    "\n",
    "print(\"內部的 messages 其實長這樣:\")\n",
    "print([HumanMessage(content=text)])"
   ]
  }
 ],
 "metadata": {
  "kernelspec": {
   "display_name": "dev",
   "language": "python",
   "name": "python3"
  },
  "language_info": {
   "codemirror_mode": {
    "name": "ipython",
    "version": 3
   },
   "file_extension": ".py",
   "mimetype": "text/x-python",
   "name": "python",
   "nbconvert_exporter": "python",
   "pygments_lexer": "ipython3",
   "version": "3.10.12"
  },
  "orig_nbformat": 4
 },
 "nbformat": 4,
 "nbformat_minor": 2
}
