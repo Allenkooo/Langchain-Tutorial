{
 "cells": [
  {
   "attachments": {},
   "cell_type": "markdown",
   "metadata": {},
   "source": [
    "# 1. 基本的串接方法"
   ]
  },
  {
   "cell_type": "markdown",
   "metadata": {},
   "source": [
    "在簡單的使用情境中只使用語言模型當然沒問題，但要開發複雜的應用就會需要串接不同的元件 (Components)。這些元件包括語言模型 (LLM)、提示 (Prompt)、輸出解析 (Output Parser)、抽取器 (Retriever)、工具 (Tool)、任何函式 (function)。"
   ]
  },
  {
   "attachments": {},
   "cell_type": "markdown",
   "metadata": {},
   "source": [
    "最基本的例子就是串接 Prompt、Model、Output Parser 這三種元件 (Components) "
   ]
  },
  {
   "cell_type": "code",
   "execution_count": 5,
   "metadata": {},
   "outputs": [],
   "source": [
    "from langchain.prompts import ChatPromptTemplate\n",
    "from langchain.output_parsers import StructuredOutputParser, ResponseSchema\n",
    "from langchain_setup import ChatOpenAI\n",
    "\n",
    "# Output parser\n",
    "response_schemas = [\n",
    "    ResponseSchema(name=\"食物\", description=\"推測喜歡的食物種類\"),\n",
    "    ResponseSchema(name=\"店家\", description=\"有賣上述麵食種類的店家\"),\n",
    "]\n",
    "output_parser = StructuredOutputParser.from_response_schemas(response_schemas)\n",
    "\n",
    "# Model\n",
    "model = ChatOpenAI()\n",
    "\n",
    "# Prompt\n",
    "prompt = ChatPromptTemplate.from_messages(\n",
    "    [\n",
    "        (\"system\", \"你是一個在新宿的廢棄大樓營業的占卜師兼 Google 地圖的當地嚮導。\"),\n",
    "        (\"human\", \"請告訴我 {person} 喜歡吃什麼種類的食物，並推薦一家餐廳或小吃給他或她。\\n\\n{format_instructions}\\n\\n\"),\n",
    "    ],\n",
    ")\n",
    "prompt = prompt.partial(format_instructions=output_parser.get_format_instructions())"
   ]
  },
  {
   "cell_type": "markdown",
   "metadata": {},
   "source": [
    "最陽春的方法是自行呼叫所有元件"
   ]
  },
  {
   "cell_type": "code",
   "execution_count": 6,
   "metadata": {},
   "outputs": [
    {
     "name": "stdout",
     "output_type": "stream",
     "text": [
      "{'食物': '日本料理', '店家': '銀座壽司'}\n"
     ]
    }
   ],
   "source": [
    "person = '小明'\n",
    "model_input = prompt.format_messages(person=person)\n",
    "model_output = model(model_input)\n",
    "parser_output = output_parser.parse(model_output.content)\n",
    "print(parser_output)"
   ]
  },
  {
   "cell_type": "markdown",
   "metadata": {},
   "source": [
    "Langchain 提供了更簡潔的方式來串接元件 (componenents)，其名為 Langchain Expression Language (LCEL)。"
   ]
  },
  {
   "cell_type": "code",
   "execution_count": 7,
   "metadata": {},
   "outputs": [
    {
     "data": {
      "text/plain": [
       "{'食物': '日本料理', '店家': '新宿餐廳'}"
      ]
     },
     "execution_count": 7,
     "metadata": {},
     "output_type": "execute_result"
    }
   ],
   "source": [
    "chain = prompt | model | output_parser\n",
    "\n",
    "chain.invoke({'person': '小明'})"
   ]
  },
  {
   "cell_type": "markdown",
   "metadata": {},
   "source": [
    "# 2. LCEL 的介紹\n",
    "\n",
    "## 2.1 Why LCEL\n",
    "\n",
    "LCEL 其實就是透過 pipeline 的方式組合成一個新的 runnable 物件 (object)。這樣的方法有幾個好處。\n",
    "1. 容易上手: 不需要記各個元件 (components) 怎麼操作，Langchain 會自動串好\n",
    "2. 易懂易改: 透過其自創的LCEL，使用者可以更容易了解執行流程中的每個步驟，也就更能自己做改動\n",
    "3. 模組化設計: 做好的 runnable 還可以跟其他元件 (components) 或 runnable 串接\n",
    "4. 各式功能: 透過 LCEL 做出來的 runnable 自帶各種介面和功能，包括:\n",
    "   - 平行化處理 (parallel processing): 將大量複數的輸入 (input samples) 透過有效率的平行化處理一次執行\n",
    "   - 非同步處理 (Asynchronous): 自帶非同步介面 \n",
    "   - 串流 (streaming): 一個字一個字的產出\n",
    "   - Input/Output Schema: 自帶輸入和輸出的型值檢查 (type check)\n",
    "   - LangServe 支援: 一行程式碼就可以為其建立 UI 和 API\n",
    "   - LangSmith 支援: 可以監控每一步驟的輸出\n",
    "   - Langchain Hub 支援: 可以下載別人做好的 Chain，也可以分享自己做得不錯的 Chain\n"
   ]
  },
  {
   "cell_type": "code",
   "execution_count": 8,
   "metadata": {},
   "outputs": [
    {
     "data": {
      "text/plain": [
       "[{'食物': '日本料理', '店家': '新宿御苑附近有一家名為「すし善」的日本料理店，提供新鮮的壽司和其他傳統日式料理。'},\n",
       " {'食物': '拉麵', '店家': '一蘭拉麵'}]"
      ]
     },
     "execution_count": 8,
     "metadata": {},
     "output_type": "execute_result"
    }
   ],
   "source": [
    "chain.batch([{'person': '小明'}, {'person': '小美'}])"
   ]
  },
  {
   "cell_type": "markdown",
   "metadata": {},
   "source": [
    "## 2.2 基本概念介紹\n",
    "LCEL 中的物件可區分為兩個種類 Components 和 Runnable。\n",
    "\n",
    "**Components:**\n",
    "|                 | Input                                | Output                |\n",
    "| :-------------- | :----------------------------------- | :-------------------- |\n",
    "| Prompt          | Dictionary                           | PromptValue           |\n",
    "| LLM / ChatModel | String / List[Message] / PromptValue | String / Message      |\n",
    "| OutputParser    | Output of LLM / ChatModel            | Depends on the parser |\n",
    "| Retriever       | String                               | List[Documents]       |\n",
    "| Tool            | Depends on the tool                  | Depends on the tool   |\n",
    "\n",
    "**Runnable:**<br>\n",
    "底下有不同的子類別，常見的包括 `RunnableSequence`, `RunnableLambda`, `RunnableMap`, `RunnablePassthrough`"
   ]
  },
  {
   "cell_type": "markdown",
   "metadata": {},
   "source": [
    "## 3. 串接任意函式 (RunnableLambda)"
   ]
  },
  {
   "cell_type": "markdown",
   "metadata": {},
   "source": [
    "能用 \"|\" 符號來自動串接的是 Component 和 Runnalbe。\n",
    "\n",
    "因此要串接任意函式 (Function)，需要用 `RunnableLambda` 來包覆 (wrap) 該函式"
   ]
  },
  {
   "cell_type": "code",
   "execution_count": 1,
   "metadata": {},
   "outputs": [
    {
     "data": {
      "text/plain": [
       "'白金之星_dummya_dummyb_dummyc'"
      ]
     },
     "execution_count": 1,
     "metadata": {},
     "output_type": "execute_result"
    }
   ],
   "source": [
    "from langchain.schema.runnable import RunnableLambda\n",
    "\n",
    "def dummy_fn_a(argument_a: str) -> str:\n",
    "    return argument_a + \"_dummya\"\n",
    "def dummy_fn_b(argument_b: str) -> str:\n",
    "    return argument_b + \"_dummyb\"\n",
    "def dummy_fn_c(argument_c: str) -> str:\n",
    "    return argument_c + \"_dummyc\"\n",
    "\n",
    "dummy_runnable = RunnableLambda(dummy_fn_a) | RunnableLambda(dummy_fn_b) | RunnableLambda(dummy_fn_c)\n",
    "dummy_runnable.invoke(\"白金之星\")"
   ]
  },
  {
   "cell_type": "markdown",
   "metadata": {},
   "source": [
    "但其實只要其中一方是 Runnable 或 Component，另一方的 function 會自動用 RunnableLambda 包起來"
   ]
  },
  {
   "cell_type": "code",
   "execution_count": 2,
   "metadata": {},
   "outputs": [
    {
     "data": {
      "text/plain": [
       "RunnableLambda(...)\n",
       "| RunnableLambda(...)\n",
       "| RunnableLambda(...)"
      ]
     },
     "execution_count": 2,
     "metadata": {},
     "output_type": "execute_result"
    }
   ],
   "source": [
    "RunnableLambda(dummy_fn_a) | dummy_fn_b | dummy_fn_c"
   ]
  },
  {
   "cell_type": "markdown",
   "metadata": {},
   "source": [
    "# 4. 資料傳遞路徑\n",
    "最基本的資料傳遞路徑是一直線\n",
    "input -> componentA -> componentB -> output"
   ]
  },
  {
   "cell_type": "markdown",
   "metadata": {},
   "source": [
    "## 4.1 並聯 (RunnableMap)\n",
    "\n",
    "分支後再結合\n",
    "```\n",
    "     Input\n",
    "      / \\\n",
    "     /   \\\n",
    " Branch1 Branch2\n",
    "     \\   /\n",
    "      \\ /\n",
    "      Combine\n",
    "```"
   ]
  },
  {
   "cell_type": "code",
   "execution_count": 1,
   "metadata": {},
   "outputs": [
    {
     "name": "stdout",
     "output_type": "stream",
     "text": [
      "[RunnableMap 的輸出]:\n",
      "\n",
      "{'branch1_result': '要不要去她家看會後空翻的貓咪。好哇', 'branch2_result': '要不要去她家看會後空翻的貓咪。因對貓毛過敏而婉拒'}\n",
      "\n",
      "[合體後的輸出]:\n",
      "\n",
      "兩種情況\n",
      "要不要去她家看會後空翻的貓咪。好哇\n",
      "要不要去她家看會後空翻的貓咪。因對貓毛過敏而婉拒\n"
     ]
    }
   ],
   "source": [
    "from langchain.schema.runnable import RunnableMap, RunnableLambda, RunnableSequence\n",
    "\n",
    "def combine(responses: dict):\n",
    "    print(\"[RunnableMap 的輸出]:\\n\")\n",
    "    print(responses)\n",
    "    return f\"兩種情況\\n{responses['branch1_result']}\\n{responses['branch2_result']}\"\n",
    "\n",
    "branched_runnable = RunnableMap({\n",
    "    \"branch1_result\": lambda situation: situation + \"好哇\",\n",
    "    \"branch2_result\": lambda situation: situation + \"因對貓毛過敏而婉拒\",\n",
    "}) | combine \n",
    "\n",
    "inputs = \"要不要去她家看會後空翻的貓咪。\"\n",
    "output = branched_runnable.invoke(inputs)\n",
    "print(\"\\n[合體後的輸出]:\\n\")\n",
    "print(output)"
   ]
  },
  {
   "cell_type": "markdown",
   "metadata": {},
   "source": [
    "我們這邊用了 `RunnableMap` 來包覆 `dict`，其型別應為 `dict[str, Runnable | 任何可被自動轉換成 Runnable 的東西]`\n",
    "\n",
    "`RunnableMap` 的輸入 (input) 會平行地給每一個作為 dict value 的 runnable (在這個例子就是兩個 lambda function)，並且該 runnalbe 吐出的輸出 (output) 會成為 `RunnableMap` 輸出的 dictionary 中的 dict value (見 \"[[RunnableMap 的輸出]\")。"
   ]
  },
  {
   "cell_type": "markdown",
   "metadata": {},
   "source": [
    "而跟上面的 function 一樣，只要 \"|\" 的其中一方是 Runnable，另一方的 dictionary 會自動的被轉換成 `RunnableMap`"
   ]
  },
  {
   "cell_type": "code",
   "execution_count": 2,
   "metadata": {},
   "outputs": [
    {
     "name": "stdout",
     "output_type": "stream",
     "text": [
      "[RunnableMap 的輸出]:\n",
      "\n",
      "{'branch1_result': '要不要去她家看會後空翻的貓咪。好哇', 'branch2_result': '要不要去她家看會後空翻的貓咪。因對貓毛過敏而婉拒'}\n",
      "\n",
      "[合體後的輸出]:\n",
      "\n",
      "兩種情況\n",
      "要不要去她家看會後空翻的貓咪。好哇\n",
      "要不要去她家看會後空翻的貓咪。因對貓毛過敏而婉拒\n"
     ]
    }
   ],
   "source": [
    "branched_runnable = {\n",
    "    \"branch1_result\": lambda situation: situation + \"好哇\", \n",
    "    \"branch2_result\": lambda situation: situation + \"因對貓毛過敏而婉拒\",\n",
    "} | RunnableLambda(combine) \n",
    "output = branched_runnable.invoke(inputs)\n",
    "print(\"\\n[合體後的輸出]:\\n\")\n",
    "print(output)"
   ]
  },
  {
   "cell_type": "markdown",
   "metadata": {},
   "source": [
    "## 4.2 執行多條候選路徑中的其中一條"
   ]
  },
  {
   "cell_type": "markdown",
   "metadata": {},
   "source": [
    "在這個章節的範例中我們會用一些簡單的函式來作為要執行的 runnable 和選擇要執行哪個 runnable 的 runnable，但你可以想像這些 runnables 都是可以用語言模型來改寫的。"
   ]
  },
  {
   "cell_type": "code",
   "execution_count": 1,
   "metadata": {},
   "outputs": [],
   "source": [
    "from langchain.schema.runnable import RunnableBranch, RunnableLambda\n",
    "\n",
    "love_question_solver = RunnableLambda(lambda x: x + \"\\n回答: 分手\")\n",
    "money_question_solver = RunnableLambda(lambda x: x + \"\\n回答: 躺平\")\n",
    "backup_solver = RunnableLambda(lambda x: x + \"\\n回答: 我不清楚\")"
   ]
  },
  {
   "cell_type": "markdown",
   "metadata": {},
   "source": [
    "### 4.2.1 Match 式 (RunnableBranch)\n",
    "如同 Python 的 `match` 一樣 (其他語言可能叫 `switch`)，符合該條件則執行該條件下的程式"
   ]
  },
  {
   "cell_type": "code",
   "execution_count": 2,
   "metadata": {},
   "outputs": [
    {
     "name": "stdout",
     "output_type": "stream",
     "text": [
      "我想知道他是不是還愛我?\n",
      "回答: 分手\n",
      "\n",
      "不夠錢買房怎麼辦?\n",
      "回答: 躺平\n",
      "\n",
      "1+1=?\n",
      "回答: 我不清楚\n",
      "\n"
     ]
    }
   ],
   "source": [
    "match_runnable = RunnableBranch(\n",
    "    (lambda question: \"愛\" in question, love_question_solver), # (輸出為 boolean 的 runnable,  執行的 runnable)\n",
    "    (lambda question: \"錢\" in question, money_question_solver), # (輸出為 boolean 的 runnable,  執行的 runnable)\n",
    "    backup_solver,\n",
    ")\n",
    "print(match_runnable.invoke(\"我想知道他是不是還愛我?\"), end='\\n\\n') # love_question_solver\n",
    "print(match_runnable.invoke(\"不夠錢買房怎麼辦?\"), end='\\n\\n') # money_question_solver\n",
    "print(match_runnable.invoke(\"1+1=?\"), end='\\n\\n') # backup_solver"
   ]
  },
  {
   "cell_type": "markdown",
   "metadata": {},
   "source": [
    "### 4.2.2 Routing 式 "
   ]
  },
  {
   "cell_type": "code",
   "execution_count": 3,
   "metadata": {},
   "outputs": [
    {
     "name": "stdout",
     "output_type": "stream",
     "text": [
      "我想知道他是不是還愛我?\n",
      "回答: 分手\n",
      "\n",
      "不夠錢買房怎麼辦?\n",
      "回答: 躺平\n",
      "\n",
      "1+1=?\n",
      "回答: 我不清楚\n",
      "\n"
     ]
    }
   ],
   "source": [
    "def route(question: str):\n",
    "    if \"錢\" in question:\n",
    "        return money_question_solver\n",
    "    elif \"愛\" in question:\n",
    "        return love_question_solver\n",
    "    else:\n",
    "        return backup_solver\n",
    "\n",
    "route_runnable = RunnableLambda(route)\n",
    "print(route_runnable.invoke(\"我想知道他是不是還愛我?\"), end='\\n\\n') # love_question_solver\n",
    "print(route_runnable.invoke(\"不夠錢買房怎麼辦?\"), end='\\n\\n') # money_question_solver\n",
    "print(route_runnable.invoke(\"1+1=?\"), end='\\n\\n') # backup_solver"
   ]
  },
  {
   "cell_type": "markdown",
   "metadata": {},
   "source": [
    "**想想看：**\n",
    "\n",
    "兩種選擇方式各有什麼優缺點？\n",
    "\n",
    "<details>\n",
    "<summary>參考</summary>\n",
    "Match 適合簡單的條件判斷或有明確的優先順序要求，否則的話 Router 式可以只透過一個 LLM Call 就能判別要走哪個分支。\n",
    "</details>"
   ]
  },
  {
   "cell_type": "markdown",
   "metadata": {},
   "source": [
    "# 5. 為傳遞的資料添加新值\n",
    "一般的情況是\n",
    "```\n",
    "資料Ａ --> 資料Ｂ\n",
    "```\n",
    "但有時我們想要的是 \n",
    "```\n",
    "資料Ａ --> 資料A, 資料Ｂ=處理(資料Ａ)\n",
    "```"
   ]
  },
  {
   "cell_type": "code",
   "execution_count": 1,
   "metadata": {},
   "outputs": [],
   "source": [
    "from langchain.prompts import PromptTemplate\n",
    "\n",
    "inputs = {'e1': 2, 'e2': 3}\n",
    "\n",
    "expected_outputs = {'e1': 2, 'e2': 3, 'e3': 5}\n",
    "\n",
    "template = \"\"\"\n",
    "數字1: {e1}\n",
    "數字2: {e2}\n",
    "數字3: {e3}\n",
    "下一個數字是什麼\"\"\"\n",
    "prompt = PromptTemplate.from_template(template)\n",
    "\n",
    "# runnable = ? | prompt | ....\n",
    "# runnablbe.invoke(inputs)"
   ]
  },
  {
   "cell_type": "markdown",
   "metadata": {},
   "source": [
    "## 5.1 用 RunnalbePassthrough.bind"
   ]
  },
  {
   "cell_type": "code",
   "execution_count": 1,
   "metadata": {},
   "outputs": [
    {
     "name": "stdout",
     "output_type": "stream",
     "text": [
      "{'e1': 2, 'e2': 3, 'e3': 5}\n"
     ]
    }
   ],
   "source": [
    "from langchain.schema.runnable import RunnablePassthrough\n",
    "\n",
    "add_by_pass = RunnablePassthrough.assign(e3=lambda x: x['e1'] + x['e2'])\n",
    "print(add_by_pass.invoke({'e1': 2, 'e2': 3}))"
   ]
  },
  {
   "cell_type": "markdown",
   "metadata": {},
   "source": [
    "由此可見 `RunnablePassthrough.assign` 的功能可以理解成 `input[key] = create_value(input)`，在保有原資料下新增新的資料進去。\n",
    "\n",
    "或是可以從字面上理解：把自己傳過去 (PassThrough) 同時外加指定一個值 (assign)"
   ]
  },
  {
   "cell_type": "markdown",
   "metadata": {},
   "source": [
    "## 5.2 用 RunnalbeMap"
   ]
  },
  {
   "cell_type": "markdown",
   "metadata": {},
   "source": [
    "另外一種等價的寫法"
   ]
  },
  {
   "cell_type": "code",
   "execution_count": 1,
   "metadata": {},
   "outputs": [
    {
     "data": {
      "text/plain": [
       "{'e1': 2, 'e2': 3, 'e3': 5}"
      ]
     },
     "execution_count": 1,
     "metadata": {},
     "output_type": "execute_result"
    }
   ],
   "source": [
    "from operator import itemgetter\n",
    "from langchain.schema.runnable import RunnableMap\n",
    "\n",
    "add_by_map = RunnableMap({\n",
    "    \"e1\": itemgetter('e1'), # 任意函式碰到 Runnable 會自動被包成 RunnableLambda 來串接\n",
    "    \"e2\": itemgetter('e2'),\n",
    "    \"e3\": lambda x: x['e1'] + x['e2']\n",
    "})\n",
    "add_by_map.invoke({'e1': 2, 'e2': 3})"
   ]
  },
  {
   "cell_type": "markdown",
   "metadata": {},
   "source": [
    "**想想看**\n",
    "\n",
    "兩種寫法之間的優劣在哪？\n",
    "\n",
    "<details>\n",
    "<summary>參考</summary>\n",
    "RunnableMap 的寫法個人覺得比較清楚。除非傳過來的資料有非常多的 key ，但我們只需要增加少量的 key，此時用 RunnablePassthrough.assign 可以避免把程式碼寫得太長。\n",
    "</details>"
   ]
  },
  {
   "cell_type": "markdown",
   "metadata": {},
   "source": [
    "# 6. Runtime Arguments\n",
    "從之前的介紹我們可以發現有些重要的參數 (arguments) 是在呼叫模型 (model) 進行生成 (generation) 而非建立模型的物件 (initialization) 時傳入的，例如 `stop` 又或者是 `functions` 和 `function_call` 等等。在使用 LCEL (Langchain Expression Language) 時，我們可以透過 `bind` 來傳入這些參數 (arguments)"
   ]
  },
  {
   "cell_type": "code",
   "execution_count": 1,
   "metadata": {},
   "outputs": [
    {
     "name": "stdout",
     "output_type": "stream",
     "text": [
      "製造硫酸的主要步驟如下：\n",
      "\n",
      "1. 原料準備：準備硫磺（硫黃）作為主要原料。硫磺可以從天然硫磺礦石中提取或經過硫磺氧化反應得到。\n",
      "\n",
      "2. 硫磺氧化：將硫磺進行氧化反應，使其轉化為二氧化硫（SO2）氣體。這一步通常使用空氣或氧氣進行。\n",
      "\n",
      "3. 催化轉化：將SO2氣體與空氣中的氧氣進行催化反應，產生硫三氧化（SO3）。\n",
      "\n",
      "4. 吸收硫三氧化：將SO3氣體通過吸收劑，通常使用濕式吸收法，將SO3吸收到硫酸中。\n",
      "\n",
      "5. 濃縮硫酸：將吸收到硫酸中的SO3與水反應，生成硫酸（H2SO4）。這一步通常需要將反應混合物進行冷卻和濃縮，以獲得高濃度的硫酸。\n",
      "\n",
      "6. 精煉硫酸：將獲得的硫酸進行精煉和純化，以去除其中的雜質和不純物。\n",
      "\n",
      "以上是一般用白金製造硫酸的步驟，然而，由於白金價格昂貴，實際製造硫酸時通常會使用其他相對便宜的催化劑，例如二氧化鉬或五氧化二鉬等。\n",
      "===========================================================================================\n",
      "白金製造硫酸的步驟如下：\n",
      "\n",
      "1. 準備白金觸媒：將白金催化劑放入反應器中。白金通常以絲狀或顆粒狀存在，較常見的白金觸媒是以白金黑或白金網製成。\n",
      "\n",
      "\n"
     ]
    }
   ],
   "source": [
    "from langchain.prompts import ChatPromptTemplate\n",
    "from langchain_setup import ChatOpenAI\n",
    "\n",
    "prompt = ChatPromptTemplate.from_messages([(\"human\", \"請告訴我用{material}製造出硫酸的步驟。\")])\n",
    "model = ChatOpenAI()\n",
    "\n",
    "chain1 = prompt | model\n",
    "output1 = chain1.invoke({'material': '白金'})\n",
    "print(output1.content)\n",
    "print(\"===========================================================================================\")\n",
    "\n",
    "chain2 = prompt | model.bind(stop=[\"2.\"])\n",
    "output2 = chain2.invoke({'material': '白金'})\n",
    "print(output2.content)"
   ]
  }
 ],
 "metadata": {
  "kernelspec": {
   "display_name": "dev",
   "language": "python",
   "name": "python3"
  },
  "language_info": {
   "codemirror_mode": {
    "name": "ipython",
    "version": 3
   },
   "file_extension": ".py",
   "mimetype": "text/x-python",
   "name": "python",
   "nbconvert_exporter": "python",
   "pygments_lexer": "ipython3",
   "version": "3.10.12"
  },
  "orig_nbformat": 4
 },
 "nbformat": 4,
 "nbformat_minor": 2
}
