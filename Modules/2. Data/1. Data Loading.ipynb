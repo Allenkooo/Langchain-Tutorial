{
 "cells": [
  {
   "cell_type": "markdown",
   "metadata": {},
   "source": [
    "資料讀取器（Document Loader）是各種形式的資料與 LLM 間的橋樑，會把某種形式的資料產成純文字的文件（Documents），而這些 Documents 之後會成為 LLM 的資訊來源。"
   ]
  },
  {
   "cell_type": "code",
   "execution_count": 1,
   "metadata": {},
   "outputs": [
    {
     "name": "stdout",
     "output_type": "stream",
     "text": [
      "文件數: 1\n",
      "\n",
      "\n",
      "\n",
      "=======================================\n",
      "Document 1:\n",
      "\n",
      "今天來介紹日本最具代表性的軟體開發手法\n",
      "它的名子為 **隕石落下型開發**。\n",
      "\n",
      "# 第一節\n",
      "\n",
      "通常的**瀑布式開發**是像下面這樣的形式:\n",
      "| 步驟 | 內容     | 負責人     |\n",
      "| ---- | -------- | ---------- |\n",
      "| 1    | 要件定義 | Producer   |\n",
      "| 2    | 基本設計 | Director   |\n",
      "| 3    | 詳細設計 | Planner    |\n",
      "| 4    | 實裝     | Programmer |\n",
      "\n",
      "\n",
      "而**隕石式開發**是像下面這樣子的形式：\n",
      "|     | 步驟 | 內容     | 負責人     |\n",
      "| --- | ---- | -------- | ---------- |\n",
      "| 神  | 1    | 要件定義 | Producer   |\n",
      "| 神  | 2    | 基本設計 | Director   |\n",
      "| 神  | 3    | 詳細設計 | Planner    |\n",
      "| 神  | 4    | 實裝     | Programmer |\n",
      "\n",
      "然後就會這樣（全部都被隕石砸到爆炸）：\n",
      "\n",
      "💥要件定義💥Producer💥基本設計💥Director💥詳細設計💥Planner💥實裝💥Programmer\n",
      "\n",
      "這是敏捷式開法守法的循環\n",
      "\n",
      "[要件定義->基本設計->詳細設計->實裝]->[要件定義->基本設計->詳細設計->實裝]->\n",
      "\n",
      "但在神的面前都是無力的（全部都被隕石砸到爆炸）\n",
      "\n",
      "[要件💥定義-💥>基本設計💥->詳細設💥計->實💥裝]<->[要件定💥義->基本設💥計->詳💥細設💥計->💥實裝]->\n",
      "\n",
      "在神的一聲令下全部都會**崩壞**，\n",
      "\n",
      "而人民會努力地**重建**，\n",
      "\n",
      "這就是 -- 隕石落下式開發法。\n",
      "\n",
      "# 第二節\n",
      "\n",
      "全部的計畫表都是由**天界**的一己之願來訂定，這被稱為**默示錄**\n",
      "\n",
      "雖然在軟體工程中回饋是個重要的因素\n",
      "\n",
      "但回饋**不會傳達**到神的耳裡\n",
      "\n",
      "只是我們可以獻上我們的**祈禱**，這些祈禱在**非常稀有**的情況下能上達天聽。\n",
      "\n",
      "神會以**各種姿態**出現，有從外部來的，也有從內部來的。\n",
      "\n",
      "或者也可能是，還沒遇到的 or 見都見不到的某些人（像是版權持有人、專利所有者，這種形式的神明，則更為凶惡）\n",
      "\n",
      "軟體開發的過程中，一步登天這樣有效率的方法是不存在，但相反的，像是天空之城裡一箭毀滅的因陀羅之箭卻是存在的。\n",
      "\n",
      "# 第三節\n",
      "\n",
      "但即使如此，由一個人的神明在建立的秩序**還算好的**。\n",
      "\n",
      "問題是，神明有**兩個人以上**的情況。這些神明們偶爾會下達相反的旨意，偶爾會吵架。\n",
      "\n",
      "這個我們稱為**諸神黃昏（Ragnarök）**（而受害的永遠都是我們這些人民們）\n",
      "\n",
      "或是，當原本的神明正在建築秩序時，新的神明出現，將舊神一起**全部吹飛**\n",
      "的事情也是有可能發生的。這個我們稱為**聖戰（Jihad）**\n",
      "\n",
      "根據不同的神明，也有擁有絕對的力量但是存在**極微稀薄**的神，而怎麼找也找不到的恐怕是邪神。\n",
      "\n",
      "然後我們千辛萬苦做出的供品，會在我們不知道的地方被**華麗地**發表。然後偶爾會從這邊再誕生出新的需求規格。\n",
      "\n",
      "# 結論\n",
      "\n",
      "今天，我們介紹了日本的軟體開發現場偶爾自然地、應該說災厄地發生的隕石落下式開發法。\n",
      "\n",
      "**順道一提，對這種情況我們完全無法抵抗。** 你們，應該說我們，只能祈禱能儘早地去適應它。\n",
      "\n",
      "本文章為虛構，跟一切實際的人物、團體無關。（希望是這樣）\n",
      "\n",
      "\n",
      "Metadata:{'source': '..\\\\..\\\\data\\\\notion\\\\隕石落下式開發法.md'}\n"
     ]
    }
   ],
   "source": [
    "from pprint import pprint\n",
    "from langchain.document_loaders import NotionDirectoryLoader\n",
    "from langchain_setup import pprint_documents # 我寫的 helper function\n",
    "\n",
    "notion_loader = NotionDirectoryLoader(path='../../data/notion')\n",
    "\n",
    "documents = notion_loader.load()\n",
    "print(\"文件數:\", len(documents), end='\\n\\n')\n",
    "print(\"\\n\\n=======================================\")\n",
    "pprint_documents(documents)"
   ]
  },
  {
   "cell_type": "markdown",
   "metadata": {},
   "source": [
    "Langchain 提供了種類眾多的資料讀取器，包括但不限於以下：\n",
    "- 純文字檔：TextLoader\n",
    "- 網頁：UnstructuredHTMLoader, ToMarkdownLoader\n",
    "- Office: UnstructuredWordDocumentLoader, UnstructuredPowerPointLoader, UnstructuredExcelLoader, OutlookMessageLoader\n",
    "- 常見文件：PyPDFDirectoryLoader, UnstructuredEPubLoader\n",
    "- 雲端：S3DirectoryLoader, OneDriveLoader, GCSDirectoryLoader\n",
    "- 生產力：TrelloLoader, NotionDBLoader\n",
    "- 程式碼相關：NotebookLoader, UnstructuredAPIFileLoader, PythonLoader, GitLoader\n",
    "- 常見程式開發文件：JSONLoader, UnstructuredCSVLoader, UnstructuredXMLLoader\n",
    "- 程式開發服務：PySparkDataFrameLoader, SeleniumURLLoader\n",
    "- 知名網站：RedditPostsLoader, ArxivLoader, WeatherDataLoader, WikipediaLoader\n",
    "- 影音: YoutubeLoader, BiliBiliLoader, UnstructuredImageLoader, YoutubeAudioLoader\n",
    "- 通訊軟體：TwitterTweetLoader, WhatsAppChatLoader, DiscordChatLoader, FacebookChatLoader\n",
    "- 其他: BlockchainDocumentLoader"
   ]
  },
  {
   "cell_type": "markdown",
   "metadata": {},
   "source": [
    "**想想看：我們可以利用 LLM 在這些資料上做什麼樣的應用？**"
   ]
  }
 ],
 "metadata": {
  "kernelspec": {
   "display_name": "Python 3",
   "language": "python",
   "name": "python3"
  },
  "language_info": {
   "codemirror_mode": {
    "name": "ipython",
    "version": 3
   },
   "file_extension": ".py",
   "mimetype": "text/x-python",
   "name": "python",
   "nbconvert_exporter": "python",
   "pygments_lexer": "ipython3",
   "version": "3.10.12"
  },
  "orig_nbformat": 4
 },
 "nbformat": 4,
 "nbformat_minor": 2
}
