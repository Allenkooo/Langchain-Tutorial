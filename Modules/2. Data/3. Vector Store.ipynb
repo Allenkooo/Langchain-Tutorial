{
 "cells": [
  {
   "cell_type": "markdown",
   "metadata": {},
   "source": [
    "# 1. Embedding Model (向量模型)\n",
    "在介紹向量存儲前 (Vectorstore)，先來了解什麼是向量 (embedding) 和如何製作向量。\n",
    "\n",
    "透過文字向量模型，可以將一段文字 (text) 轉成一串數字，也就是向量。注意每個向量長度，也就是有幾個數字，是固定的不依文字長短改變。\n",
    "\n",
    "這個文字向量可以代表這段文字的語義 (可參考)。\n",
    "\n",
    "這些向量有很多不同的用途，但在這邊我們是為了做以向量為基礎的文件抽取 (embedding-based retrieval)。利用相似的文字會有相似的向量的特性，透過比較文字向量間的相似度來找出相似的文件。"
   ]
  },
  {
   "cell_type": "code",
   "execution_count": 1,
   "metadata": {},
   "outputs": [],
   "source": [
    "import numpy as np\n",
    "from numpy.linalg import norm\n",
    "from langchain.embeddings import OpenAIEmbeddings\n",
    "import langchain_setup\n",
    "\n",
    "embedding_model = OpenAIEmbeddings()  # 文字向量模型, 預設為 text-embedding-ada-002"
   ]
  },
  {
   "cell_type": "markdown",
   "metadata": {},
   "source": [
    "透過向量模型 (embedding model)，我們會得到一連串的數字代表每段文字 (text)"
   ]
  },
  {
   "cell_type": "code",
   "execution_count": 2,
   "metadata": {},
   "outputs": [
    {
     "name": "stdout",
     "output_type": "stream",
     "text": [
      "document_embeddings: (4, 1536)\n",
      "query_embeddings: (1536,)\n"
     ]
    }
   ],
   "source": [
    "# 將一堆文字 (texts) 轉成向量 (embeddings)\n",
    "texts = [\n",
    "    \"英國最新研究顯示：人被殺就會死。\",  # document 1\n",
    "    \"海的對面有什麼，海的對面有敵人。\",  # document 2\n",
    "    \"努估誰唷？\",  # document 3\n",
    "    \"一袋米要扛幾樓？一袋米要扛二樓。\",  # document 4\n",
    "]\n",
    "document_embeddings: list[list[float]] = embedding_model.embed_documents(texts)\n",
    "document_embeddings = np.array(document_embeddings)\n",
    "print(\"document_embeddings:\", document_embeddings.shape)\n",
    "\n",
    "# 將一段文字 (text) 轉成向量 (embedding)\n",
    "query = \"扛一袋米有多麻煩？\"\n",
    "query_embeddings: list[float] = embedding_model.embed_query(query)\n",
    "query_embeddings = np.array(query_embeddings)\n",
    "print(\"query_embeddings:\", query_embeddings.shape)"
   ]
  },
  {
   "cell_type": "markdown",
   "metadata": {},
   "source": [
    "透過比較向量 (embedding) 我們可以看出誰跟誰更相似。(之後介紹的向量存儲 (vectorstore) 會自動幫我們做這些事，所以不必太在意看不懂程式碼)，這邊用的是cosine 相似度，介於-1~1之間，越高越像。"
   ]
  },
  {
   "cell_type": "code",
   "execution_count": 3,
   "metadata": {},
   "outputs": [
    {
     "name": "stdout",
     "output_type": "stream",
     "text": [
      "相似度(扛一袋米有多麻煩？, 英國最新研究顯示：人被殺就會死。): 0.3709144687064924\n",
      "相似度(扛一袋米有多麻煩？, 海的對面有什麼，海的對面有敵人。): 0.388389953971131\n",
      "相似度(扛一袋米有多麻煩？, 努估誰唷？): 0.4101972948317287\n",
      "相似度(扛一袋米有多麻煩？, 一袋米要扛幾樓？一袋米要扛二樓。): 0.45302219992860476\n"
     ]
    }
   ],
   "source": [
    "def cosine_similarity(a, b):\n",
    "    return (a @ b.T) / (norm(a) * norm(b))\n",
    "\n",
    "\n",
    "similarities = cosine_similarity(query_embeddings[None, :], document_embeddings)\n",
    "for text, similarity in zip(texts, similarities[0]):\n",
    "    print(f\"相似度({query}, {text}): {similarity}\")"
   ]
  },
  {
   "cell_type": "markdown",
   "metadata": {},
   "source": [
    "**想想看：**\n",
    "1. 相似就一定相關嗎？\n",
    "2. 當文章非常長，但向量的長度又不會變，在壓縮的過程中是否為丟失資訊？\n",
    "3. 語義 (semantics) 相似是否可以取代語面 (lexical) 相似"
   ]
  },
  {
   "cell_type": "markdown",
   "metadata": {},
   "source": [
    "# 2. Vector Store 介紹"
   ]
  },
  {
   "cell_type": "markdown",
   "metadata": {},
   "source": [
    "## 2.1 什麼是 Vectorstore?\n",
    "Vector Store 主要提供以下的功能：\n",
    "- 儲存文件 (document) 和對應的embedding (storing embedded data)\n",
    "- 藉由比較 embedding 的相似度，抽取出對應的文件 (performing vector search)"
   ]
  },
  {
   "cell_type": "markdown",
   "metadata": {},
   "source": [
    "## 2.2 要用哪種 Vectorstore?\n",
    "我個人的挑選過程如下\n",
    "\n",
    "1. 從 [Langchain - Vector stores](https://python.langchain.com/docs/integrations/vectorstores/) 中找到目前 Langchain 有支援的作為候選\n",
    "\n",
    "2. 能夠不用另外開 server（Server Storage）或擾亂檔案系統 (Disk Storage) ，使用程式關閉後就會消失的存儲 (In-memory storage)，對初期或原型的開發有著非常重要的好處。執筆時只知道 Chroma 和 Qdrant 有這個功能。\n",
    "\n",
    "    - 但 Chroma 提供的是假 In-memory storage，它會存檔案在 `~/.chroma` 裡，等程式結束後再刪掉。所以在同一程式執行中開啟的 Chroma 都會連到同一個資料庫 (除非手動指定 collection)。\n",
    "        ```\n",
    "        c1 = Chroma.from_documents(documents=[docs[0]], embedding=OpenAIEmbeddings())\n",
    "        c2 = Chroma.from_documents(documents=[docs[1]], embedding=OpenAIEmbeddings())\n",
    "        print(c1.get()['documents'])\n",
    "        print(c2.get()['documents'] )\n",
    "        # c1 和 c2 都會包含 docs[0] 和 docs[1]，明明是建立兩個資料庫卻會累積 \n",
    "        ```\n",
    "\n",
    "3. 表現 (Performance)：Qdrant 做過一個評測 (Benchmark) 來證明它們的速度很快準度很好。[連結](https://qdrant.tech/benchmarks/)。另外 Qdrant 是以 Rust 撰寫， Chroma 似乎是利用 Python 呼叫 C++ 程式庫。\n",
    "\n",
    "4. 功能 (Features)：Qdrant 是少數支援 async 的，Chroma 則尚未支援\n",
    "\n",
    "5. 教學文件 (Documentation)：Chroma 的教學文件網站沒有搜尋引擎\n",
    "\n",
    "6. 未來成長性：很難評估，但其中一種方式是透過獲得的融資判斷。Chroma 獲得 1800 萬融資，Qdrant 獲得 750 萬融資。\n",
    "\n",
    "7. License：Qdrant 跟 Chroma 都是開源可商用\n",
    "\n",
    "根據執筆時得到的資料和判斷，以下介紹 Qdrant 的用法，並且作為接下來的內容使用的 Vectorstore。"
   ]
  },
  {
   "cell_type": "markdown",
   "metadata": {},
   "source": [
    "# 3. Vector store 使用方法"
   ]
  },
  {
   "cell_type": "code",
   "execution_count": 1,
   "metadata": {},
   "outputs": [],
   "source": [
    "import os\n",
    "from pprint import pprint\n",
    "from qdrant_client import QdrantClient\n",
    "from langchain.embeddings import OpenAIEmbeddings\n",
    "from langchain.vectorstores import Qdrant\n",
    "from langchain.schema import Document\n",
    "from langchain.indexes import SQLRecordManager, index\n",
    "\n",
    "# 我寫的輔助函式 (helper functions)\n",
    "from langchain_setup.qdrant import create_empty_qdrant, pprint_qdrant_documents"
   ]
  },
  {
   "cell_type": "markdown",
   "metadata": {},
   "source": [
    "## 3.1 Creation (建立)\n",
    "Langchain 的 vectorstore 介面 (interface) 為所有廠牌的 vectorstore 提供了兩種方式，`from_texts` 和 `from_documents`，來建立新的 vectorstore。\n",
    "\n",
    "而建立 Qdrant 牌的 vectorstore 時，不能直接建立一個空的 vectorstore。所以我寫了一個 `create_empty_qdrant` 的小函式來方便做到這件事。（建立 Qdrant 需要提供 embedding 向量的長度，而這個需要先傳文件進去 embed 後才能得到，所以先建立一個只有一個字的文件的 vectorstore 後再把該文件刪掉來做出空的 qdrant vectorstore)"
   ]
  },
  {
   "cell_type": "code",
   "execution_count": 2,
   "metadata": {},
   "outputs": [
    {
     "name": "stdout",
     "output_type": "stream",
     "text": [
      "建立一個空的 Qdrant Vectorstore\n",
      "\n",
      "\n",
      "=======================================\n",
      "從文字自動建立文件和 Vectorstore。 document metadata 為空\n",
      "\n",
      "Document 02b88eed97c24b1e97123ef47fda4570:\n",
      "\n",
      "妮娜小妹妹的大哥哥\n",
      "\n",
      "Metadata:{}\n",
      "----------------------------------------------------------------------------------------------------\n",
      "Document c67abe4b30544dcfb0a4da9018fd210c:\n",
      "\n",
      "一言不合，麻美掉頭就走\n",
      "\n",
      "Metadata:{}\n",
      "=======================================\n",
      "建立包含這些文件的新 Vectorstore\n",
      "\n",
      "Document b89546979e1b43e8a5d7ed38b1a1d18a:\n",
      "\n",
      "妮娜小妹妹的大哥哥\n",
      "\n",
      "Metadata:{'物種': 'chimera'}\n",
      "----------------------------------------------------------------------------------------------------\n",
      "Document cf061bd03209444bb4b25ead679d07f7:\n",
      "\n",
      "一言不合，麻美掉頭就走\n",
      "\n",
      "Metadata:{'種族': 'durahan'}\n",
      "=======================================\n"
     ]
    }
   ],
   "source": [
    "from langchain.embeddings import OpenAIEmbeddings\n",
    "from langchain.vectorstores import Qdrant\n",
    "from langchain.schema import Document\n",
    "from langchain_setup.qdrant import create_empty_qdrant, pprint_qdrant_documents # # 我寫的輔助函式 (helper functions)\n",
    "\n",
    "print(\"建立一個空的 Qdrant Vectorstore\", end=\"\\n\\n\")\n",
    "empty_qdrant = create_empty_qdrant(\n",
    "    embedding=OpenAIEmbeddings(),  # embedding model\n",
    "    # Qdrant 特有 (specific) 參數 (key word arguments)\n",
    "    location=\":memory:\",  # 存在 RAM 裡\n",
    ")\n",
    "pprint_qdrant_documents(empty_qdrant)\n",
    "print(\"=======================================\")\n",
    "\n",
    "print(\"從文字自動建立文件和 Vectorstore。 document metadata 為空\", end=\"\\n\\n\")\n",
    "qdrant_from_texts = Qdrant.from_texts(\n",
    "    texts=[\n",
    "        \"一言不合，麻美掉頭就走\",\n",
    "        \"妮娜小妹妹的大哥哥\",\n",
    "    ],\n",
    "    embedding=OpenAIEmbeddings(),  # embedding model\n",
    "    location=\":memory:\",\n",
    ")\n",
    "pprint_qdrant_documents(qdrant_from_texts)\n",
    "print(\"=======================================\")\n",
    "\n",
    "print(\"建立包含這些文件的新 Vectorstore\", end=\"\\n\\n\")\n",
    "qdrant_from_docs = Qdrant.from_documents(\n",
    "    documents=[\n",
    "        Document(page_content=\"一言不合，麻美掉頭就走\", metadata={\"種族\": \"durahan\"}),\n",
    "        Document(page_content=\"妮娜小妹妹的大哥哥\", metadata={\"物種\": \"chimera\"}),\n",
    "    ],\n",
    "    embedding=OpenAIEmbeddings(),  # embedding model\n",
    "    location=\":memory:\",\n",
    ")\n",
    "pprint_qdrant_documents(qdrant_from_docs)\n",
    "print(\"=======================================\")"
   ]
  },
  {
   "cell_type": "markdown",
   "metadata": {},
   "source": [
    "## 3.2 Collections\n",
    "每一個 Collection（某些廠牌叫 index）是一群資料的集合，collections 實現了資料的分隔 (partition)，在某個 collection 做搜尋時不會搜尋到其他的 collection。但注意關於是否要用多個 collection 可以參考[官方的文章](https://qdrant.tech/documentation/concepts/collections/)"
   ]
  },
  {
   "cell_type": "code",
   "execution_count": 1,
   "metadata": {},
   "outputs": [],
   "source": [
    "from langchain.embeddings import OpenAIEmbeddings\n",
    "from langchain_setup.qdrant import create_empty_qdrant\n",
    "\n",
    "empty_qdrant = create_empty_qdrant(\n",
    "    embedding=OpenAIEmbeddings(),  # embedding model\n",
    "    # Qdrant 特有 (specific) 參數 (key word arguments)\n",
    "    location=\":memory:\",  # 存在 RAM\n",
    "    collection_name=\"empty_empty_like_and\",  # 空空如也\n",
    ")"
   ]
  },
  {
   "cell_type": "markdown",
   "metadata": {},
   "source": [
    "## 3.3 Storage (存儲)\n",
    "每家廠牌支援的存儲類型，使用方式，實作方式都不一樣，這邊以 Qdrant 介紹。\n",
    "\n",
    "這邊介紹兩種地端的存儲方式，雲端方式可以參考[官方的文章](https://qdrant.tech/documentation/integrations/langchain/)"
   ]
  },
  {
   "cell_type": "markdown",
   "metadata": {},
   "source": [
    "### 3.3.1 In-memory\n",
    "存在 memory 中，程式結束或實體 (instance) 消滅後就會消滅"
   ]
  },
  {
   "cell_type": "code",
   "execution_count": 1,
   "metadata": {},
   "outputs": [],
   "source": [
    "from langchain.embeddings import OpenAIEmbeddings\n",
    "from langchain.vectorstores import Qdrant\n",
    "import langchain_setup\n",
    "\n",
    "qdrant_from_texts = Qdrant.from_texts(\n",
    "    texts=[\n",
    "        \"一言不合，麻美掉頭就走\",\n",
    "        \"妮娜小妹妹的大哥哥\",\n",
    "    ],\n",
    "    embedding=OpenAIEmbeddings(),  # embedding model\n",
    "    location=\":memory:\",\n",
    ")"
   ]
  },
  {
   "cell_type": "markdown",
   "metadata": {},
   "source": [
    "### 3.3.2 Disk\n",
    "存在地端檔案系統中"
   ]
  },
  {
   "cell_type": "code",
   "execution_count": 1,
   "metadata": {},
   "outputs": [
    {
     "name": "stdout",
     "output_type": "stream",
     "text": [
      "tmp49ljeofg/\n",
      "    .lock\n",
      "    meta.json\n",
      "    collection/\n",
      "        disk_test/\n",
      "            storage.sqlite\n"
     ]
    }
   ],
   "source": [
    "import os\n",
    "from pprint import pprint\n",
    "from tempfile import TemporaryDirectory\n",
    "from qdrant_client import QdrantClient\n",
    "from langchain.schema import Document\n",
    "from langchain.embeddings import OpenAIEmbeddings\n",
    "from langchain.vectorstores import Qdrant\n",
    "from langchain_setup.qdrant import pprint_qdrant_documents\n",
    "\n",
    "tmp_dir = TemporaryDirectory()\n",
    "\n",
    "qdrant_from_texts = Qdrant.from_texts(\n",
    "    texts=[\n",
    "        \"一言不合，麻美掉頭就走\",\n",
    "        \"妮娜小妹妹的大哥哥\",\n",
    "    ],\n",
    "    embedding=OpenAIEmbeddings(),  # embedding model\n",
    "    path=tmp_dir.name,\n",
    "    collection_name=\"disk_test\",\n",
    ")\n",
    "\n",
    "def list_files(startpath):\n",
    "    for root, dirs, files in os.walk(startpath):\n",
    "        level = root.replace(startpath, \"\").count(os.sep)\n",
    "        indent = \" \" * 4 * (level)\n",
    "        print(\"{}{}/\".format(indent, os.path.basename(root)))\n",
    "        subindent = \" \" * 4 * (level + 1)\n",
    "        for f in files:\n",
    "            print(\"{}{}\".format(subindent, f))\n",
    "\n",
    "\n",
    "list_files(tmp_dir.name)"
   ]
  },
  {
   "cell_type": "markdown",
   "metadata": {},
   "source": [
    "## 3.4 使用既存的資料庫\n",
    "以 disk 存儲為例"
   ]
  },
  {
   "cell_type": "code",
   "execution_count": 2,
   "metadata": {},
   "outputs": [],
   "source": [
    "qdrant_from_texts.client.close()  # 開啟同一個硬碟路徑的 client 只能有一個，為示範建立 client，把前面的先關掉"
   ]
  },
  {
   "cell_type": "code",
   "execution_count": 3,
   "metadata": {},
   "outputs": [
    {
     "name": "stdout",
     "output_type": "stream",
     "text": [
      "Document 8d9d139b9c154229a8e725087967a324:\n",
      "\n",
      "一言不合，麻美掉頭就走\n",
      "\n",
      "Metadata:{}\n",
      "----------------------------------------------------------------------------------------------------\n",
      "Document 95d2adf5f31144c2bfc563c5889c9026:\n",
      "\n",
      "妮娜小妹妹的大哥哥\n",
      "\n",
      "Metadata:{}\n"
     ]
    }
   ],
   "source": [
    "vectorstore = Qdrant(\n",
    "    client=QdrantClient(path=tmp_dir.name),\n",
    "    collection_name=\"disk_test\",  # 必須\n",
    "    embeddings=OpenAIEmbeddings(),  # 必須跟先前用的是同一個 embedding model\n",
    ")\n",
    "pprint_qdrant_documents(vectorstore)"
   ]
  },
  {
   "cell_type": "markdown",
   "metadata": {},
   "source": [
    "## 3.5 檢視內部\n",
    "這個得直接使用各個廠牌自己的函式庫 (Library) 的實作。\n",
    "\n",
    "而我寫的 `pprint_qdrant_documents` 也是基於 Qdrant 所提供的 `scroll` 函式來實作的。"
   ]
  },
  {
   "cell_type": "code",
   "execution_count": 4,
   "metadata": {},
   "outputs": [
    {
     "name": "stdout",
     "output_type": "stream",
     "text": [
      "接下來使用的是 Qdrant 而非 Langchain 的功能\n",
      "<qdrant_client.qdrant_client.QdrantClient object at 0x000001DBAF691810>\n",
      "\n",
      "檢視有哪些 collections: \n",
      "collections=[CollectionDescription(name='disk_test')]\n",
      "\n",
      "檢視有哪些文件：\n",
      "[Record(id='8d9d139b9c154229a8e725087967a324', payload={'page_content': '一言不合，麻美掉頭就走', 'metadata': None}, vector=None),\n",
      " Record(id='95d2adf5f31144c2bfc563c5889c9026', payload={'page_content': '妮娜小妹妹的大哥哥', 'metadata': None}, vector=None)]\n"
     ]
    }
   ],
   "source": [
    "print(\"接下來使用的是 Qdrant 而非 Langchain 的功能\")\n",
    "print(vectorstore.client, end=\"\\n\\n\")\n",
    "\n",
    "print(\"檢視有哪些 collections: \")\n",
    "print(vectorstore.client.get_collections(), end=\"\\n\\n\")\n",
    "\n",
    "print(\"檢視有哪些文件：\")\n",
    "# 顯示前十個紀錄 (Record)\n",
    "records = vectorstore.client.scroll(collection_name=vectorstore.collection_name, limit=10)[0]\n",
    "pprint(records)"
   ]
  },
  {
   "cell_type": "markdown",
   "metadata": {},
   "source": [
    "## 3.6 Insert (新增) / Delete (移除)"
   ]
  },
  {
   "cell_type": "code",
   "execution_count": 5,
   "metadata": {},
   "outputs": [
    {
     "name": "stdout",
     "output_type": "stream",
     "text": [
      "Document 95d2adf5f31144c2bfc563c5889c9026:\n",
      "\n",
      "妮娜小妹妹的大哥哥\n",
      "\n",
      "Metadata:{}\n"
     ]
    }
   ],
   "source": [
    "vectorstore.delete([records[0].id])\n",
    "pprint_qdrant_documents(vectorstore)"
   ]
  },
  {
   "cell_type": "code",
   "execution_count": 6,
   "metadata": {},
   "outputs": [
    {
     "name": "stdout",
     "output_type": "stream",
     "text": [
      "Document 5b8c1e3274d24e50ab551d62c525a981:\n",
      "\n",
      "講到一半，麻理茉教官掉頭就走\n",
      "\n",
      "Metadata:{}\n",
      "----------------------------------------------------------------------------------------------------\n",
      "Document 95d2adf5f31144c2bfc563c5889c9026:\n",
      "\n",
      "妮娜小妹妹的大哥哥\n",
      "\n",
      "Metadata:{}\n"
     ]
    }
   ],
   "source": [
    "vectorstore.add_documents([Document(page_content=\"講到一半，麻理茉教官掉頭就走\")])\n",
    "pprint_qdrant_documents(vectorstore)"
   ]
  },
  {
   "cell_type": "markdown",
   "metadata": {},
   "source": [
    "## 3.7 Index = Insert (新增) + Delete (移除) + Update (更新)\n",
    "每次都要檢查內部的識別碼 (id) 或文件內容 (page_content) 來的新增文件或決定哪個要刪掉，是一件非常麻煩的事。\n",
    "\n",
    "Langchain 提供了`index`功能，告訴它想要的所有文件，它會自動透過新增和移除來更新向量存儲 (vectorstore)。其有三種不同的更新邏輯 `None`、`incremental`、`full`，以下介紹。"
   ]
  },
  {
   "cell_type": "markdown",
   "metadata": {},
   "source": [
    "目前 Langchain 的程式碼裡有個 bug，我還沒ＰＲ，下面是 bug出處和解法：\n",
    "\n",
    "C:\\Users\\121664\\micromamba\\envs\\dev\\Lib\\site-packages\\langchain\\indexes\\_api.py:285\n",
    "```\n",
    "for hashed_doc, doc_exists in zip(hashed_docs, exists_batch):\n",
    "    if doc_exists:\n",
    "        # Must be updated to refresh timestamp.\n",
    "        record_manager.update([hashed_doc.uid], time_at_least=index_start_dt)\n",
    "        num_skipped += 1\n",
    "        continue\n",
    "    uids.append(hashed_doc.uid)\n",
    "    docs_to_index.append(Document(page_content=hashed_doc.page_content, metadata=hashed_doc.metadata))\n",
    "```"
   ]
  },
  {
   "cell_type": "code",
   "execution_count": 1,
   "metadata": {},
   "outputs": [],
   "source": [
    "from tempfile import TemporaryDirectory\n",
    "from pathlib import Path\n",
    "from pprint import pprint\n",
    "from langchain.indexes import SQLRecordManager, index\n",
    "from langchain.schema import Document\n",
    "from langchain.vectorstores import Qdrant\n",
    "from langchain_setup.qdrant import pprint_qdrant_documents, create_inmemory_empty_qdrant"
   ]
  },
  {
   "cell_type": "code",
   "execution_count": 2,
   "metadata": {},
   "outputs": [],
   "source": [
    "# 文件 (Documents)\n",
    "## 第一群\n",
    "metadata1 = {\"source\": \"fullhell.alchemist\"}\n",
    "doc1_1 = Document(page_content=\"1-1 I have a dog~\", metadata=metadata1)\n",
    "doc1_2 = Document(page_content=\"1-2 I have a daugter~\", metadata=metadata1)\n",
    "doc1_3 = Document(page_content=\"1-3 Ahh! O..Oniichan\", metadata=metadata1)\n",
    "## 第二群\n",
    "doc2 = Document(page_content=\"2 Lancer 你又死了\", metadata={\"source\": \"fate.docx\"})\n",
    "## 第三群 (只要 source 一樣就算)\n",
    "doc3_1 = Document(page_content=\"3-1 小笨狗\", metadata={\"source\": \"doggy.txt\", \"id\": 0})\n",
    "doc3_2 = Document(page_content=\"3-2 你害我好丟臉\", metadata={\"source\": \"doggy.txt\"})\n",
    "\n",
    "# 建立空的向量存儲 (vectorstore)\n",
    "collection_name = \"secret_of_D_disk\"\n",
    "vectorstore: Qdrant = create_inmemory_empty_qdrant()\n",
    "\n",
    "# 建立空的紀錄管理器 (Record Manager)，其負責是否為同一文件 (document) 的識別\n",
    "tmp_dir = TemporaryDirectory()\n",
    "record_manager = SQLRecordManager(\n",
    "    namespace=\"qdrant/{collection_name}\",\n",
    "    db_url=f\"sqlite:///{Path(tmp_dir.name)/collection_name}.sql\",\n",
    ")\n",
    "record_manager.create_schema()  # 必須"
   ]
  },
  {
   "cell_type": "markdown",
   "metadata": {},
   "source": [
    "### 3.7.1 `Full` 模式"
   ]
  },
  {
   "cell_type": "markdown",
   "metadata": {},
   "source": [
    "確保整個 vectorstore 都跟輸入文件 (documents)一模一樣，是邏輯最簡單的模式。\n",
    "\n",
    "另外新增重複的文件會被跳過，避免了保存重複文件和重複 embedding 計算。"
   ]
  },
  {
   "cell_type": "code",
   "execution_count": 3,
   "metadata": {},
   "outputs": [
    {
     "name": "stdout",
     "output_type": "stream",
     "text": [
      "{'num_added': 3, 'num_updated': 0, 'num_skipped': 0, 'num_deleted': 0}\n",
      "\n",
      "Document 1b19816e-b802-53c0-ad60-5ff9d9b9b911:\n",
      "\n",
      "1-2 I have a daugter~\n",
      "\n",
      "Metadata:{'source': 'fullhell.alchemist'}\n",
      "----------------------------------------------------------------------------------------------------\n",
      "Document 3362f9bc-991a-5dd5-b465-c564786ce19c:\n",
      "\n",
      "1-1 I have a dog~\n",
      "\n",
      "Metadata:{'source': 'fullhell.alchemist'}\n",
      "----------------------------------------------------------------------------------------------------\n",
      "Document a4d50169-2fda-5339-a196-249b5f54a0de:\n",
      "\n",
      "2 Lancer 你又死了\n",
      "\n",
      "Metadata:{'source': 'fate.docx'}\n"
     ]
    }
   ],
   "source": [
    "# 原本沒有任何文件\n",
    "sync_result = index(\n",
    "    [doc1_1, doc1_2, doc1_2, doc2],\n",
    "    record_manager,\n",
    "    vectorstore,\n",
    "    cleanup=\"full\",\n",
    "    source_id_key=\"source\",\n",
    ")\n",
    "print(sync_result, end=\"\\n\\n\")\n",
    "pprint_qdrant_documents(vectorstore)"
   ]
  },
  {
   "cell_type": "code",
   "execution_count": 4,
   "metadata": {},
   "outputs": [
    {
     "name": "stdout",
     "output_type": "stream",
     "text": [
      "{'num_added': 3, 'num_updated': 0, 'num_skipped': 0, 'num_deleted': 3}\n",
      "\n",
      "Document 3b001c6e-9f06-5e9c-ba55-cfbacae830db:\n",
      "\n",
      "3-1 小笨狗\n",
      "\n",
      "Metadata:{'id': 0, 'source': 'doggy.txt'}\n",
      "----------------------------------------------------------------------------------------------------\n",
      "Document 8b035207-8426-579d-b190-f48d5fc578d3:\n",
      "\n",
      "3-2 你害我好丟臉\n",
      "\n",
      "Metadata:{'source': 'doggy.txt'}\n",
      "----------------------------------------------------------------------------------------------------\n",
      "Document f4bb822a-5594-543b-94a4-f2c1d0390c1a:\n",
      "\n",
      "1-3 Ahh! O..Oniichan\n",
      "\n",
      "Metadata:{'source': 'fullhell.alchemist'}\n"
     ]
    }
   ],
   "source": [
    "# 原本包含 1-1, 1-2, 2\n",
    "sync_result = index(\n",
    "    [doc1_3, doc3_1, doc3_2],\n",
    "    record_manager,\n",
    "    vectorstore,\n",
    "    cleanup=\"full\",\n",
    "    source_id_key=\"source\",\n",
    ")\n",
    "print(sync_result, end=\"\\n\\n\")\n",
    "pprint_qdrant_documents(vectorstore)"
   ]
  },
  {
   "cell_type": "markdown",
   "metadata": {},
   "source": [
    "實際上是否要新增或刪除、判別文件是否已存在的任務是由 `record_manager` 執行的。（所以若將 record_manager 使用的 SQL 檔案刪掉後重建，但向量存儲 (vectorstore) 沒有清空的話，還是可能會在向量存儲裡儲存重複的文件）\n",
    "\n",
    "而他而它利用文件 (Document) 的內容 (page_content) 和詮釋資料 (metadata) 來做 hash，並以該 hash 作為該文件的識別碼 (uid) 並以此判定是否為同一文件。\n",
    "\n",
    "**注意:**\n",
    "\n",
    "vectorstore (由各廠牌提供) 和 record manager (由 Langhcain 提供) 兩者是獨立的，使用者必須自己小心讓兩者同步:\n",
    "- 建立時兩者皆必須為空\n",
    "- 之後都不得用 index 以外的方式來更新任何一方"
   ]
  },
  {
   "cell_type": "code",
   "execution_count": 5,
   "metadata": {},
   "outputs": [
    {
     "name": "stdout",
     "output_type": "stream",
     "text": [
      "['f4bb822a-5594-543b-94a4-f2c1d0390c1a',\n",
      " '3b001c6e-9f06-5e9c-ba55-cfbacae830db',\n",
      " '8b035207-8426-579d-b190-f48d5fc578d3']\n"
     ]
    }
   ],
   "source": [
    "pprint(record_manager.list_keys())"
   ]
  },
  {
   "cell_type": "markdown",
   "metadata": {},
   "source": [
    "### 3.7.2 `Incremental` 模式"
   ]
  },
  {
   "cell_type": "markdown",
   "metadata": {},
   "source": [
    "刪除的時候，都只會針對跟輸入文件 (documents) 有相同的來源 (source) 的文件，其他文件保持不動。也就是只有跟任一輸入文件有相同來源文件的地方會跟輸入文件一模一樣。\n",
    "\n",
    "另外新增重複的文件會被跳過，避免了保存重複文件和重複 embedding 計算。"
   ]
  },
  {
   "cell_type": "code",
   "execution_count": 6,
   "metadata": {},
   "outputs": [
    {
     "name": "stdout",
     "output_type": "stream",
     "text": [
      "{'num_added': 2, 'num_updated': 0, 'num_skipped': 1, 'num_deleted': 0}\n",
      "\n",
      "Document 3362f9bc-991a-5dd5-b465-c564786ce19c:\n",
      "\n",
      "1-1 I have a dog~\n",
      "\n",
      "Metadata:{'source': 'fullhell.alchemist'}\n",
      "----------------------------------------------------------------------------------------------------\n",
      "Document 3b001c6e-9f06-5e9c-ba55-cfbacae830db:\n",
      "\n",
      "3-1 小笨狗\n",
      "\n",
      "Metadata:{'id': 0, 'source': 'doggy.txt'}\n",
      "----------------------------------------------------------------------------------------------------\n",
      "Document 8b035207-8426-579d-b190-f48d5fc578d3:\n",
      "\n",
      "3-2 你害我好丟臉\n",
      "\n",
      "Metadata:{'source': 'doggy.txt'}\n",
      "----------------------------------------------------------------------------------------------------\n",
      "Document a4d50169-2fda-5339-a196-249b5f54a0de:\n",
      "\n",
      "2 Lancer 你又死了\n",
      "\n",
      "Metadata:{'source': 'fate.docx'}\n",
      "----------------------------------------------------------------------------------------------------\n",
      "Document f4bb822a-5594-543b-94a4-f2c1d0390c1a:\n",
      "\n",
      "1-3 Ahh! O..Oniichan\n",
      "\n",
      "Metadata:{'source': 'fullhell.alchemist'}\n"
     ]
    }
   ],
   "source": [
    "# 原本包含 1-3, 3-1, 3-2\n",
    "sync_result = index(\n",
    "    [doc1_1, doc1_1, doc1_3, doc2],\n",
    "    record_manager,\n",
    "    vectorstore,\n",
    "    cleanup=\"incremental\",\n",
    "    source_id_key=\"source\",\n",
    ")\n",
    "print(sync_result, end=\"\\n\\n\")\n",
    "pprint_qdrant_documents(vectorstore)"
   ]
  },
  {
   "cell_type": "markdown",
   "metadata": {},
   "source": [
    "### 3.7.3 `None` 模式\n",
    "在 `None` 模式下，任何情況都不會刪除文件。也就是只做輸入的文件 (documents) 在向量存儲 (vectorstore) 裡沒有的話就新增這件事"
   ]
  },
  {
   "cell_type": "code",
   "execution_count": 7,
   "metadata": {},
   "outputs": [
    {
     "name": "stdout",
     "output_type": "stream",
     "text": [
      "{'num_added': 1, 'num_updated': 0, 'num_skipped': 1, 'num_deleted': 0}\n",
      "\n",
      "Document 1b19816e-b802-53c0-ad60-5ff9d9b9b911:\n",
      "\n",
      "1-2 I have a daugter~\n",
      "\n",
      "Metadata:{'source': 'fullhell.alchemist'}\n",
      "----------------------------------------------------------------------------------------------------\n",
      "Document 3362f9bc-991a-5dd5-b465-c564786ce19c:\n",
      "\n",
      "1-1 I have a dog~\n",
      "\n",
      "Metadata:{'source': 'fullhell.alchemist'}\n",
      "----------------------------------------------------------------------------------------------------\n",
      "Document 3b001c6e-9f06-5e9c-ba55-cfbacae830db:\n",
      "\n",
      "3-1 小笨狗\n",
      "\n",
      "Metadata:{'id': 0, 'source': 'doggy.txt'}\n",
      "----------------------------------------------------------------------------------------------------\n",
      "Document 8b035207-8426-579d-b190-f48d5fc578d3:\n",
      "\n",
      "3-2 你害我好丟臉\n",
      "\n",
      "Metadata:{'source': 'doggy.txt'}\n",
      "----------------------------------------------------------------------------------------------------\n",
      "Document a4d50169-2fda-5339-a196-249b5f54a0de:\n",
      "\n",
      "2 Lancer 你又死了\n",
      "\n",
      "Metadata:{'source': 'fate.docx'}\n",
      "----------------------------------------------------------------------------------------------------\n",
      "Document f4bb822a-5594-543b-94a4-f2c1d0390c1a:\n",
      "\n",
      "1-3 Ahh! O..Oniichan\n",
      "\n",
      "Metadata:{'source': 'fullhell.alchemist'}\n"
     ]
    }
   ],
   "source": [
    "# 原本包含 1-1, 1-3, 2, 3-1, 3-2\n",
    "sync_result = index(\n",
    "    [doc1_1, doc1_2, doc1_2],\n",
    "    record_manager,\n",
    "    vectorstore,\n",
    "    cleanup=None,\n",
    "    source_id_key=\"source\",\n",
    ")\n",
    "print(sync_result, end='\\n\\n')\n",
    "pprint_qdrant_documents(vectorstore)"
   ]
  },
  {
   "cell_type": "markdown",
   "metadata": {},
   "source": [
    "**想想看**: 這三個模式分別適合在什麼情況下使用？"
   ]
  }
 ],
 "metadata": {
  "kernelspec": {
   "display_name": "Python 3",
   "language": "python",
   "name": "python3"
  },
  "language_info": {
   "codemirror_mode": {
    "name": "ipython",
    "version": 3
   },
   "file_extension": ".py",
   "mimetype": "text/x-python",
   "name": "python",
   "nbconvert_exporter": "python",
   "pygments_lexer": "ipython3",
   "version": "3.10.12"
  },
  "orig_nbformat": 4
 },
 "nbformat": 4,
 "nbformat_minor": 2
}
