{
 "cells": [
  {
   "cell_type": "markdown",
   "metadata": {},
   "source": [
    "# 1. Embedding-based Retrieval\n",
    "基於 embedding 間的相似度計算 (可見 3. Vector Store.ipynb 中關於 embedding 的介紹)，主要有兩種類型，`similarity` 和 `mmr`。\n",
    "\n",
    "還有一些可設定的參數如 `k` 和 `score_threshold`"
   ]
  },
  {
   "cell_type": "code",
   "execution_count": 1,
   "metadata": {},
   "outputs": [],
   "source": [
    "from langchain.vectorstores import Qdrant\n",
    "from langchain.embeddings import OpenAIEmbeddings\n",
    "from langchain.schema import Document\n",
    "from langchain_setup import pprint_documents\n",
    "\n",
    "# fmt: off\n",
    "docs = [\n",
    "    Document(page_content=\"magia\", metadata={\"source\": \"魔法少女まどか☆マギカ\", \"singer\": \"Kalafina\", \"genre\": \"anime\"}),\n",
    "    Document(page_content=\"烏龍茶是可燃的\", metedata={\"source\": \"GRAND BLUE\", \"author\": \"井上堅二\", \"genre\": 'anime'}),\n",
    "    Document(page_content=\"Knock Knock Knocking on u r heart\", metedata={\"singer\": \"李彩演\", \"genre\": 'kpop'}),\n",
    "    Document(page_content=\"你指尖躍動的電光，是我此生不變的信仰，唯我超電磁砲永世長存\", metadata={\"character\": \"御坂美琴\", \"genre\": \"anime\"},),\n",
    "    Document(page_content=\"Deja vu! I've just been in this place before\", metadata={\"source\": \"Initial D\", \"genre\": \"anime\"}),\n",
    "    Document(page_content=\"ふわふわる ふわふわり\", metadata={\"name\": \"戀愛循環\", \"genre\": \"anime\"})\n",
    "]\n",
    "# fmt: on\n",
    "\n",
    "vectorstore = Qdrant.from_documents(\n",
    "    docs,\n",
    "    embedding=OpenAIEmbeddings(),\n",
    "    location=\":memory:\",\n",
    ")"
   ]
  },
  {
   "cell_type": "markdown",
   "metadata": {},
   "source": [
    "## 1.1 Similarity (相似度)\n",
    "- 預設演算法\n",
    "\n",
    "1. 比較 embedding 算出相似度\n",
    "\n",
    "2. 只挑出相似度大於等於 `score_threshold` 的文件 (documents) (如果 `score_threshold` 不為 `None` 的話)\n",
    "\n",
    "3. 再挑出其中相似度前 k 高的文件"
   ]
  },
  {
   "cell_type": "code",
   "execution_count": 2,
   "metadata": {},
   "outputs": [
    {
     "name": "stdout",
     "output_type": "stream",
     "text": [
      "Document 1:\n",
      "\n",
      "ふわふわる ふわふわり\n",
      "\n",
      "Metadata:{'genre': 'anime', 'name': '戀愛循環'}\n",
      "----------------------------------------------------------------------------------------------------\n",
      "Document 2:\n",
      "\n",
      "你指尖躍動的電光，是我此生不變的信仰，唯我超電磁砲永世長存\n",
      "\n",
      "Metadata:{'character': '御坂美琴', 'genre': 'anime'}\n"
     ]
    }
   ],
   "source": [
    "retriver = vectorstore.as_retriever(\n",
    "    search_type=\"similarity\",  # default\n",
    "    search_kwargs={\n",
    "        \"filter\": {'genre': 'anime'},  # Filter by metadata\n",
    "        \"score_threshold\": None,\n",
    "        \"k\": 2,\n",
    "        # More kwargs for `Qdrant.similarity_search` or `QdrantClient.search` like `offset`, `consistency`, ...\n",
    "    },\n",
    ")\n",
    "pprint_documents(retriver.get_relevant_documents(\"神曲\"))"
   ]
  },
  {
   "cell_type": "markdown",
   "metadata": {},
   "source": [
    "更複雜的針對詮釋資料 (metadata) 的過濾 (filtering)，可以自己做 `qdrant_client.http.models.filter` 傳進去。可參考 [Qdrant官方文件](https://qdrant.tech/documentation/concepts/filtering/)"
   ]
  },
  {
   "cell_type": "markdown",
   "metadata": {},
   "source": [
    "## 1.2 Maximum marginal relevance (最大邊界相關算法)\n",
    "1. 比較 embedding 算出相似度\n",
    "\n",
    "2. 只挑出相似度大於等於 `score_threshold` 的文件 (documents) (如果 `score_threshold` 不為 `None` 的話)\n",
    "\n",
    "3. 再挑出其中相似度前 `fetch_k` 高的文件\n",
    "\n",
    "4. 再對剩下的文件做以 MMR 演算法取 `k` 個\n",
    "   - 簡言之是考慮到候選文件間的相似度，避免相似度高的文件都是差不多的文件。\n",
    "   \n",
    "   - $ MMR(q,D,R) = \\argmax_{d_i \\in D} \\left[ \\lambda sim(q,d_i) - (1-\\lambda)\\max_{d_j \\in R}sim(d_i, d_j) \\right]  $\n",
    "      - q: query\n",
    "      - D: 還沒被抽取的文件的集合\n",
    "      - R: 已抽取的文件的集合\n",
    "      - lambda ($\\lambda$): \n",
    "         - 可調整的參數，介於 0~1 之間。\n",
    "         - 是一個 tradeoff。越高則總體跟問題 (query) 越像，但文件間多樣性越低，越低則跟總體跟問題越不像，但文件間多樣性越高\n",
    "      - 會一個一個迭代地 (iteratively) 的選擇"
   ]
  },
  {
   "cell_type": "code",
   "execution_count": 3,
   "metadata": {},
   "outputs": [
    {
     "ename": "AttributeError",
     "evalue": "'dict' object has no attribute 'must'",
     "output_type": "error",
     "traceback": [
      "\u001b[1;31m---------------------------------------------------------------------------\u001b[0m",
      "\u001b[1;31mAttributeError\u001b[0m                            Traceback (most recent call last)",
      "Cell \u001b[1;32mIn[3], line 12\u001b[0m\n\u001b[0;32m      1\u001b[0m retriver \u001b[39m=\u001b[39m vectorstore\u001b[39m.\u001b[39mas_retriever(\n\u001b[0;32m      2\u001b[0m     search_type\u001b[39m=\u001b[39m\u001b[39m\"\u001b[39m\u001b[39mmmr\u001b[39m\u001b[39m\"\u001b[39m,\n\u001b[0;32m      3\u001b[0m     search_kwargs\u001b[39m=\u001b[39m{\n\u001b[1;32m   (...)\u001b[0m\n\u001b[0;32m     10\u001b[0m     },\n\u001b[0;32m     11\u001b[0m )\n\u001b[1;32m---> 12\u001b[0m pprint_documents(retriver\u001b[39m.\u001b[39;49mget_relevant_documents(\u001b[39m\"\u001b[39;49m\u001b[39m神曲\u001b[39;49m\u001b[39m\"\u001b[39;49m))\n",
      "File \u001b[1;32mc:\\Users\\121664\\micromamba\\envs\\dev\\lib\\site-packages\\langchain\\schema\\retriever.py:211\u001b[0m, in \u001b[0;36mBaseRetriever.get_relevant_documents\u001b[1;34m(self, query, callbacks, tags, metadata, run_name, **kwargs)\u001b[0m\n\u001b[0;32m    209\u001b[0m \u001b[39mexcept\u001b[39;00m \u001b[39mException\u001b[39;00m \u001b[39mas\u001b[39;00m e:\n\u001b[0;32m    210\u001b[0m     run_manager\u001b[39m.\u001b[39mon_retriever_error(e)\n\u001b[1;32m--> 211\u001b[0m     \u001b[39mraise\u001b[39;00m e\n\u001b[0;32m    212\u001b[0m \u001b[39melse\u001b[39;00m:\n\u001b[0;32m    213\u001b[0m     run_manager\u001b[39m.\u001b[39mon_retriever_end(\n\u001b[0;32m    214\u001b[0m         result,\n\u001b[0;32m    215\u001b[0m         \u001b[39m*\u001b[39m\u001b[39m*\u001b[39mkwargs,\n\u001b[0;32m    216\u001b[0m     )\n",
      "File \u001b[1;32mc:\\Users\\121664\\micromamba\\envs\\dev\\lib\\site-packages\\langchain\\schema\\retriever.py:204\u001b[0m, in \u001b[0;36mBaseRetriever.get_relevant_documents\u001b[1;34m(self, query, callbacks, tags, metadata, run_name, **kwargs)\u001b[0m\n\u001b[0;32m    202\u001b[0m _kwargs \u001b[39m=\u001b[39m kwargs \u001b[39mif\u001b[39;00m \u001b[39mself\u001b[39m\u001b[39m.\u001b[39m_expects_other_args \u001b[39melse\u001b[39;00m {}\n\u001b[0;32m    203\u001b[0m \u001b[39mif\u001b[39;00m \u001b[39mself\u001b[39m\u001b[39m.\u001b[39m_new_arg_supported:\n\u001b[1;32m--> 204\u001b[0m     result \u001b[39m=\u001b[39m \u001b[39mself\u001b[39m\u001b[39m.\u001b[39m_get_relevant_documents(\n\u001b[0;32m    205\u001b[0m         query, run_manager\u001b[39m=\u001b[39mrun_manager, \u001b[39m*\u001b[39m\u001b[39m*\u001b[39m_kwargs\n\u001b[0;32m    206\u001b[0m     )\n\u001b[0;32m    207\u001b[0m \u001b[39melse\u001b[39;00m:\n\u001b[0;32m    208\u001b[0m     result \u001b[39m=\u001b[39m \u001b[39mself\u001b[39m\u001b[39m.\u001b[39m_get_relevant_documents(query, \u001b[39m*\u001b[39m\u001b[39m*\u001b[39m_kwargs)\n",
      "File \u001b[1;32mc:\\Users\\121664\\micromamba\\envs\\dev\\lib\\site-packages\\langchain\\schema\\vectorstore.py:666\u001b[0m, in \u001b[0;36mVectorStoreRetriever._get_relevant_documents\u001b[1;34m(self, query, run_manager)\u001b[0m\n\u001b[0;32m    664\u001b[0m     docs \u001b[39m=\u001b[39m [doc \u001b[39mfor\u001b[39;00m doc, _ \u001b[39min\u001b[39;00m docs_and_similarities]\n\u001b[0;32m    665\u001b[0m \u001b[39melif\u001b[39;00m \u001b[39mself\u001b[39m\u001b[39m.\u001b[39msearch_type \u001b[39m==\u001b[39m \u001b[39m\"\u001b[39m\u001b[39mmmr\u001b[39m\u001b[39m\"\u001b[39m:\n\u001b[1;32m--> 666\u001b[0m     docs \u001b[39m=\u001b[39m \u001b[39mself\u001b[39m\u001b[39m.\u001b[39mvectorstore\u001b[39m.\u001b[39mmax_marginal_relevance_search(\n\u001b[0;32m    667\u001b[0m         query, \u001b[39m*\u001b[39m\u001b[39m*\u001b[39m\u001b[39mself\u001b[39m\u001b[39m.\u001b[39msearch_kwargs\n\u001b[0;32m    668\u001b[0m     )\n\u001b[0;32m    669\u001b[0m \u001b[39melse\u001b[39;00m:\n\u001b[0;32m    670\u001b[0m     \u001b[39mraise\u001b[39;00m \u001b[39mValueError\u001b[39;00m(\u001b[39mf\u001b[39m\u001b[39m\"\u001b[39m\u001b[39msearch_type of \u001b[39m\u001b[39m{\u001b[39;00m\u001b[39mself\u001b[39m\u001b[39m.\u001b[39msearch_type\u001b[39m}\u001b[39;00m\u001b[39m not allowed.\u001b[39m\u001b[39m\"\u001b[39m)\n",
      "File \u001b[1;32mc:\\Users\\121664\\micromamba\\envs\\dev\\lib\\site-packages\\langchain\\vectorstores\\qdrant.py:787\u001b[0m, in \u001b[0;36mQdrant.max_marginal_relevance_search\u001b[1;34m(self, query, k, fetch_k, lambda_mult, filter, search_params, score_threshold, consistency, **kwargs)\u001b[0m\n\u001b[0;32m    748\u001b[0m \u001b[39m\u001b[39m\u001b[39m\"\"\"Return docs selected using the maximal marginal relevance.\u001b[39;00m\n\u001b[0;32m    749\u001b[0m \n\u001b[0;32m    750\u001b[0m \u001b[39mMaximal marginal relevance optimizes for similarity to query AND diversity\u001b[39;00m\n\u001b[1;32m   (...)\u001b[0m\n\u001b[0;32m    784\u001b[0m \u001b[39m    List of Documents selected by maximal marginal relevance.\u001b[39;00m\n\u001b[0;32m    785\u001b[0m \u001b[39m\"\"\"\u001b[39;00m\n\u001b[0;32m    786\u001b[0m query_embedding \u001b[39m=\u001b[39m \u001b[39mself\u001b[39m\u001b[39m.\u001b[39m_embed_query(query)\n\u001b[1;32m--> 787\u001b[0m \u001b[39mreturn\u001b[39;00m \u001b[39mself\u001b[39m\u001b[39m.\u001b[39mmax_marginal_relevance_search_by_vector(\n\u001b[0;32m    788\u001b[0m     query_embedding,\n\u001b[0;32m    789\u001b[0m     k\u001b[39m=\u001b[39mk,\n\u001b[0;32m    790\u001b[0m     fetch_k\u001b[39m=\u001b[39mfetch_k,\n\u001b[0;32m    791\u001b[0m     lambda_mult\u001b[39m=\u001b[39mlambda_mult,\n\u001b[0;32m    792\u001b[0m     \u001b[39mfilter\u001b[39m\u001b[39m=\u001b[39m\u001b[39mfilter\u001b[39m,\n\u001b[0;32m    793\u001b[0m     search_params\u001b[39m=\u001b[39msearch_params,\n\u001b[0;32m    794\u001b[0m     score_threshold\u001b[39m=\u001b[39mscore_threshold,\n\u001b[0;32m    795\u001b[0m     consistency\u001b[39m=\u001b[39mconsistency,\n\u001b[0;32m    796\u001b[0m     \u001b[39m*\u001b[39m\u001b[39m*\u001b[39mkwargs,\n\u001b[0;32m    797\u001b[0m )\n",
      "File \u001b[1;32mc:\\Users\\121664\\micromamba\\envs\\dev\\lib\\site-packages\\langchain\\vectorstores\\qdrant.py:913\u001b[0m, in \u001b[0;36mQdrant.max_marginal_relevance_search_by_vector\u001b[1;34m(self, embedding, k, fetch_k, lambda_mult, filter, search_params, score_threshold, consistency, **kwargs)\u001b[0m\n\u001b[0;32m    864\u001b[0m \u001b[39mdef\u001b[39;00m \u001b[39mmax_marginal_relevance_search_by_vector\u001b[39m(\n\u001b[0;32m    865\u001b[0m     \u001b[39mself\u001b[39m,\n\u001b[0;32m    866\u001b[0m     embedding: List[\u001b[39mfloat\u001b[39m],\n\u001b[1;32m   (...)\u001b[0m\n\u001b[0;32m    874\u001b[0m     \u001b[39m*\u001b[39m\u001b[39m*\u001b[39mkwargs: Any,\n\u001b[0;32m    875\u001b[0m ) \u001b[39m-\u001b[39m\u001b[39m>\u001b[39m List[Document]:\n\u001b[0;32m    876\u001b[0m \u001b[39m    \u001b[39m\u001b[39m\"\"\"Return docs selected using the maximal marginal relevance.\u001b[39;00m\n\u001b[0;32m    877\u001b[0m \n\u001b[0;32m    878\u001b[0m \u001b[39m    Maximal marginal relevance optimizes for similarity to query AND diversity\u001b[39;00m\n\u001b[1;32m   (...)\u001b[0m\n\u001b[0;32m    911\u001b[0m \u001b[39m        List of Documents selected by maximal marginal relevance.\u001b[39;00m\n\u001b[0;32m    912\u001b[0m \u001b[39m    \"\"\"\u001b[39;00m\n\u001b[1;32m--> 913\u001b[0m     results \u001b[39m=\u001b[39m \u001b[39mself\u001b[39m\u001b[39m.\u001b[39mmax_marginal_relevance_search_with_score_by_vector(\n\u001b[0;32m    914\u001b[0m         embedding,\n\u001b[0;32m    915\u001b[0m         k\u001b[39m=\u001b[39mk,\n\u001b[0;32m    916\u001b[0m         fetch_k\u001b[39m=\u001b[39mfetch_k,\n\u001b[0;32m    917\u001b[0m         lambda_mult\u001b[39m=\u001b[39mlambda_mult,\n\u001b[0;32m    918\u001b[0m         \u001b[39mfilter\u001b[39m\u001b[39m=\u001b[39m\u001b[39mfilter\u001b[39m,\n\u001b[0;32m    919\u001b[0m         search_params\u001b[39m=\u001b[39msearch_params,\n\u001b[0;32m    920\u001b[0m         score_threshold\u001b[39m=\u001b[39mscore_threshold,\n\u001b[0;32m    921\u001b[0m         consistency\u001b[39m=\u001b[39mconsistency,\n\u001b[0;32m    922\u001b[0m         \u001b[39m*\u001b[39m\u001b[39m*\u001b[39mkwargs,\n\u001b[0;32m    923\u001b[0m     )\n\u001b[0;32m    924\u001b[0m     \u001b[39mreturn\u001b[39;00m \u001b[39mlist\u001b[39m(\u001b[39mmap\u001b[39m(itemgetter(\u001b[39m0\u001b[39m), results))\n",
      "File \u001b[1;32mc:\\Users\\121664\\micromamba\\envs\\dev\\lib\\site-packages\\langchain\\vectorstores\\qdrant.py:1043\u001b[0m, in \u001b[0;36mQdrant.max_marginal_relevance_search_with_score_by_vector\u001b[1;34m(self, embedding, k, fetch_k, lambda_mult, filter, search_params, score_threshold, consistency, **kwargs)\u001b[0m\n\u001b[0;32m   1040\u001b[0m \u001b[39mif\u001b[39;00m \u001b[39mself\u001b[39m\u001b[39m.\u001b[39mvector_name \u001b[39mis\u001b[39;00m \u001b[39mnot\u001b[39;00m \u001b[39mNone\u001b[39;00m:\n\u001b[0;32m   1041\u001b[0m     query_vector \u001b[39m=\u001b[39m (\u001b[39mself\u001b[39m\u001b[39m.\u001b[39mvector_name, query_vector)  \u001b[39m# type: ignore[assignment]\u001b[39;00m\n\u001b[1;32m-> 1043\u001b[0m results \u001b[39m=\u001b[39m \u001b[39mself\u001b[39m\u001b[39m.\u001b[39mclient\u001b[39m.\u001b[39msearch(\n\u001b[0;32m   1044\u001b[0m     collection_name\u001b[39m=\u001b[39m\u001b[39mself\u001b[39m\u001b[39m.\u001b[39mcollection_name,\n\u001b[0;32m   1045\u001b[0m     query_vector\u001b[39m=\u001b[39mquery_vector,\n\u001b[0;32m   1046\u001b[0m     query_filter\u001b[39m=\u001b[39m\u001b[39mfilter\u001b[39m,\n\u001b[0;32m   1047\u001b[0m     search_params\u001b[39m=\u001b[39msearch_params,\n\u001b[0;32m   1048\u001b[0m     limit\u001b[39m=\u001b[39mfetch_k,\n\u001b[0;32m   1049\u001b[0m     with_payload\u001b[39m=\u001b[39m\u001b[39mTrue\u001b[39;00m,\n\u001b[0;32m   1050\u001b[0m     with_vectors\u001b[39m=\u001b[39m\u001b[39mTrue\u001b[39;00m,\n\u001b[0;32m   1051\u001b[0m     score_threshold\u001b[39m=\u001b[39mscore_threshold,\n\u001b[0;32m   1052\u001b[0m     consistency\u001b[39m=\u001b[39mconsistency,\n\u001b[0;32m   1053\u001b[0m     \u001b[39m*\u001b[39m\u001b[39m*\u001b[39mkwargs,\n\u001b[0;32m   1054\u001b[0m )\n\u001b[0;32m   1055\u001b[0m embeddings \u001b[39m=\u001b[39m [\n\u001b[0;32m   1056\u001b[0m     result\u001b[39m.\u001b[39mvector\u001b[39m.\u001b[39mget(\u001b[39mself\u001b[39m\u001b[39m.\u001b[39mvector_name)  \u001b[39m# type: ignore[index, union-attr]\u001b[39;00m\n\u001b[0;32m   1057\u001b[0m     \u001b[39mif\u001b[39;00m \u001b[39mself\u001b[39m\u001b[39m.\u001b[39mvector_name \u001b[39mis\u001b[39;00m \u001b[39mnot\u001b[39;00m \u001b[39mNone\u001b[39;00m\n\u001b[0;32m   1058\u001b[0m     \u001b[39melse\u001b[39;00m result\u001b[39m.\u001b[39mvector\n\u001b[0;32m   1059\u001b[0m     \u001b[39mfor\u001b[39;00m result \u001b[39min\u001b[39;00m results\n\u001b[0;32m   1060\u001b[0m ]\n\u001b[0;32m   1061\u001b[0m mmr_selected \u001b[39m=\u001b[39m maximal_marginal_relevance(\n\u001b[0;32m   1062\u001b[0m     np\u001b[39m.\u001b[39marray(embedding), embeddings, k\u001b[39m=\u001b[39mk, lambda_mult\u001b[39m=\u001b[39mlambda_mult\n\u001b[0;32m   1063\u001b[0m )\n",
      "File \u001b[1;32mc:\\Users\\121664\\micromamba\\envs\\dev\\lib\\site-packages\\qdrant_client\\qdrant_client.py:310\u001b[0m, in \u001b[0;36mQdrantClient.search\u001b[1;34m(self, collection_name, query_vector, query_filter, search_params, limit, offset, with_payload, with_vectors, score_threshold, append_payload, consistency, **kwargs)\u001b[0m\n\u001b[0;32m    244\u001b[0m \u001b[39m\u001b[39m\u001b[39m\"\"\"Search for closest vectors in collection taking into account filtering conditions\u001b[39;00m\n\u001b[0;32m    245\u001b[0m \n\u001b[0;32m    246\u001b[0m \u001b[39mArgs:\u001b[39;00m\n\u001b[1;32m   (...)\u001b[0m\n\u001b[0;32m    306\u001b[0m \u001b[39m    List of found close points with similarity scores.\u001b[39;00m\n\u001b[0;32m    307\u001b[0m \u001b[39m\"\"\"\u001b[39;00m\n\u001b[0;32m    308\u001b[0m \u001b[39massert\u001b[39;00m \u001b[39mlen\u001b[39m(kwargs) \u001b[39m==\u001b[39m \u001b[39m0\u001b[39m, \u001b[39mf\u001b[39m\u001b[39m\"\u001b[39m\u001b[39mUnknown arguments: \u001b[39m\u001b[39m{\u001b[39;00m\u001b[39mlist\u001b[39m(kwargs\u001b[39m.\u001b[39mkeys())\u001b[39m}\u001b[39;00m\u001b[39m\"\u001b[39m\n\u001b[1;32m--> 310\u001b[0m \u001b[39mreturn\u001b[39;00m \u001b[39mself\u001b[39m\u001b[39m.\u001b[39m_client\u001b[39m.\u001b[39msearch(\n\u001b[0;32m    311\u001b[0m     collection_name\u001b[39m=\u001b[39mcollection_name,\n\u001b[0;32m    312\u001b[0m     query_vector\u001b[39m=\u001b[39mquery_vector,\n\u001b[0;32m    313\u001b[0m     query_filter\u001b[39m=\u001b[39mquery_filter,\n\u001b[0;32m    314\u001b[0m     search_params\u001b[39m=\u001b[39msearch_params,\n\u001b[0;32m    315\u001b[0m     limit\u001b[39m=\u001b[39mlimit,\n\u001b[0;32m    316\u001b[0m     offset\u001b[39m=\u001b[39moffset,\n\u001b[0;32m    317\u001b[0m     with_payload\u001b[39m=\u001b[39mwith_payload,\n\u001b[0;32m    318\u001b[0m     with_vectors\u001b[39m=\u001b[39mwith_vectors,\n\u001b[0;32m    319\u001b[0m     score_threshold\u001b[39m=\u001b[39mscore_threshold,\n\u001b[0;32m    320\u001b[0m     append_payload\u001b[39m=\u001b[39mappend_payload,\n\u001b[0;32m    321\u001b[0m     consistency\u001b[39m=\u001b[39mconsistency,\n\u001b[0;32m    322\u001b[0m     \u001b[39m*\u001b[39m\u001b[39m*\u001b[39mkwargs,\n\u001b[0;32m    323\u001b[0m )\n",
      "File \u001b[1;32mc:\\Users\\121664\\micromamba\\envs\\dev\\lib\\site-packages\\qdrant_client\\local\\qdrant_local.py:155\u001b[0m, in \u001b[0;36mQdrantLocal.search\u001b[1;34m(self, collection_name, query_vector, query_filter, search_params, limit, offset, with_payload, with_vectors, score_threshold, **kwargs)\u001b[0m\n\u001b[0;32m    136\u001b[0m \u001b[39mdef\u001b[39;00m \u001b[39msearch\u001b[39m(\n\u001b[0;32m    137\u001b[0m     \u001b[39mself\u001b[39m,\n\u001b[0;32m    138\u001b[0m     collection_name: \u001b[39mstr\u001b[39m,\n\u001b[1;32m   (...)\u001b[0m\n\u001b[0;32m    152\u001b[0m     \u001b[39m*\u001b[39m\u001b[39m*\u001b[39mkwargs: Any,\n\u001b[0;32m    153\u001b[0m ) \u001b[39m-\u001b[39m\u001b[39m>\u001b[39m List[types\u001b[39m.\u001b[39mScoredPoint]:\n\u001b[0;32m    154\u001b[0m     collection \u001b[39m=\u001b[39m \u001b[39mself\u001b[39m\u001b[39m.\u001b[39m_get_collection(collection_name)\n\u001b[1;32m--> 155\u001b[0m     \u001b[39mreturn\u001b[39;00m collection\u001b[39m.\u001b[39;49msearch(\n\u001b[0;32m    156\u001b[0m         query_vector\u001b[39m=\u001b[39;49mquery_vector,\n\u001b[0;32m    157\u001b[0m         query_filter\u001b[39m=\u001b[39;49mquery_filter,\n\u001b[0;32m    158\u001b[0m         limit\u001b[39m=\u001b[39;49mlimit,\n\u001b[0;32m    159\u001b[0m         offset\u001b[39m=\u001b[39;49moffset,\n\u001b[0;32m    160\u001b[0m         with_payload\u001b[39m=\u001b[39;49mwith_payload,\n\u001b[0;32m    161\u001b[0m         with_vectors\u001b[39m=\u001b[39;49mwith_vectors,\n\u001b[0;32m    162\u001b[0m         score_threshold\u001b[39m=\u001b[39;49mscore_threshold,\n\u001b[0;32m    163\u001b[0m     )\n",
      "File \u001b[1;32mc:\\Users\\121664\\micromamba\\envs\\dev\\lib\\site-packages\\qdrant_client\\local\\local_collection.py:202\u001b[0m, in \u001b[0;36mLocalCollection.search\u001b[1;34m(self, query_vector, query_filter, limit, offset, with_payload, with_vectors, score_threshold)\u001b[0m\n\u001b[0;32m    187\u001b[0m \u001b[39mdef\u001b[39;00m \u001b[39msearch\u001b[39m(\n\u001b[0;32m    188\u001b[0m     \u001b[39mself\u001b[39m,\n\u001b[0;32m    189\u001b[0m     query_vector: Union[\n\u001b[1;32m   (...)\u001b[0m\n\u001b[0;32m    200\u001b[0m     score_threshold: Optional[\u001b[39mfloat\u001b[39m] \u001b[39m=\u001b[39m \u001b[39mNone\u001b[39;00m,\n\u001b[0;32m    201\u001b[0m ) \u001b[39m-\u001b[39m\u001b[39m>\u001b[39m List[models\u001b[39m.\u001b[39mScoredPoint]:\n\u001b[1;32m--> 202\u001b[0m     payload_mask \u001b[39m=\u001b[39m calculate_payload_mask(\n\u001b[0;32m    203\u001b[0m         payloads\u001b[39m=\u001b[39;49m\u001b[39mself\u001b[39;49m\u001b[39m.\u001b[39;49mpayload,\n\u001b[0;32m    204\u001b[0m         payload_filter\u001b[39m=\u001b[39;49mquery_filter,\n\u001b[0;32m    205\u001b[0m         ids_inv\u001b[39m=\u001b[39;49m\u001b[39mself\u001b[39;49m\u001b[39m.\u001b[39;49mids_inv,\n\u001b[0;32m    206\u001b[0m     )\n\u001b[0;32m    207\u001b[0m     name, vector \u001b[39m=\u001b[39m \u001b[39mself\u001b[39m\u001b[39m.\u001b[39m_resolve_vector_name(query_vector)\n\u001b[0;32m    209\u001b[0m     result: List[models\u001b[39m.\u001b[39mScoredPoint] \u001b[39m=\u001b[39m []\n",
      "File \u001b[1;32mc:\\Users\\121664\\micromamba\\envs\\dev\\lib\\site-packages\\qdrant_client\\local\\payload_filters.py:199\u001b[0m, in \u001b[0;36mcalculate_payload_mask\u001b[1;34m(payloads, payload_filter, ids_inv)\u001b[0m\n\u001b[0;32m    197\u001b[0m mask \u001b[39m=\u001b[39m np\u001b[39m.\u001b[39mzeros(\u001b[39mlen\u001b[39m(payloads), dtype\u001b[39m=\u001b[39m\u001b[39mbool\u001b[39m)\n\u001b[0;32m    198\u001b[0m \u001b[39mfor\u001b[39;00m i, payload \u001b[39min\u001b[39;00m \u001b[39menumerate\u001b[39m(payloads):\n\u001b[1;32m--> 199\u001b[0m     \u001b[39mif\u001b[39;00m check_filter(payload_filter, payload, ids_inv[i]):\n\u001b[0;32m    200\u001b[0m         mask[i] \u001b[39m=\u001b[39m \u001b[39mTrue\u001b[39;00m\n\u001b[0;32m    201\u001b[0m \u001b[39mreturn\u001b[39;00m mask\n",
      "File \u001b[1;32mc:\\Users\\121664\\micromamba\\envs\\dev\\lib\\site-packages\\qdrant_client\\local\\payload_filters.py:177\u001b[0m, in \u001b[0;36mcheck_filter\u001b[1;34m(payload_filter, payload, point_id)\u001b[0m\n\u001b[0;32m    174\u001b[0m \u001b[39mdef\u001b[39;00m \u001b[39mcheck_filter\u001b[39m(\n\u001b[0;32m    175\u001b[0m     payload_filter: models\u001b[39m.\u001b[39mFilter, payload: \u001b[39mdict\u001b[39m, point_id: models\u001b[39m.\u001b[39mExtendedPointId\n\u001b[0;32m    176\u001b[0m ) \u001b[39m-\u001b[39m\u001b[39m>\u001b[39m \u001b[39mbool\u001b[39m:\n\u001b[1;32m--> 177\u001b[0m     \u001b[39mif\u001b[39;00m payload_filter\u001b[39m.\u001b[39;49mmust \u001b[39mis\u001b[39;00m \u001b[39mnot\u001b[39;00m \u001b[39mNone\u001b[39;00m:\n\u001b[0;32m    178\u001b[0m         \u001b[39mif\u001b[39;00m \u001b[39mnot\u001b[39;00m check_must(payload_filter\u001b[39m.\u001b[39mmust, payload, point_id):\n\u001b[0;32m    179\u001b[0m             \u001b[39mreturn\u001b[39;00m \u001b[39mFalse\u001b[39;00m\n",
      "\u001b[1;31mAttributeError\u001b[0m: 'dict' object has no attribute 'must'"
     ]
    }
   ],
   "source": [
    "retriver = vectorstore.as_retriever(\n",
    "    search_type=\"mmr\",\n",
    "    search_kwargs={\n",
    "        \"filter\": {'genre': 'anime'}, \n",
    "        \"score_threshold\": None,\n",
    "        \"fetch_k\": 50,\n",
    "        \"lambda_mult\": 0.5,  # 多樣性，越低越多樣 (diverse)\n",
    "        \"k\": 3,\n",
    "        # More kwargs for `Qdrant.similarity_search` or `QdrantClient.search` like `consistency`, ...\n",
    "    },\n",
    ")\n",
    "pprint_documents(retriver.get_relevant_documents(\"神曲\"))"
   ]
  },
  {
   "cell_type": "markdown",
   "metadata": {},
   "source": [
    "## 1.3 Similarity Score Threshold (相似度分數閥值)"
   ]
  },
  {
   "cell_type": "markdown",
   "metadata": {},
   "source": [
    "想要抽取 (retreive) 不固定的數量的文件 (documents)，其實就是把 `k` 設非常大，其就只會靠 `score_threshold` 來挑選了"
   ]
  },
  {
   "cell_type": "code",
   "execution_count": 4,
   "metadata": {},
   "outputs": [
    {
     "name": "stdout",
     "output_type": "stream",
     "text": [
      "Document 1:\n",
      "\n",
      "ふわふわる ふわふわり\n",
      "\n",
      "Metadata:{'genre': 'anime', 'name': '戀愛循環'}\n",
      "----------------------------------------------------------------------------------------------------\n",
      "Document 2:\n",
      "\n",
      "你指尖躍動的電光，是我此生不變的信仰，唯我超電磁砲永世長存\n",
      "\n",
      "Metadata:{'character': '御坂美琴', 'genre': 'anime'}\n",
      "----------------------------------------------------------------------------------------------------\n",
      "Document 3:\n",
      "\n",
      "magia\n",
      "\n",
      "Metadata:{'genre': 'anime', 'singer': 'Kalafina', 'source': '魔法少女まどか☆マギカ'}\n",
      "----------------------------------------------------------------------------------------------------\n",
      "Document 4:\n",
      "\n",
      "Knock Knock Knocking on u r heart\n",
      "\n",
      "Metadata:{}\n"
     ]
    }
   ],
   "source": [
    "retriever = vectorstore.as_retriever(\n",
    "    search_type=\"similarity\",  # default\n",
    "    search_kwargs={\n",
    "        \"score_threshold\": 0.72,  \n",
    "        \"k\": 9999,\n",
    "        # More kwargs for `Qdrant.similarity_search` or `QdrantClient.search` like `offset`, `consistency`, ...\n",
    "    },\n",
    ")\n",
    "pprint_documents(retriever.get_relevant_documents(\"神曲\"))"
   ]
  },
  {
   "cell_type": "code",
   "execution_count": 5,
   "metadata": {},
   "outputs": [
    {
     "name": "stdout",
     "output_type": "stream",
     "text": [
      "ふわふわる ふわふわり 0.7890049945006924\n",
      "你指尖躍動的電光，是我此生不變的信仰，唯我超電磁砲永世長存 0.7731011271614837\n",
      "magia 0.7585180099997237\n",
      "Knock Knock Knocking on u r heart 0.7285625185885174\n",
      "烏龍茶是可燃的 0.7183404786994874\n",
      "Deja vu! I've just been in this place before 0.7022273482632053\n"
     ]
    }
   ],
   "source": [
    "result = vectorstore.similarity_search_with_relevance_scores('神曲', k=100)\n",
    "for document, score in result:\n",
    "    print(document.page_content, score)"
   ]
  },
  {
   "cell_type": "markdown",
   "metadata": {},
   "source": [
    "# 其他不同的 Retriever\n",
    "雖然藉由比較向量相似度算出相關性分數的 Embedding-based Retrieval 是主流，但其實還有很多不同的算法。而之後也會介紹到我們並不是只能挑一種算法...\n",
    "|           | 判斷相似的依據      | 速度 | 例如                      |\n",
    "|-----------|---------------------|------|---------------------------|\n",
    "| lexical   | 表面文面            | 快   | 關鍵字搜尋、BM25          |\n",
    "| semantics | 深層語意            | 中   | Embedding-based Retrieval |\n",
    "| cross     | 表面文面 + 深層語意 | 慢   | cross-encoder             |"
   ]
  },
  {
   "cell_type": "code",
   "execution_count": 6,
   "metadata": {},
   "outputs": [],
   "source": [
    "# 單靠詞彙的統計來抽取 (retrieve) 的演算法\n",
    "from langchain.retrievers import BM25Retriever, TFIDFRetriever\n",
    "\n",
    "# 其他依靠向量的抽取 (retrieve) 演算法\n",
    "from langchain.retrievers import KNNRetriever, SVMRetriever\n",
    "\n",
    "# 針對某些現成服務製作的現成 retriever\n",
    "from langchain.retrievers import ArxivRetriever, GoogleCloudEnterpriseSearchRetriever"
   ]
  }
 ],
 "metadata": {
  "kernelspec": {
   "display_name": "Python 3",
   "language": "python",
   "name": "python3"
  },
  "language_info": {
   "codemirror_mode": {
    "name": "ipython",
    "version": 3
   },
   "file_extension": ".py",
   "mimetype": "text/x-python",
   "name": "python",
   "nbconvert_exporter": "python",
   "pygments_lexer": "ipython3",
   "version": "3.10.12"
  },
  "orig_nbformat": 4
 },
 "nbformat": 4,
 "nbformat_minor": 2
}
